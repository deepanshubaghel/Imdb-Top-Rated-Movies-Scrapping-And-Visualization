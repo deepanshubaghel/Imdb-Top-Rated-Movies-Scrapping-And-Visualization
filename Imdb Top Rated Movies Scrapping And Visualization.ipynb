{
 "cells": [
  {
   "cell_type": "code",
   "execution_count": null,
   "id": "c2e38a5e",
   "metadata": {},
   "outputs": [],
   "source": [
    "from bs4 import BeautifulSoup\n",
    "import requests\n",
    "import pandas as pd\n",
    "import re\n",
    "import matplotlib.pyplot as plt\n",
    "import seaborn as sns\n",
    "import plotly.express as px\n",
    "import plotly.graph_objects as go"
   ]
  },
  {
   "cell_type": "code",
   "execution_count": null,
   "id": "0728ccb0",
   "metadata": {},
   "outputs": [],
   "source": [
    "# setting the User-Agent header is important for web scraping to avoid detection and blocking by websites\n",
    "headers = {\n",
    "        'User-Agent': 'Mozilla/5.0 (Windows NT 10.0; Win64; x64) AppleWebKit/537.36 (KHTML, like Gecko) Chrome/58.0.3029.110 Safari/537.36'\n",
    "    }"
   ]
  },
  {
   "cell_type": "code",
   "execution_count": null,
   "id": "202eb027",
   "metadata": {},
   "outputs": [],
   "source": [
    "url = 'https://www.imdb.com/chart/top/'"
   ]
  },
  {
   "cell_type": "code",
   "execution_count": null,
   "id": "7a38a2d8",
   "metadata": {},
   "outputs": [],
   "source": [
    "page = requests.get(url, headers=headers)"
   ]
  },
  {
   "cell_type": "code",
   "execution_count": null,
   "id": "14600630",
   "metadata": {},
   "outputs": [],
   "source": [
    "# page.content"
   ]
  },
  {
   "cell_type": "code",
   "execution_count": null,
   "id": "bc6a3de9",
   "metadata": {},
   "outputs": [],
   "source": [
    "soup = BeautifulSoup(page.content, \"html.parser\")"
   ]
  },
  {
   "cell_type": "code",
   "execution_count": null,
   "id": "a3ffe914",
   "metadata": {},
   "outputs": [],
   "source": [
    "scraped_movies = soup.find_all('div', class_='ipc-title ipc-title--base ipc-title--title ipc-title-link-no-icon ipc-title--on-textPrimary sc-b0691f29-9 klOwFB cli-title')\n",
    "# scraped_movies"
   ]
  },
  {
   "cell_type": "code",
   "execution_count": null,
   "id": "52ecffbe",
   "metadata": {},
   "outputs": [],
   "source": [
    "movies = []\n",
    "for movie in scraped_movies:\n",
    "    movie = movie.get_text().replace('\\n', \"\")\n",
    "    movie = movie.strip(\" \")\n",
    "    movies.append(movie)\n",
    "# movies"
   ]
  },
  {
   "cell_type": "code",
   "execution_count": null,
   "id": "e2e44005",
   "metadata": {},
   "outputs": [],
   "source": [
    "scraped_ratings = soup.find_all('span', class_= 'sc-b0691f29-1 grHDBY')"
   ]
  },
  {
   "cell_type": "code",
   "execution_count": null,
   "id": "13dcd949",
   "metadata": {},
   "outputs": [],
   "source": [
    "ratings = []\n",
    "for rating in scraped_ratings:\n",
    "    rating = rating.get_text()[:3]\n",
    "    ratings.append(rating)\n",
    "# ratings"
   ]
  },
  {
   "cell_type": "code",
   "execution_count": null,
   "id": "4cf9a579",
   "metadata": {},
   "outputs": [],
   "source": [
    "scraped_voting = soup.find_all('span', class_= 'ipc-rating-star--voteCount')\n",
    "votings = []\n",
    "for voting in scraped_voting:\n",
    "    voting = voting.get_text()[2:7:1].replace(')',\"\")\n",
    "    voting = voting.replace('M','')\n",
    "    voting = voting.replace('K','')\n",
    "    votings.append(voting)\n",
    "# votings\n",
    "# for voting in scraped_voting:\n",
    "#     numeric_part = re.search(r'\\d+', voting.get_text()).group()\n",
    "#     votings.append(int(numeric_part))"
   ]
  },
  {
   "cell_type": "code",
   "execution_count": null,
   "id": "287fb4d0",
   "metadata": {},
   "outputs": [],
   "source": [
    "scraped_year = soup.find_all('span', class_= 'sc-b0691f29-8 ilsLEX cli-title-metadata-item')\n",
    "years = []\n",
    "for year in scraped_year:\n",
    "    text = year.get_text()\n",
    "    match = re.search(r'\\b(19|20)\\d{2}\\b', text)\n",
    "    if match:\n",
    "        years.append(match.group())\n",
    "# years"
   ]
  },
  {
   "cell_type": "code",
   "execution_count": null,
   "id": "4fc815be",
   "metadata": {},
   "outputs": [],
   "source": [
    "# scraped_duration = soup.find_all('span', class_=\"sc-b0691f29-8 ilsLEX cli-title-metadata-item\")\n",
    "# durations = []\n",
    "# for duration in scraped_duration:\n",
    "#     text = duration.get_text()\n",
    "#     match = re.search(r'\\b([0-9]+)h ([0-9]+)m\\b', text)\n",
    "#     if match:\n",
    "#         durations.append(match.group())\n",
    "# # durations"
   ]
  },
  {
   "cell_type": "code",
   "execution_count": null,
   "id": "7cae32da",
   "metadata": {},
   "outputs": [],
   "source": [
    "data = pd.DataFrame()\n",
    "data['Movie Names'] = movies\n",
    "data['Ratings'] = ratings\n",
    "data['Votings'] = votings\n",
    "data['Release Year'] = years\n",
    "# data['Duration'] = pd.Series(durations)\n",
    "data.head()\n",
    "# print(data)"
   ]
  },
  {
   "cell_type": "code",
   "execution_count": null,
   "id": "078c8586",
   "metadata": {},
   "outputs": [],
   "source": []
  },
  {
   "cell_type": "code",
   "execution_count": null,
   "id": "793b92b8",
   "metadata": {},
   "outputs": [],
   "source": [
    "data.to_csv('D:/Movies Info Scrapping/IMDB Top Movies.csv', index=False)\n",
    "print(\"File saved successfully\")"
   ]
  },
  {
   "cell_type": "markdown",
   "id": "e39240ac",
   "metadata": {},
   "source": [
    "### Data Cleaning"
   ]
  },
  {
   "cell_type": "code",
   "execution_count": null,
   "id": "88aa19ca",
   "metadata": {},
   "outputs": [],
   "source": [
    "data['Ratings'] = data['Ratings'].astype(float)\n",
    "data['Votings'] = data['Votings'].astype(float)\n",
    "data['Release Year'] = pd.to_numeric(data['Release Year'], errors='coerce')\n",
    "data = data.dropna()\n",
    "data.head()"
   ]
  },
  {
   "cell_type": "code",
   "execution_count": null,
   "id": "610a96c1",
   "metadata": {},
   "outputs": [],
   "source": [
    "data.to_csv('D:/Movies Info Scrapping/IMDB Top Movies.csv', index=False)\n",
    "print(\"File saved successfully\")"
   ]
  },
  {
   "cell_type": "markdown",
   "id": "4e4688a2",
   "metadata": {},
   "source": [
    "## Data Analysis and Visualization"
   ]
  },
  {
   "cell_type": "markdown",
   "id": "fe4341d1",
   "metadata": {},
   "source": [
    "### Distribution of Votings"
   ]
  },
  {
   "cell_type": "code",
   "execution_count": null,
   "id": "f7872273",
   "metadata": {},
   "outputs": [],
   "source": [
    "plt.figure(figsize=(10, 6))\n",
    "sns.histplot(data['Votings'], kde=True, color='black')\n",
    "plt.title('Distribution of Votings')\n",
    "plt.xlabel('Votings')\n",
    "plt.ylabel('Frequency')\n",
    "plt.show()"
   ]
  },
  {
   "cell_type": "code",
   "execution_count": null,
   "id": "f5f6e17c",
   "metadata": {},
   "outputs": [],
   "source": [
    "# fig = px.histogram(data, x='Votings', nbins=10, title='Distribution of Votings')\n",
    "# fig.update_layout(xaxis_title='Votings', yaxis_title='Frequency')\n",
    "# fig.show()"
   ]
  },
  {
   "cell_type": "code",
   "execution_count": null,
   "id": "f5df5d41",
   "metadata": {},
   "outputs": [],
   "source": [
    "# plt.hist(data['Votings'], bins=10, edgecolor='black')\n",
    "# plt.title('Distribution of Votings')\n",
    "# plt.xlabel('Votings')\n",
    "# plt.ylabel('Frequency')\n",
    "# plt.show()"
   ]
  },
  {
   "cell_type": "markdown",
   "id": "65cea6ee",
   "metadata": {},
   "source": [
    "### Distribution of Ratings"
   ]
  },
  {
   "cell_type": "code",
   "execution_count": null,
   "id": "3893e0fe",
   "metadata": {
    "scrolled": true
   },
   "outputs": [],
   "source": [
    "fig = px.histogram(data, x='Ratings', nbins=100, range_x=[0,10], title='Distribution of Ratings')\n",
    "fig.update_layout(xaxis_title='Ratings', yaxis_title='Frequency')\n",
    "fig.show()"
   ]
  },
  {
   "cell_type": "code",
   "execution_count": null,
   "id": "9e4fee8d",
   "metadata": {},
   "outputs": [],
   "source": [
    "# plt.hist(data['Ratings'], bins=10, edgecolor='black')\n",
    "# plt.title('Distribution of Ratings')\n",
    "# plt.xlabel('Ratings')\n",
    "# plt.ylabel('Frequency')\n",
    "# plt.show()"
   ]
  },
  {
   "cell_type": "markdown",
   "id": "1c4fa253",
   "metadata": {},
   "source": [
    "### Movies by Release Year"
   ]
  },
  {
   "cell_type": "code",
   "execution_count": null,
   "id": "871ba442",
   "metadata": {},
   "outputs": [],
   "source": [
    "fig = px.histogram(data, x='Release Year', nbins=100, title='Movies by Release Year')\n",
    "fig.update_layout(title=\"Movies by Release Year\",xaxis_title='Release Year', yaxis_title='Frequency')\n",
    "fig.show()"
   ]
  },
  {
   "cell_type": "code",
   "execution_count": null,
   "id": "e17dbae3",
   "metadata": {},
   "outputs": [],
   "source": [
    "# plt.hist(data['Release Year'], bins=100, edgecolor='black')\n",
    "# plt.title('Movies by Release Year')\n",
    "# plt.xlabel('Release Year')\n",
    "# plt.ylabel('Frequency')\n",
    "# plt.show()"
   ]
  },
  {
   "cell_type": "markdown",
   "id": "2a261922",
   "metadata": {},
   "source": [
    "### Interactive Scatter Plot of Ratings vs. Votings"
   ]
  },
  {
   "cell_type": "code",
   "execution_count": null,
   "id": "50e2f9ad",
   "metadata": {},
   "outputs": [],
   "source": [
    "fig = px.scatter(data, x='Ratings', y='Movie Names', title='Ratings vs. Votings')\n",
    "fig.update_layout(xaxis_title='Ratings', yaxis_title='Movies')\n",
    "fig.show()"
   ]
  },
  {
   "cell_type": "markdown",
   "id": "0db7c674",
   "metadata": {},
   "source": [
    "### 3D Scatter Plot of Ratings vs. Votings vs. Release Year"
   ]
  },
  {
   "cell_type": "code",
   "execution_count": null,
   "id": "bb983dac",
   "metadata": {},
   "outputs": [],
   "source": [
    "fig = go.Figure(data=[go.Scatter3d(x=data['Ratings'], y=data['Movie Names'], z=data['Release Year'], mode='markers', \n",
    "                                   marker=dict(size=5, color='red', opacity=0.8))])\n",
    "fig.update_layout(title='Ratings vs. Movie Name vs. Release Year', \n",
    "                  scene=dict(xaxis_title='Ratings', yaxis_title='Votings', zaxis_title='Release Year'))\n",
    "fig.show()"
   ]
  },
  {
   "cell_type": "code",
   "execution_count": null,
   "id": "88a611a9",
   "metadata": {},
   "outputs": [],
   "source": []
  },
  {
   "cell_type": "code",
   "execution_count": null,
   "id": "084fdda5",
   "metadata": {},
   "outputs": [],
   "source": []
  },
  {
   "cell_type": "code",
   "execution_count": null,
   "id": "7bd3cf41",
   "metadata": {},
   "outputs": [],
   "source": []
  },
  {
   "cell_type": "code",
   "execution_count": null,
   "id": "6c0ddff6",
   "metadata": {},
   "outputs": [],
   "source": []
  },
  {
   "cell_type": "code",
   "execution_count": null,
   "id": "1033a7b7",
   "metadata": {},
   "outputs": [],
   "source": []
  },
  {
   "cell_type": "code",
   "execution_count": null,
   "id": "40f29168",
   "metadata": {},
   "outputs": [],
   "source": []
  },
  {
   "cell_type": "markdown",
   "id": "f6e736b7",
   "metadata": {},
   "source": [
    "In the for loop where we extract the movie titles, we use the replace() method to remove any newline characters and leading/trailing whitespace from the text.\n",
    "In the for loop where we extract the ratings, we use slicing to extract only the first three characters (i.e., the rating value) from the text.\n",
    "In the for loop where we extract the votings, we use regular expressions to extract the numeric part of the text and convert it to an integer.\n",
    "In the for loop where we extract the release years, we use regular expressions to extract the four-digit year value from the text.\n",
    "In the seaborn histogram of the votings, we use the kde=True argument to plot a kernel density estimate (KDE) curve along with the histogram.\n",
    "In the plotly histogram of the ratings, we use the nbins=100 argument to specify the number of bins in the histogram.\n",
    "In the plotly histogram of the release years, we use the nbins=100 argument to specify the number of bins in the histogram.\n",
    "In the plotly scatter plot of the ratings vs. votings, we use the title argument to add a title to the plot.\n",
    "In the plotly 3D scatter plot of the ratings vs. votings vs. release year, we use the scene argument to specify the x, y, and z axis labels."
   ]
  }
 ],
 "metadata": {
  "kernelspec": {
   "display_name": "Python 3 (ipykernel)",
   "language": "python",
   "name": "python3"
  },
  "language_info": {
   "codemirror_mode": {
    "name": "ipython",
    "version": 3
   },
   "file_extension": ".py",
   "mimetype": "text/x-python",
   "name": "python",
   "nbconvert_exporter": "python",
   "pygments_lexer": "ipython3",
   "version": "3.11.5"
  }
 },
 "nbformat": 4,
 "nbformat_minor": 5
}
