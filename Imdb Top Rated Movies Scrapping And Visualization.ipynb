{
 "cells": [
  {
   "cell_type": "code",
   "execution_count": 55,
   "id": "c2e38a5e",
   "metadata": {},
   "outputs": [],
   "source": [
    "from bs4 import BeautifulSoup\n",
    "import requests\n",
    "import pandas as pd\n",
    "import re\n",
    "import matplotlib.pyplot as plt\n",
    "import seaborn as sns\n",
    "import plotly.express as px\n",
    "import plotly.graph_objects as go"
   ]
  },
  {
   "cell_type": "code",
   "execution_count": 56,
   "id": "0728ccb0",
   "metadata": {},
   "outputs": [],
   "source": [
    "# setting the User-Agent header is important for web scraping to avoid detection and blocking by websites\n",
    "headers = {\n",
    "        'User-Agent': 'Mozilla/5.0 (Windows NT 10.0; Win64; x64) AppleWebKit/537.36 (KHTML, like Gecko) Chrome/58.0.3029.110 Safari/537.36'\n",
    "    }"
   ]
  },
  {
   "cell_type": "code",
   "execution_count": 57,
   "id": "202eb027",
   "metadata": {},
   "outputs": [],
   "source": [
    "url = 'https://www.imdb.com/chart/top/'"
   ]
  },
  {
   "cell_type": "code",
   "execution_count": 58,
   "id": "7a38a2d8",
   "metadata": {},
   "outputs": [],
   "source": [
    "page = requests.get(url, headers=headers)"
   ]
  },
  {
   "cell_type": "code",
   "execution_count": 59,
   "id": "14600630",
   "metadata": {},
   "outputs": [],
   "source": [
    "# page.content"
   ]
  },
  {
   "cell_type": "code",
   "execution_count": 60,
   "id": "bc6a3de9",
   "metadata": {},
   "outputs": [],
   "source": [
    "soup = BeautifulSoup(page.content, \"html.parser\")"
   ]
  },
  {
   "cell_type": "code",
   "execution_count": 61,
   "id": "a3ffe914",
   "metadata": {},
   "outputs": [],
   "source": [
    "scraped_movies = soup.find_all('div', class_='ipc-title ipc-title--base ipc-title--title ipc-title-link-no-icon ipc-title--on-textPrimary sc-b0691f29-9 klOwFB cli-title')\n",
    "# scraped_movies"
   ]
  },
  {
   "cell_type": "code",
   "execution_count": 62,
   "id": "52ecffbe",
   "metadata": {},
   "outputs": [],
   "source": [
    "movies = []\n",
    "for movie in scraped_movies:\n",
    "    movie = movie.get_text().replace('\\n', \"\")\n",
    "    movie = movie.strip(\" \")\n",
    "    movies.append(movie)\n",
    "# movies"
   ]
  },
  {
   "cell_type": "code",
   "execution_count": 63,
   "id": "e2e44005",
   "metadata": {},
   "outputs": [],
   "source": [
    "scraped_ratings = soup.find_all('span', class_= 'sc-b0691f29-1 grHDBY')"
   ]
  },
  {
   "cell_type": "code",
   "execution_count": 64,
   "id": "13dcd949",
   "metadata": {},
   "outputs": [],
   "source": [
    "ratings = []\n",
    "for rating in scraped_ratings:\n",
    "    rating = rating.get_text()[:3]\n",
    "    ratings.append(rating)\n",
    "# ratings"
   ]
  },
  {
   "cell_type": "code",
   "execution_count": 65,
   "id": "4cf9a579",
   "metadata": {},
   "outputs": [],
   "source": [
    "scraped_voting = soup.find_all('span', class_= 'ipc-rating-star--voteCount')\n",
    "votings = []\n",
    "for voting in scraped_voting:\n",
    "    voting = voting.get_text()[2:7:1].replace(')',\"\")\n",
    "    voting = voting.replace('M','')\n",
    "    voting = voting.replace('K','')\n",
    "    votings.append(voting)\n",
    "# votings\n",
    "# for voting in scraped_voting:\n",
    "#     numeric_part = re.search(r'\\d+', voting.get_text()).group()\n",
    "#     votings.append(int(numeric_part))"
   ]
  },
  {
   "cell_type": "code",
   "execution_count": 66,
   "id": "287fb4d0",
   "metadata": {},
   "outputs": [],
   "source": [
    "scraped_year = soup.find_all('span', class_= 'sc-b0691f29-8 ilsLEX cli-title-metadata-item')\n",
    "years = []\n",
    "for year in scraped_year:\n",
    "    text = year.get_text()\n",
    "    match = re.search(r'\\b(19|20)\\d{2}\\b', text)\n",
    "    if match:\n",
    "        years.append(match.group())\n",
    "# years"
   ]
  },
  {
   "cell_type": "code",
   "execution_count": 67,
   "id": "4fc815be",
   "metadata": {},
   "outputs": [],
   "source": [
    "# scraped_duration = soup.find_all('span', class_=\"sc-b0691f29-8 ilsLEX cli-title-metadata-item\")\n",
    "# durations = []\n",
    "# for duration in scraped_duration:\n",
    "#     text = duration.get_text()\n",
    "#     match = re.search(r'\\b([0-9]+)h ([0-9]+)m\\b', text)\n",
    "#     if match:\n",
    "#         durations.append(match.group())\n",
    "# # durations"
   ]
  },
  {
   "cell_type": "code",
   "execution_count": 68,
   "id": "7cae32da",
   "metadata": {},
   "outputs": [
    {
     "data": {
      "text/html": [
       "<div>\n",
       "<style scoped>\n",
       "    .dataframe tbody tr th:only-of-type {\n",
       "        vertical-align: middle;\n",
       "    }\n",
       "\n",
       "    .dataframe tbody tr th {\n",
       "        vertical-align: top;\n",
       "    }\n",
       "\n",
       "    .dataframe thead th {\n",
       "        text-align: right;\n",
       "    }\n",
       "</style>\n",
       "<table border=\"1\" class=\"dataframe\">\n",
       "  <thead>\n",
       "    <tr style=\"text-align: right;\">\n",
       "      <th></th>\n",
       "      <th>Movie Names</th>\n",
       "      <th>Ratings</th>\n",
       "      <th>Votings</th>\n",
       "      <th>Release Year</th>\n",
       "    </tr>\n",
       "  </thead>\n",
       "  <tbody>\n",
       "    <tr>\n",
       "      <th>0</th>\n",
       "      <td>1. The Shawshank Redemption</td>\n",
       "      <td>9.3</td>\n",
       "      <td>2.9</td>\n",
       "      <td>1994</td>\n",
       "    </tr>\n",
       "    <tr>\n",
       "      <th>1</th>\n",
       "      <td>2. The Godfather</td>\n",
       "      <td>9.2</td>\n",
       "      <td>2</td>\n",
       "      <td>1972</td>\n",
       "    </tr>\n",
       "    <tr>\n",
       "      <th>2</th>\n",
       "      <td>3. The Dark Knight</td>\n",
       "      <td>9.0</td>\n",
       "      <td>2.9</td>\n",
       "      <td>2008</td>\n",
       "    </tr>\n",
       "    <tr>\n",
       "      <th>3</th>\n",
       "      <td>4. The Godfather: Part II</td>\n",
       "      <td>9.0</td>\n",
       "      <td>1.4</td>\n",
       "      <td>1974</td>\n",
       "    </tr>\n",
       "    <tr>\n",
       "      <th>4</th>\n",
       "      <td>5. 12 Angry Men</td>\n",
       "      <td>9.0</td>\n",
       "      <td>862</td>\n",
       "      <td>1957</td>\n",
       "    </tr>\n",
       "  </tbody>\n",
       "</table>\n",
       "</div>"
      ],
      "text/plain": [
       "                   Movie Names Ratings Votings Release Year\n",
       "0  1. The Shawshank Redemption     9.3     2.9         1994\n",
       "1             2. The Godfather     9.2       2         1972\n",
       "2           3. The Dark Knight     9.0     2.9         2008\n",
       "3    4. The Godfather: Part II     9.0     1.4         1974\n",
       "4              5. 12 Angry Men     9.0     862         1957"
      ]
     },
     "execution_count": 68,
     "metadata": {},
     "output_type": "execute_result"
    }
   ],
   "source": [
    "data = pd.DataFrame()\n",
    "data['Movie Names'] = movies\n",
    "data['Ratings'] = ratings\n",
    "data['Votings'] = votings\n",
    "data['Release Year'] = years\n",
    "# data['Duration'] = pd.Series(durations)\n",
    "data.head()\n",
    "# print(data)"
   ]
  },
  {
   "cell_type": "code",
   "execution_count": null,
   "id": "078c8586",
   "metadata": {},
   "outputs": [],
   "source": []
  },
  {
   "cell_type": "code",
   "execution_count": 69,
   "id": "793b92b8",
   "metadata": {},
   "outputs": [
    {
     "name": "stdout",
     "output_type": "stream",
     "text": [
      "File saved successfully\n"
     ]
    }
   ],
   "source": [
    "data.to_csv('D:/Movies Info Scrapping/IMDB Top Movies.csv', index=False)\n",
    "print(\"File saved successfully\")"
   ]
  },
  {
   "cell_type": "markdown",
   "id": "e39240ac",
   "metadata": {},
   "source": [
    "### Data Cleaning"
   ]
  },
  {
   "cell_type": "code",
   "execution_count": 70,
   "id": "88aa19ca",
   "metadata": {},
   "outputs": [
    {
     "data": {
      "text/html": [
       "<div>\n",
       "<style scoped>\n",
       "    .dataframe tbody tr th:only-of-type {\n",
       "        vertical-align: middle;\n",
       "    }\n",
       "\n",
       "    .dataframe tbody tr th {\n",
       "        vertical-align: top;\n",
       "    }\n",
       "\n",
       "    .dataframe thead th {\n",
       "        text-align: right;\n",
       "    }\n",
       "</style>\n",
       "<table border=\"1\" class=\"dataframe\">\n",
       "  <thead>\n",
       "    <tr style=\"text-align: right;\">\n",
       "      <th></th>\n",
       "      <th>Movie Names</th>\n",
       "      <th>Ratings</th>\n",
       "      <th>Votings</th>\n",
       "      <th>Release Year</th>\n",
       "    </tr>\n",
       "  </thead>\n",
       "  <tbody>\n",
       "    <tr>\n",
       "      <th>0</th>\n",
       "      <td>1. The Shawshank Redemption</td>\n",
       "      <td>9.3</td>\n",
       "      <td>2.9</td>\n",
       "      <td>1994</td>\n",
       "    </tr>\n",
       "    <tr>\n",
       "      <th>1</th>\n",
       "      <td>2. The Godfather</td>\n",
       "      <td>9.2</td>\n",
       "      <td>2.0</td>\n",
       "      <td>1972</td>\n",
       "    </tr>\n",
       "    <tr>\n",
       "      <th>2</th>\n",
       "      <td>3. The Dark Knight</td>\n",
       "      <td>9.0</td>\n",
       "      <td>2.9</td>\n",
       "      <td>2008</td>\n",
       "    </tr>\n",
       "    <tr>\n",
       "      <th>3</th>\n",
       "      <td>4. The Godfather: Part II</td>\n",
       "      <td>9.0</td>\n",
       "      <td>1.4</td>\n",
       "      <td>1974</td>\n",
       "    </tr>\n",
       "    <tr>\n",
       "      <th>4</th>\n",
       "      <td>5. 12 Angry Men</td>\n",
       "      <td>9.0</td>\n",
       "      <td>862.0</td>\n",
       "      <td>1957</td>\n",
       "    </tr>\n",
       "  </tbody>\n",
       "</table>\n",
       "</div>"
      ],
      "text/plain": [
       "                   Movie Names  Ratings  Votings  Release Year\n",
       "0  1. The Shawshank Redemption      9.3      2.9          1994\n",
       "1             2. The Godfather      9.2      2.0          1972\n",
       "2           3. The Dark Knight      9.0      2.9          2008\n",
       "3    4. The Godfather: Part II      9.0      1.4          1974\n",
       "4              5. 12 Angry Men      9.0    862.0          1957"
      ]
     },
     "execution_count": 70,
     "metadata": {},
     "output_type": "execute_result"
    }
   ],
   "source": [
    "data['Ratings'] = data['Ratings'].astype(float)\n",
    "data['Votings'] = data['Votings'].astype(float)\n",
    "data['Release Year'] = pd.to_numeric(data['Release Year'], errors='coerce')\n",
    "data = data.dropna()\n",
    "data.head()"
   ]
  },
  {
   "cell_type": "code",
   "execution_count": 71,
   "id": "610a96c1",
   "metadata": {},
   "outputs": [
    {
     "name": "stdout",
     "output_type": "stream",
     "text": [
      "File saved successfully\n"
     ]
    }
   ],
   "source": [
    "data.to_csv('D:/Movies Info Scrapping/IMDB Top Movies.csv', index=False)\n",
    "print(\"File saved successfully\")"
   ]
  },
  {
   "cell_type": "markdown",
   "id": "4e4688a2",
   "metadata": {},
   "source": [
    "## Data Analysis and Visualization"
   ]
  },
  {
   "cell_type": "markdown",
   "id": "fe4341d1",
   "metadata": {},
   "source": [
    "### Distribution of Votings"
   ]
  },
  {
   "cell_type": "code",
   "execution_count": 72,
   "id": "f7872273",
   "metadata": {},
   "outputs": [
    {
     "data": {
      "image/png": "[encoded data removed]",
      "text/plain": [
       "<Figure size 1000x600 with 1 Axes>"
      ]
     },
     "metadata": {},
     "output_type": "display_data"
    }
   ],
   "source": [
    "plt.figure(figsize=(10, 6))\n",
    "sns.histplot(data['Votings'], kde=True, color='black')\n",
    "plt.title('Distribution of Votings')\n",
    "plt.xlabel('Votings')\n",
    "plt.ylabel('Frequency')\n",
    "plt.show()"
   ]
  },
  {
   "cell_type": "code",
   "execution_count": 73,
   "id": "f5f6e17c",
   "metadata": {},
   "outputs": [],
   "source": [
    "# fig = px.histogram(data, x='Votings', nbins=10, title='Distribution of Votings')\n",
    "# fig.update_layout(xaxis_title='Votings', yaxis_title='Frequency')\n",
    "# fig.show()"
   ]
  },
  {
   "cell_type": "code",
   "execution_count": 74,
   "id": "f5df5d41",
   "metadata": {},
   "outputs": [],
   "source": [
    "# plt.hist(data['Votings'], bins=10, edgecolor='black')\n",
    "# plt.title('Distribution of Votings')\n",
    "# plt.xlabel('Votings')\n",
    "# plt.ylabel('Frequency')\n",
    "# plt.show()"
   ]
  },
  {
   "cell_type": "markdown",
   "id": "65cea6ee",
   "metadata": {},
   "source": [
    "### Distribution of Ratings"
   ]
  },
  {
   "cell_type": "code",
   "execution_count": 75,
   "id": "3893e0fe",
   "metadata": {
    "scrolled": true
   },
   "outputs": [
    {
     "data": {
      "application/vnd.plotly.v1+json": {
       "config": {
        "plotlyServerURL": "https://plot.ly"
       },
       "data": [
        {
         "alignmentgroup": "True",
         "bingroup": "x",
         "hovertemplate": "Ratings=%{x}<br>count=%{y}<extra></extra>",
         "legendgroup": "",
         "marker": {
          "color": "#636efa",
          "pattern": {
           "shape": ""
          }
         },
         "name": "",
         "nbinsx": 100,
         "offsetgroup": "",
         "orientation": "v",
         "showlegend": false,
         "type": "histogram",
         "x": [
          9.3,
          9.2,
          9,
          9,
          9,
          9,
          9,
          8.9,
          8.9,
          8.8,
          8.8,
          8.8,
          8.8,
          8.8,
          8.7,
          8.8,
          8.7,
          8.7,
          8.7,
          8.6,
          8.7,
          8.6,
          8.6,
          8.6,
          8.6,
          8.6,
          8.6,
          8.6,
          8.6,
          8.6,
          8.5,
          8.6,
          8.5,
          8.5,
          8.5,
          8.6,
          8.5,
          8.5,
          8.5,
          8.5,
          8.5,
          8.5,
          8.5,
          8.5,
          8.6,
          8.5,
          8.5,
          8.5,
          8.5,
          8.5,
          8.5,
          8.5,
          8.5,
          8.5,
          8.4,
          8.5,
          8.4,
          9,
          8.4,
          8.4,
          8.4,
          8.4,
          8.4,
          8.4,
          8.4,
          8.4,
          8.4,
          8.4,
          8.4,
          8.4,
          8.4,
          8.4,
          8.3,
          8.3,
          8.4,
          8.4,
          8.3,
          8.4,
          8.3,
          8.4,
          8.4,
          8.3,
          8.3,
          8.4,
          8.3,
          8.4,
          8.4,
          8.3,
          8.4,
          8.3,
          8.3,
          8.4,
          8.3,
          8.3,
          8.3,
          8.3,
          8.3,
          8.3,
          8.3,
          8.3,
          8.3,
          8.3,
          8.3,
          8.3,
          8.3,
          8.3,
          8.3,
          8.3,
          8.3,
          8.3,
          8.3,
          8.3,
          8.3,
          8.3,
          8.3,
          8.3,
          8.2,
          8.2,
          8.3,
          8.3,
          8.3,
          8.2,
          8.2,
          8.3,
          8.2,
          8.2,
          8.2,
          8.3,
          8.2,
          8.2,
          8.2,
          8.2,
          8.2,
          8.2,
          8.2,
          8.3,
          8.2,
          8.2,
          8.2,
          8.2,
          8.2,
          8.2,
          8.2,
          8.2,
          8.2,
          8.2,
          8.2,
          8.2,
          8.2,
          8.2,
          8.2,
          8.2,
          8.2,
          8.2,
          8.2,
          8.2,
          8.2,
          8.2,
          8.2,
          8.2,
          8.1,
          8.2,
          8.2,
          8.2,
          8.1,
          8.2,
          8.1,
          8.1,
          8.1,
          8.1,
          8.1,
          8.2,
          8.1,
          8.2,
          8.1,
          8.1,
          8.3,
          8.1,
          8.1,
          8.1,
          8.1,
          8.2,
          8.1,
          8.1,
          8.1,
          8.1,
          8.1,
          8.1,
          8.1,
          8.1,
          8.1,
          8.1,
          8.1,
          8.1,
          8.1,
          8.1,
          8.1,
          8.1,
          8.1,
          8.1,
          8.2,
          8.1,
          8.1,
          8.2,
          8.1,
          8.1,
          8.1,
          8.1,
          8.1,
          8.1,
          8.1,
          8.1,
          8.1,
          8.1,
          8.1,
          8.1,
          8.1,
          8.1,
          8.1,
          8.1,
          8.1,
          8.1,
          8.1,
          8.1,
          8.1,
          8.1,
          8.1,
          8.7,
          8.1,
          8.1,
          8.1,
          8,
          8.1,
          8.1,
          8.1,
          8.2,
          8.1,
          8.1,
          8.1,
          8.1,
          8,
          8.1,
          8.1,
          8.1,
          8.1,
          8.1,
          8.1,
          8,
          8,
          8.1
         ],
         "xaxis": "x",
         "yaxis": "y"
        }
       ],
       "layout": {
        "barmode": "relative",
        "legend": {
         "tracegroupgap": 0
        },
        "template": {
         "data": {
          "bar": [
           {
            "error_x": {
             "color": "#2a3f5f"
            },
            "error_y": {
             "color": "#2a3f5f"
            },
            "marker": {
             "line": {
              "color": "#E5ECF6",
              "width": 0.5
             },
             "pattern": {
              "fillmode": "overlay",
              "size": 10,
              "solidity": 0.2
             }
            },
            "type": "bar"
           }
          ],
          "barpolar": [
           {
            "marker": {
             "line": {
              "color": "#E5ECF6",
              "width": 0.5
             },
             "pattern": {
              "fillmode": "overlay",
              "size": 10,
              "solidity": 0.2
             }
            },
            "type": "barpolar"
           }
          ],
          "carpet": [
           {
            "aaxis": {
             "endlinecolor": "#2a3f5f",
             "gridcolor": "white",
             "linecolor": "white",
             "minorgridcolor": "white",
             "startlinecolor": "#2a3f5f"
            },
            "baxis": {
             "endlinecolor": "#2a3f5f",
             "gridcolor": "white",
             "linecolor": "white",
             "minorgridcolor": "white",
             "startlinecolor": "#2a3f5f"
            },
            "type": "carpet"
           }
          ],
          "choropleth": [
           {
            "colorbar": {
             "outlinewidth": 0,
             "ticks": ""
            },
            "type": "choropleth"
           }
          ],
          "contour": [
           {
            "colorbar": {
             "outlinewidth": 0,
             "ticks": ""
            },
            "colorscale": [
             [
              0,
              "#0d0887"
             ],
             [
              0.1111111111111111,
              "#46039f"
             ],
             [
              0.2222222222222222,
              "#7201a8"
             ],
             [
              0.3333333333333333,
              "#9c179e"
             ],
             [
              0.4444444444444444,
              "#bd3786"
             ],
             [
              0.5555555555555556,
              "#d8576b"
             ],
             [
              0.6666666666666666,
              "#ed7953"
             ],
             [
              0.7777777777777778,
              "#fb9f3a"
             ],
             [
              0.8888888888888888,
              "#fdca26"
             ],
             [
              1,
              "#f0f921"
             ]
            ],
            "type": "contour"
           }
          ],
          "contourcarpet": [
           {
            "colorbar": {
             "outlinewidth": 0,
             "ticks": ""
            },
            "type": "contourcarpet"
           }
          ],
          "heatmap": [
           {
            "colorbar": {
             "outlinewidth": 0,
             "ticks": ""
            },
            "colorscale": [
             [
              0,
              "#0d0887"
             ],
             [
              0.1111111111111111,
              "#46039f"
             ],
             [
              0.2222222222222222,
              "#7201a8"
             ],
             [
              0.3333333333333333,
              "#9c179e"
             ],
             [
              0.4444444444444444,
              "#bd3786"
             ],
             [
              0.5555555555555556,
              "#d8576b"
             ],
             [
              0.6666666666666666,
              "#ed7953"
             ],
             [
              0.7777777777777778,
              "#fb9f3a"
             ],
             [
              0.8888888888888888,
              "#fdca26"
             ],
             [
              1,
              "#f0f921"
             ]
            ],
            "type": "heatmap"
           }
          ],
          "heatmapgl": [
           {
            "colorbar": {
             "outlinewidth": 0,
             "ticks": ""
            },
            "colorscale": [
             [
              0,
              "#0d0887"
             ],
             [
              0.1111111111111111,
              "#46039f"
             ],
             [
              0.2222222222222222,
              "#7201a8"
             ],
             [
              0.3333333333333333,
              "#9c179e"
             ],
             [
              0.4444444444444444,
              "#bd3786"
             ],
             [
              0.5555555555555556,
              "#d8576b"
             ],
             [
              0.6666666666666666,
              "#ed7953"
             ],
             [
              0.7777777777777778,
              "#fb9f3a"
             ],
             [
              0.8888888888888888,
              "#fdca26"
             ],
             [
              1,
              "#f0f921"
             ]
            ],
            "type": "heatmapgl"
           }
          ],
          "histogram": [
           {
            "marker": {
             "pattern": {
              "fillmode": "overlay",
              "size": 10,
              "solidity": 0.2
             }
            },
            "type": "histogram"
           }
          ],
          "histogram2d": [
           {
            "colorbar": {
             "outlinewidth": 0,
             "ticks": ""
            },
            "colorscale": [
             [
              0,
              "#0d0887"
             ],
             [
              0.1111111111111111,
              "#46039f"
             ],
             [
              0.2222222222222222,
              "#7201a8"
             ],
             [
              0.3333333333333333,
              "#9c179e"
             ],
             [
              0.4444444444444444,
              "#bd3786"
             ],
             [
              0.5555555555555556,
              "#d8576b"
             ],
             [
              0.6666666666666666,
              "#ed7953"
             ],
             [
              0.7777777777777778,
              "#fb9f3a"
             ],
             [
              0.8888888888888888,
              "#fdca26"
             ],
             [
              1,
              "#f0f921"
             ]
            ],
            "type": "histogram2d"
           }
          ],
          "histogram2dcontour": [
           {
            "colorbar": {
             "outlinewidth": 0,
             "ticks": ""
            },
            "colorscale": [
             [
              0,
              "#0d0887"
             ],
             [
              0.1111111111111111,
              "#46039f"
             ],
             [
              0.2222222222222222,
              "#7201a8"
             ],
             [
              0.3333333333333333,
              "#9c179e"
             ],
             [
              0.4444444444444444,
              "#bd3786"
             ],
             [
              0.5555555555555556,
              "#d8576b"
             ],
             [
              0.6666666666666666,
              "#ed7953"
             ],
             [
              0.7777777777777778,
              "#fb9f3a"
             ],
             [
              0.8888888888888888,
              "#fdca26"
             ],
             [
              1,
              "#f0f921"
             ]
            ],
            "type": "histogram2dcontour"
           }
          ],
          "mesh3d": [
           {
            "colorbar": {
             "outlinewidth": 0,
             "ticks": ""
            },
            "type": "mesh3d"
           }
          ],
          "parcoords": [
           {
            "line": {
             "colorbar": {
              "outlinewidth": 0,
              "ticks": ""
             }
            },
            "type": "parcoords"
           }
          ],
          "pie": [
           {
            "automargin": true,
            "type": "pie"
           }
          ],
          "scatter": [
           {
            "fillpattern": {
             "fillmode": "overlay",
             "size": 10,
             "solidity": 0.2
            },
            "type": "scatter"
           }
          ],
          "scatter3d": [
           {
            "line": {
             "colorbar": {
              "outlinewidth": 0,
              "ticks": ""
             }
            },
            "marker": {
             "colorbar": {
              "outlinewidth": 0,
              "ticks": ""
             }
            },
            "type": "scatter3d"
           }
          ],
          "scattercarpet": [
           {
            "marker": {
             "colorbar": {
              "outlinewidth": 0,
              "ticks": ""
             }
            },
            "type": "scattercarpet"
           }
          ],
          "scattergeo": [
           {
            "marker": {
             "colorbar": {
              "outlinewidth": 0,
              "ticks": ""
             }
            },
            "type": "scattergeo"
           }
          ],
          "scattergl": [
           {
            "marker": {
             "colorbar": {
              "outlinewidth": 0,
              "ticks": ""
             }
            },
            "type": "scattergl"
           }
          ],
          "scattermapbox": [
           {
            "marker": {
             "colorbar": {
              "outlinewidth": 0,
              "ticks": ""
             }
            },
            "type": "scattermapbox"
           }
          ],
          "scatterpolar": [
           {
            "marker": {
             "colorbar": {
              "outlinewidth": 0,
              "ticks": ""
             }
            },
            "type": "scatterpolar"
           }
          ],
          "scatterpolargl": [
           {
            "marker": {
             "colorbar": {
              "outlinewidth": 0,
              "ticks": ""
             }
            },
            "type": "scatterpolargl"
           }
          ],
          "scatterternary": [
           {
            "marker": {
             "colorbar": {
              "outlinewidth": 0,
              "ticks": ""
             }
            },
            "type": "scatterternary"
           }
          ],
          "surface": [
           {
            "colorbar": {
             "outlinewidth": 0,
             "ticks": ""
            },
            "colorscale": [
             [
              0,
              "#0d0887"
             ],
             [
              0.1111111111111111,
              "#46039f"
             ],
             [
              0.2222222222222222,
              "#7201a8"
             ],
             [
              0.3333333333333333,
              "#9c179e"
             ],
             [
              0.4444444444444444,
              "#bd3786"
             ],
             [
              0.5555555555555556,
              "#d8576b"
             ],
             [
              0.6666666666666666,
              "#ed7953"
             ],
             [
              0.7777777777777778,
              "#fb9f3a"
             ],
             [
              0.8888888888888888,
              "#fdca26"
             ],
             [
              1,
              "#f0f921"
             ]
            ],
            "type": "surface"
           }
          ],
          "table": [
           {
            "cells": {
             "fill": {
              "color": "#EBF0F8"
             },
             "line": {
              "color": "white"
             }
            },
            "header": {
             "fill": {
              "color": "#C8D4E3"
             },
             "line": {
              "color": "white"
             }
            },
            "type": "table"
           }
          ]
         },
         "layout": {
          "annotationdefaults": {
           "arrowcolor": "#2a3f5f",
           "arrowhead": 0,
           "arrowwidth": 1
          },
          "autotypenumbers": "strict",
          "coloraxis": {
           "colorbar": {
            "outlinewidth": 0,
            "ticks": ""
           }
          },
          "colorscale": {
           "diverging": [
            [
             0,
             "#8e0152"
            ],
            [
             0.1,
             "#c51b7d"
            ],
            [
             0.2,
             "#de77ae"
            ],
            [
             0.3,
             "#f1b6da"
            ],
            [
             0.4,
             "#fde0ef"
            ],
            [
             0.5,
             "#f7f7f7"
            ],
            [
             0.6,
             "#e6f5d0"
            ],
            [
             0.7,
             "#b8e186"
            ],
            [
             0.8,
             "#7fbc41"
            ],
            [
             0.9,
             "#4d9221"
            ],
            [
             1,
             "#276419"
            ]
           ],
           "sequential": [
            [
             0,
             "#0d0887"
            ],
            [
             0.1111111111111111,
             "#46039f"
            ],
            [
             0.2222222222222222,
             "#7201a8"
            ],
            [
             0.3333333333333333,
             "#9c179e"
            ],
            [
             0.4444444444444444,
             "#bd3786"
            ],
            [
             0.5555555555555556,
             "#d8576b"
            ],
            [
             0.6666666666666666,
             "#ed7953"
            ],
            [
             0.7777777777777778,
             "#fb9f3a"
            ],
            [
             0.8888888888888888,
             "#fdca26"
            ],
            [
             1,
             "#f0f921"
            ]
           ],
           "sequentialminus": [
            [
             0,
             "#0d0887"
            ],
            [
             0.1111111111111111,
             "#46039f"
            ],
            [
             0.2222222222222222,
             "#7201a8"
            ],
            [
             0.3333333333333333,
             "#9c179e"
            ],
            [
             0.4444444444444444,
             "#bd3786"
            ],
            [
             0.5555555555555556,
             "#d8576b"
            ],
            [
             0.6666666666666666,
             "#ed7953"
            ],
            [
             0.7777777777777778,
             "#fb9f3a"
            ],
            [
             0.8888888888888888,
             "#fdca26"
            ],
            [
             1,
             "#f0f921"
            ]
           ]
          },
          "colorway": [
           "#636efa",
           "#EF553B",
           "#00cc96",
           "#ab63fa",
           "#FFA15A",
           "#19d3f3",
           "#FF6692",
           "#B6E880",
           "#FF97FF",
           "#FECB52"
          ],
          "font": {
           "color": "#2a3f5f"
          },
          "geo": {
           "bgcolor": "white",
           "lakecolor": "white",
           "landcolor": "#E5ECF6",
           "showlakes": true,
           "showland": true,
           "subunitcolor": "white"
          },
          "hoverlabel": {
           "align": "left"
          },
          "hovermode": "closest",
          "mapbox": {
           "style": "light"
          },
          "paper_bgcolor": "white",
          "plot_bgcolor": "#E5ECF6",
          "polar": {
           "angularaxis": {
            "gridcolor": "white",
            "linecolor": "white",
            "ticks": ""
           },
           "bgcolor": "#E5ECF6",
           "radialaxis": {
            "gridcolor": "white",
            "linecolor": "white",
            "ticks": ""
           }
          },
          "scene": {
           "xaxis": {
            "backgroundcolor": "#E5ECF6",
            "gridcolor": "white",
            "gridwidth": 2,
            "linecolor": "white",
            "showbackground": true,
            "ticks": "",
            "zerolinecolor": "white"
           },
           "yaxis": {
            "backgroundcolor": "#E5ECF6",
            "gridcolor": "white",
            "gridwidth": 2,
            "linecolor": "white",
            "showbackground": true,
            "ticks": "",
            "zerolinecolor": "white"
           },
           "zaxis": {
            "backgroundcolor": "#E5ECF6",
            "gridcolor": "white",
            "gridwidth": 2,
            "linecolor": "white",
            "showbackground": true,
            "ticks": "",
            "zerolinecolor": "white"
           }
          },
          "shapedefaults": {
           "line": {
            "color": "#2a3f5f"
           }
          },
          "ternary": {
           "aaxis": {
            "gridcolor": "white",
            "linecolor": "white",
            "ticks": ""
           },
           "baxis": {
            "gridcolor": "white",
            "linecolor": "white",
            "ticks": ""
           },
           "bgcolor": "#E5ECF6",
           "caxis": {
            "gridcolor": "white",
            "linecolor": "white",
            "ticks": ""
           }
          },
          "title": {
           "x": 0.05
          },
          "xaxis": {
           "automargin": true,
           "gridcolor": "white",
           "linecolor": "white",
           "ticks": "",
           "title": {
            "standoff": 15
           },
           "zerolinecolor": "white",
           "zerolinewidth": 2
          },
          "yaxis": {
           "automargin": true,
           "gridcolor": "white",
           "linecolor": "white",
           "ticks": "",
           "title": {
            "standoff": 15
           },
           "zerolinecolor": "white",
           "zerolinewidth": 2
          }
         }
        },
        "title": {
         "text": "Distribution of Ratings"
        },
        "xaxis": {
         "anchor": "y",
         "domain": [
          0,
          1
         ],
         "range": [
          0,
          10
         ],
         "title": {
          "text": "Ratings"
         }
        },
        "yaxis": {
         "anchor": "x",
         "domain": [
          0,
          1
         ],
         "title": {
          "text": "Frequency"
         }
        }
       }
      },
      "text/html": [
       "<div>                            <div id=\"739c3145-1672-4c43-920e-409dfd0ca8fd\" class=\"plotly-graph-div\" style=\"height:525px; width:100%;\"></div>            <script type=\"text/javascript\">                require([\"plotly\"], function(Plotly) {                    window.PLOTLYENV=window.PLOTLYENV || {};                                    if (document.getElementById(\"739c3145-1672-4c43-920e-409dfd0ca8fd\")) {                    Plotly.newPlot(                        \"739c3145-1672-4c43-920e-409dfd0ca8fd\",                        [{\"alignmentgroup\":\"True\",\"bingroup\":\"x\",\"hovertemplate\":\"Ratings=%{x}<br>count=%{y}<extra></extra>\",\"legendgroup\":\"\",\"marker\":{\"color\":\"#636efa\",\"pattern\":{\"shape\":\"\"}},\"name\":\"\",\"nbinsx\":100,\"offsetgroup\":\"\",\"orientation\":\"v\",\"showlegend\":false,\"x\":[9.3,9.2,9.0,9.0,9.0,9.0,9.0,8.9,8.9,8.8,8.8,8.8,8.8,8.8,8.7,8.8,8.7,8.7,8.7,8.6,8.7,8.6,8.6,8.6,8.6,8.6,8.6,8.6,8.6,8.6,8.5,8.6,8.5,8.5,8.5,8.6,8.5,8.5,8.5,8.5,8.5,8.5,8.5,8.5,8.6,8.5,8.5,8.5,8.5,8.5,8.5,8.5,8.5,8.5,8.4,8.5,8.4,9.0,8.4,8.4,8.4,8.4,8.4,8.4,8.4,8.4,8.4,8.4,8.4,8.4,8.4,8.4,8.3,8.3,8.4,8.4,8.3,8.4,8.3,8.4,8.4,8.3,8.3,8.4,8.3,8.4,8.4,8.3,8.4,8.3,8.3,8.4,8.3,8.3,8.3,8.3,8.3,8.3,8.3,8.3,8.3,8.3,8.3,8.3,8.3,8.3,8.3,8.3,8.3,8.3,8.3,8.3,8.3,8.3,8.3,8.3,8.2,8.2,8.3,8.3,8.3,8.2,8.2,8.3,8.2,8.2,8.2,8.3,8.2,8.2,8.2,8.2,8.2,8.2,8.2,8.3,8.2,8.2,8.2,8.2,8.2,8.2,8.2,8.2,8.2,8.2,8.2,8.2,8.2,8.2,8.2,8.2,8.2,8.2,8.2,8.2,8.2,8.2,8.2,8.2,8.1,8.2,8.2,8.2,8.1,8.2,8.1,8.1,8.1,8.1,8.1,8.2,8.1,8.2,8.1,8.1,8.3,8.1,8.1,8.1,8.1,8.2,8.1,8.1,8.1,8.1,8.1,8.1,8.1,8.1,8.1,8.1,8.1,8.1,8.1,8.1,8.1,8.1,8.1,8.1,8.2,8.1,8.1,8.2,8.1,8.1,8.1,8.1,8.1,8.1,8.1,8.1,8.1,8.1,8.1,8.1,8.1,8.1,8.1,8.1,8.1,8.1,8.1,8.1,8.1,8.1,8.1,8.7,8.1,8.1,8.1,8.0,8.1,8.1,8.1,8.2,8.1,8.1,8.1,8.1,8.0,8.1,8.1,8.1,8.1,8.1,8.1,8.0,8.0,8.1],\"xaxis\":\"x\",\"yaxis\":\"y\",\"type\":\"histogram\"}],                        {\"template\":{\"data\":{\"histogram2dcontour\":[{\"type\":\"histogram2dcontour\",\"colorbar\":{\"outlinewidth\":0,\"ticks\":\"\"},\"colorscale\":[[0.0,\"#0d0887\"],[0.1111111111111111,\"#46039f\"],[0.2222222222222222,\"#7201a8\"],[0.3333333333333333,\"#9c179e\"],[0.4444444444444444,\"#bd3786\"],[0.5555555555555556,\"#d8576b\"],[0.6666666666666666,\"#ed7953\"],[0.7777777777777778,\"#fb9f3a\"],[0.8888888888888888,\"#fdca26\"],[1.0,\"#f0f921\"]]}],\"choropleth\":[{\"type\":\"choropleth\",\"colorbar\":{\"outlinewidth\":0,\"ticks\":\"\"}}],\"histogram2d\":[{\"type\":\"histogram2d\",\"colorbar\":{\"outlinewidth\":0,\"ticks\":\"\"},\"colorscale\":[[0.0,\"#0d0887\"],[0.1111111111111111,\"#46039f\"],[0.2222222222222222,\"#7201a8\"],[0.3333333333333333,\"#9c179e\"],[0.4444444444444444,\"#bd3786\"],[0.5555555555555556,\"#d8576b\"],[0.6666666666666666,\"#ed7953\"],[0.7777777777777778,\"#fb9f3a\"],[0.8888888888888888,\"#fdca26\"],[1.0,\"#f0f921\"]]}],\"heatmap\":[{\"type\":\"heatmap\",\"colorbar\":{\"outlinewidth\":0,\"ticks\":\"\"},\"colorscale\":[[0.0,\"#0d0887\"],[0.1111111111111111,\"#46039f\"],[0.2222222222222222,\"#7201a8\"],[0.3333333333333333,\"#9c179e\"],[0.4444444444444444,\"#bd3786\"],[0.5555555555555556,\"#d8576b\"],[0.6666666666666666,\"#ed7953\"],[0.7777777777777778,\"#fb9f3a\"],[0.8888888888888888,\"#fdca26\"],[1.0,\"#f0f921\"]]}],\"heatmapgl\":[{\"type\":\"heatmapgl\",\"colorbar\":{\"outlinewidth\":0,\"ticks\":\"\"},\"colorscale\":[[0.0,\"#0d0887\"],[0.1111111111111111,\"#46039f\"],[0.2222222222222222,\"#7201a8\"],[0.3333333333333333,\"#9c179e\"],[0.4444444444444444,\"#bd3786\"],[0.5555555555555556,\"#d8576b\"],[0.6666666666666666,\"#ed7953\"],[0.7777777777777778,\"#fb9f3a\"],[0.8888888888888888,\"#fdca26\"],[1.0,\"#f0f921\"]]}],\"contourcarpet\":[{\"type\":\"contourcarpet\",\"colorbar\":{\"outlinewidth\":0,\"ticks\":\"\"}}],\"contour\":[{\"type\":\"contour\",\"colorbar\":{\"outlinewidth\":0,\"ticks\":\"\"},\"colorscale\":[[0.0,\"#0d0887\"],[0.1111111111111111,\"#46039f\"],[0.2222222222222222,\"#7201a8\"],[0.3333333333333333,\"#9c179e\"],[0.4444444444444444,\"#bd3786\"],[0.5555555555555556,\"#d8576b\"],[0.6666666666666666,\"#ed7953\"],[0.7777777777777778,\"#fb9f3a\"],[0.8888888888888888,\"#fdca26\"],[1.0,\"#f0f921\"]]}],\"surface\":[{\"type\":\"surface\",\"colorbar\":{\"outlinewidth\":0,\"ticks\":\"\"},\"colorscale\":[[0.0,\"#0d0887\"],[0.1111111111111111,\"#46039f\"],[0.2222222222222222,\"#7201a8\"],[0.3333333333333333,\"#9c179e\"],[0.4444444444444444,\"#bd3786\"],[0.5555555555555556,\"#d8576b\"],[0.6666666666666666,\"#ed7953\"],[0.7777777777777778,\"#fb9f3a\"],[0.8888888888888888,\"#fdca26\"],[1.0,\"#f0f921\"]]}],\"mesh3d\":[{\"type\":\"mesh3d\",\"colorbar\":{\"outlinewidth\":0,\"ticks\":\"\"}}],\"scatter\":[{\"fillpattern\":{\"fillmode\":\"overlay\",\"size\":10,\"solidity\":0.2},\"type\":\"scatter\"}],\"parcoords\":[{\"type\":\"parcoords\",\"line\":{\"colorbar\":{\"outlinewidth\":0,\"ticks\":\"\"}}}],\"scatterpolargl\":[{\"type\":\"scatterpolargl\",\"marker\":{\"colorbar\":{\"outlinewidth\":0,\"ticks\":\"\"}}}],\"bar\":[{\"error_x\":{\"color\":\"#2a3f5f\"},\"error_y\":{\"color\":\"#2a3f5f\"},\"marker\":{\"line\":{\"color\":\"#E5ECF6\",\"width\":0.5},\"pattern\":{\"fillmode\":\"overlay\",\"size\":10,\"solidity\":0.2}},\"type\":\"bar\"}],\"scattergeo\":[{\"type\":\"scattergeo\",\"marker\":{\"colorbar\":{\"outlinewidth\":0,\"ticks\":\"\"}}}],\"scatterpolar\":[{\"type\":\"scatterpolar\",\"marker\":{\"colorbar\":{\"outlinewidth\":0,\"ticks\":\"\"}}}],\"histogram\":[{\"marker\":{\"pattern\":{\"fillmode\":\"overlay\",\"size\":10,\"solidity\":0.2}},\"type\":\"histogram\"}],\"scattergl\":[{\"type\":\"scattergl\",\"marker\":{\"colorbar\":{\"outlinewidth\":0,\"ticks\":\"\"}}}],\"scatter3d\":[{\"type\":\"scatter3d\",\"line\":{\"colorbar\":{\"outlinewidth\":0,\"ticks\":\"\"}},\"marker\":{\"colorbar\":{\"outlinewidth\":0,\"ticks\":\"\"}}}],\"scattermapbox\":[{\"type\":\"scattermapbox\",\"marker\":{\"colorbar\":{\"outlinewidth\":0,\"ticks\":\"\"}}}],\"scatterternary\":[{\"type\":\"scatterternary\",\"marker\":{\"colorbar\":{\"outlinewidth\":0,\"ticks\":\"\"}}}],\"scattercarpet\":[{\"type\":\"scattercarpet\",\"marker\":{\"colorbar\":{\"outlinewidth\":0,\"ticks\":\"\"}}}],\"carpet\":[{\"aaxis\":{\"endlinecolor\":\"#2a3f5f\",\"gridcolor\":\"white\",\"linecolor\":\"white\",\"minorgridcolor\":\"white\",\"startlinecolor\":\"#2a3f5f\"},\"baxis\":{\"endlinecolor\":\"#2a3f5f\",\"gridcolor\":\"white\",\"linecolor\":\"white\",\"minorgridcolor\":\"white\",\"startlinecolor\":\"#2a3f5f\"},\"type\":\"carpet\"}],\"table\":[{\"cells\":{\"fill\":{\"color\":\"#EBF0F8\"},\"line\":{\"color\":\"white\"}},\"header\":{\"fill\":{\"color\":\"#C8D4E3\"},\"line\":{\"color\":\"white\"}},\"type\":\"table\"}],\"barpolar\":[{\"marker\":{\"line\":{\"color\":\"#E5ECF6\",\"width\":0.5},\"pattern\":{\"fillmode\":\"overlay\",\"size\":10,\"solidity\":0.2}},\"type\":\"barpolar\"}],\"pie\":[{\"automargin\":true,\"type\":\"pie\"}]},\"layout\":{\"autotypenumbers\":\"strict\",\"colorway\":[\"#636efa\",\"#EF553B\",\"#00cc96\",\"#ab63fa\",\"#FFA15A\",\"#19d3f3\",\"#FF6692\",\"#B6E880\",\"#FF97FF\",\"#FECB52\"],\"font\":{\"color\":\"#2a3f5f\"},\"hovermode\":\"closest\",\"hoverlabel\":{\"align\":\"left\"},\"paper_bgcolor\":\"white\",\"plot_bgcolor\":\"#E5ECF6\",\"polar\":{\"bgcolor\":\"#E5ECF6\",\"angularaxis\":{\"gridcolor\":\"white\",\"linecolor\":\"white\",\"ticks\":\"\"},\"radialaxis\":{\"gridcolor\":\"white\",\"linecolor\":\"white\",\"ticks\":\"\"}},\"ternary\":{\"bgcolor\":\"#E5ECF6\",\"aaxis\":{\"gridcolor\":\"white\",\"linecolor\":\"white\",\"ticks\":\"\"},\"baxis\":{\"gridcolor\":\"white\",\"linecolor\":\"white\",\"ticks\":\"\"},\"caxis\":{\"gridcolor\":\"white\",\"linecolor\":\"white\",\"ticks\":\"\"}},\"coloraxis\":{\"colorbar\":{\"outlinewidth\":0,\"ticks\":\"\"}},\"colorscale\":{\"sequential\":[[0.0,\"#0d0887\"],[0.1111111111111111,\"#46039f\"],[0.2222222222222222,\"#7201a8\"],[0.3333333333333333,\"#9c179e\"],[0.4444444444444444,\"#bd3786\"],[0.5555555555555556,\"#d8576b\"],[0.6666666666666666,\"#ed7953\"],[0.7777777777777778,\"#fb9f3a\"],[0.8888888888888888,\"#fdca26\"],[1.0,\"#f0f921\"]],\"sequentialminus\":[[0.0,\"#0d0887\"],[0.1111111111111111,\"#46039f\"],[0.2222222222222222,\"#7201a8\"],[0.3333333333333333,\"#9c179e\"],[0.4444444444444444,\"#bd3786\"],[0.5555555555555556,\"#d8576b\"],[0.6666666666666666,\"#ed7953\"],[0.7777777777777778,\"#fb9f3a\"],[0.8888888888888888,\"#fdca26\"],[1.0,\"#f0f921\"]],\"diverging\":[[0,\"#8e0152\"],[0.1,\"#c51b7d\"],[0.2,\"#de77ae\"],[0.3,\"#f1b6da\"],[0.4,\"#fde0ef\"],[0.5,\"#f7f7f7\"],[0.6,\"#e6f5d0\"],[0.7,\"#b8e186\"],[0.8,\"#7fbc41\"],[0.9,\"#4d9221\"],[1,\"#276419\"]]},\"xaxis\":{\"gridcolor\":\"white\",\"linecolor\":\"white\",\"ticks\":\"\",\"title\":{\"standoff\":15},\"zerolinecolor\":\"white\",\"automargin\":true,\"zerolinewidth\":2},\"yaxis\":{\"gridcolor\":\"white\",\"linecolor\":\"white\",\"ticks\":\"\",\"title\":{\"standoff\":15},\"zerolinecolor\":\"white\",\"automargin\":true,\"zerolinewidth\":2},\"scene\":{\"xaxis\":{\"backgroundcolor\":\"#E5ECF6\",\"gridcolor\":\"white\",\"linecolor\":\"white\",\"showbackground\":true,\"ticks\":\"\",\"zerolinecolor\":\"white\",\"gridwidth\":2},\"yaxis\":{\"backgroundcolor\":\"#E5ECF6\",\"gridcolor\":\"white\",\"linecolor\":\"white\",\"showbackground\":true,\"ticks\":\"\",\"zerolinecolor\":\"white\",\"gridwidth\":2},\"zaxis\":{\"backgroundcolor\":\"#E5ECF6\",\"gridcolor\":\"white\",\"linecolor\":\"white\",\"showbackground\":true,\"ticks\":\"\",\"zerolinecolor\":\"white\",\"gridwidth\":2}},\"shapedefaults\":{\"line\":{\"color\":\"#2a3f5f\"}},\"annotationdefaults\":{\"arrowcolor\":\"#2a3f5f\",\"arrowhead\":0,\"arrowwidth\":1},\"geo\":{\"bgcolor\":\"white\",\"landcolor\":\"#E5ECF6\",\"subunitcolor\":\"white\",\"showland\":true,\"showlakes\":true,\"lakecolor\":\"white\"},\"title\":{\"x\":0.05},\"mapbox\":{\"style\":\"light\"}}},\"xaxis\":{\"anchor\":\"y\",\"domain\":[0.0,1.0],\"title\":{\"text\":\"Ratings\"},\"range\":[0,10]},\"yaxis\":{\"anchor\":\"x\",\"domain\":[0.0,1.0],\"title\":{\"text\":\"Frequency\"}},\"legend\":{\"tracegroupgap\":0},\"title\":{\"text\":\"Distribution of Ratings\"},\"barmode\":\"relative\"},                        {\"responsive\": true}                    ).then(function(){\n",
       "                            \n",
       "var gd = document.getElementById('739c3145-1672-4c43-920e-409dfd0ca8fd');\n",
       "var x = new MutationObserver(function (mutations, observer) {{\n",
       "        var display = window.getComputedStyle(gd).display;\n",
       "        if (!display || display === 'none') {{\n",
       "            console.log([gd, 'removed!']);\n",
       "            Plotly.purge(gd);\n",
       "            observer.disconnect();\n",
       "        }}\n",
       "}});\n",
       "\n",
       "// Listen for the removal of the full notebook cells\n",
       "var notebookContainer = gd.closest('#notebook-container');\n",
       "if (notebookContainer) {{\n",
       "    x.observe(notebookContainer, {childList: true});\n",
       "}}\n",
       "\n",
       "// Listen for the clearing of the current output cell\n",
       "var outputEl = gd.closest('.output');\n",
       "if (outputEl) {{\n",
       "    x.observe(outputEl, {childList: true});\n",
       "}}\n",
       "\n",
       "                        })                };                });            </script>        </div>"
      ]
     },
     "metadata": {},
     "output_type": "display_data"
    }
   ],
   "source": [
    "fig = px.histogram(data, x='Ratings', nbins=100, range_x=[0,10], title='Distribution of Ratings')\n",
    "fig.update_layout(xaxis_title='Ratings', yaxis_title='Frequency')\n",
    "fig.show()"
   ]
  },
  {
   "cell_type": "code",
   "execution_count": 76,
   "id": "9e4fee8d",
   "metadata": {},
   "outputs": [],
   "source": [
    "# plt.hist(data['Ratings'], bins=10, edgecolor='black')\n",
    "# plt.title('Distribution of Ratings')\n",
    "# plt.xlabel('Ratings')\n",
    "# plt.ylabel('Frequency')\n",
    "# plt.show()"
   ]
  },
  {
   "cell_type": "markdown",
   "id": "1c4fa253",
   "metadata": {},
   "source": [
    "### Movies by Release Year"
   ]
  },
  {
   "cell_type": "code",
   "execution_count": 77,
   "id": "871ba442",
   "metadata": {},
   "outputs": [
    {
     "data": {
      "application/vnd.plotly.v1+json": {
       "config": {
        "plotlyServerURL": "https://plot.ly"
       },
       "data": [
        {
         "alignmentgroup": "True",
         "bingroup": "x",
         "hovertemplate": "Release Year=%{x}<br>count=%{y}<extra></extra>",
         "legendgroup": "",
         "marker": {
          "color": "#636efa",
          "pattern": {
           "shape": ""
          }
         },
         "name": "",
         "nbinsx": 100,
         "offsetgroup": "",
         "orientation": "v",
         "showlegend": false,
         "type": "histogram",
         "x": [
          1994,
          1972,
          2008,
          1974,
          1957,
          1993,
          2003,
          1994,
          2001,
          1966,
          1994,
          2002,
          1999,
          2010,
          1980,
          2024,
          1999,
          1990,
          1975,
          1995,
          2014,
          1946,
          1954,
          1991,
          1998,
          2002,
          1997,
          1999,
          1991,
          1977,
          1985,
          2001,
          2002,
          2019,
          1960,
          2023,
          2000,
          1994,
          1994,
          2006,
          1998,
          2014,
          2006,
          1988,
          1962,
          1995,
          1942,
          2011,
          1988,
          1936,
          1954,
          1968,
          1979,
          1931,
          1979,
          2012,
          2000,
          2023,
          2008,
          1981,
          2006,
          1950,
          1957,
          2018,
          2018,
          1957,
          1980,
          1940,
          1986,
          2009,
          2012,
          1964,
          1999,
          2003,
          2017,
          1984,
          1995,
          1981,
          1995,
          2019,
          2019,
          1997,
          1997,
          2016,
          1984,
          1963,
          2009,
          1952,
          2018,
          2000,
          2023,
          1985,
          2010,
          1983,
          2004,
          2012,
          1968,
          1992,
          1952,
          1962,
          1960,
          1959,
          1941,
          2010,
          1958,
          1931,
          1944,
          1983,
          2001,
          1987,
          1995,
          1971,
          2009,
          1962,
          1973,
          2011,
          1989,
          1988,
          1927,
          2007,
          2020,
          2000,
          1997,
          1948,
          2019,
          1976,
          2004,
          2016,
          1965,
          2005,
          2013,
          1959,
          2018,
          1921,
          2020,
          1961,
          1950,
          1998,
          2022,
          2010,
          2007,
          1995,
          1985,
          1993,
          1999,
          2006,
          1992,
          2007,
          2001,
          1982,
          1948,
          2003,
          1961,
          1975,
          1963,
          2003,
          1950,
          2013,
          2004,
          1980,
          1974,
          1954,
          1939,
          2005,
          1998,
          2009,
          2015,
          1980,
          2017,
          1996,
          1957,
          2021,
          1996,
          2019,
          2002,
          2011,
          2023,
          2008,
          1988,
          2004,
          2011,
          1997,
          2013,
          1982,
          1995,
          1959,
          2014,
          1975,
          2014,
          2016,
          1925,
          2003,
          1993,
          1989,
          1954,
          1926,
          1978,
          2014,
          2015,
          2001,
          1924,
          1949,
          1957,
          1953,
          1975,
          2010,
          2009,
          1939,
          2007,
          2019,
          1998,
          2015,
          1953,
          1957,
          1976,
          2017,
          2015,
          2004,
          1986,
          1984,
          1928,
          2004,
          1995,
          1946,
          2003,
          1973,
          2013,
          2021,
          1976,
          1986,
          1939,
          2004,
          2009,
          2016,
          2007,
          2005,
          1965,
          1940,
          1966,
          1942,
          1993,
          2000,
          1940,
          1967,
          1999,
          2011,
          1934,
          1992,
          1990,
          1984
         ],
         "xaxis": "x",
         "yaxis": "y"
        }
       ],
       "layout": {
        "barmode": "relative",
        "legend": {
         "tracegroupgap": 0
        },
        "template": {
         "data": {
          "bar": [
           {
            "error_x": {
             "color": "#2a3f5f"
            },
            "error_y": {
             "color": "#2a3f5f"
            },
            "marker": {
             "line": {
              "color": "#E5ECF6",
              "width": 0.5
             },
             "pattern": {
              "fillmode": "overlay",
              "size": 10,
              "solidity": 0.2
             }
            },
            "type": "bar"
           }
          ],
          "barpolar": [
           {
            "marker": {
             "line": {
              "color": "#E5ECF6",
              "width": 0.5
             },
             "pattern": {
              "fillmode": "overlay",
              "size": 10,
              "solidity": 0.2
             }
            },
            "type": "barpolar"
           }
          ],
          "carpet": [
           {
            "aaxis": {
             "endlinecolor": "#2a3f5f",
             "gridcolor": "white",
             "linecolor": "white",
             "minorgridcolor": "white",
             "startlinecolor": "#2a3f5f"
            },
            "baxis": {
             "endlinecolor": "#2a3f5f",
             "gridcolor": "white",
             "linecolor": "white",
             "minorgridcolor": "white",
             "startlinecolor": "#2a3f5f"
            },
            "type": "carpet"
           }
          ],
          "choropleth": [
           {
            "colorbar": {
             "outlinewidth": 0,
             "ticks": ""
            },
            "type": "choropleth"
           }
          ],
          "contour": [
           {
            "colorbar": {
             "outlinewidth": 0,
             "ticks": ""
            },
            "colorscale": [
             [
              0,
              "#0d0887"
             ],
             [
              0.1111111111111111,
              "#46039f"
             ],
             [
              0.2222222222222222,
              "#7201a8"
             ],
             [
              0.3333333333333333,
              "#9c179e"
             ],
             [
              0.4444444444444444,
              "#bd3786"
             ],
             [
              0.5555555555555556,
              "#d8576b"
             ],
             [
              0.6666666666666666,
              "#ed7953"
             ],
             [
              0.7777777777777778,
              "#fb9f3a"
             ],
             [
              0.8888888888888888,
              "#fdca26"
             ],
             [
              1,
              "#f0f921"
             ]
            ],
            "type": "contour"
           }
          ],
          "contourcarpet": [
           {
            "colorbar": {
             "outlinewidth": 0,
             "ticks": ""
            },
            "type": "contourcarpet"
           }
          ],
          "heatmap": [
           {
            "colorbar": {
             "outlinewidth": 0,
             "ticks": ""
            },
            "colorscale": [
             [
              0,
              "#0d0887"
             ],
             [
              0.1111111111111111,
              "#46039f"
             ],
             [
              0.2222222222222222,
              "#7201a8"
             ],
             [
              0.3333333333333333,
              "#9c179e"
             ],
             [
              0.4444444444444444,
              "#bd3786"
             ],
             [
              0.5555555555555556,
              "#d8576b"
             ],
             [
              0.6666666666666666,
              "#ed7953"
             ],
             [
              0.7777777777777778,
              "#fb9f3a"
             ],
             [
              0.8888888888888888,
              "#fdca26"
             ],
             [
              1,
              "#f0f921"
             ]
            ],
            "type": "heatmap"
           }
          ],
          "heatmapgl": [
           {
            "colorbar": {
             "outlinewidth": 0,
             "ticks": ""
            },
            "colorscale": [
             [
              0,
              "#0d0887"
             ],
             [
              0.1111111111111111,
              "#46039f"
             ],
             [
              0.2222222222222222,
              "#7201a8"
             ],
             [
              0.3333333333333333,
              "#9c179e"
             ],
             [
              0.4444444444444444,
              "#bd3786"
             ],
             [
              0.5555555555555556,
              "#d8576b"
             ],
             [
              0.6666666666666666,
              "#ed7953"
             ],
             [
              0.7777777777777778,
              "#fb9f3a"
             ],
             [
              0.8888888888888888,
              "#fdca26"
             ],
             [
              1,
              "#f0f921"
             ]
            ],
            "type": "heatmapgl"
           }
          ],
          "histogram": [
           {
            "marker": {
             "pattern": {
              "fillmode": "overlay",
              "size": 10,
              "solidity": 0.2
             }
            },
            "type": "histogram"
           }
          ],
          "histogram2d": [
           {
            "colorbar": {
             "outlinewidth": 0,
             "ticks": ""
            },
            "colorscale": [
             [
              0,
              "#0d0887"
             ],
             [
              0.1111111111111111,
              "#46039f"
             ],
             [
              0.2222222222222222,
              "#7201a8"
             ],
             [
              0.3333333333333333,
              "#9c179e"
             ],
             [
              0.4444444444444444,
              "#bd3786"
             ],
             [
              0.5555555555555556,
              "#d8576b"
             ],
             [
              0.6666666666666666,
              "#ed7953"
             ],
             [
              0.7777777777777778,
              "#fb9f3a"
             ],
             [
              0.8888888888888888,
              "#fdca26"
             ],
             [
              1,
              "#f0f921"
             ]
            ],
            "type": "histogram2d"
           }
          ],
          "histogram2dcontour": [
           {
            "colorbar": {
             "outlinewidth": 0,
             "ticks": ""
            },
            "colorscale": [
             [
              0,
              "#0d0887"
             ],
             [
              0.1111111111111111,
              "#46039f"
             ],
             [
              0.2222222222222222,
              "#7201a8"
             ],
             [
              0.3333333333333333,
              "#9c179e"
             ],
             [
              0.4444444444444444,
              "#bd3786"
             ],
             [
              0.5555555555555556,
              "#d8576b"
             ],
             [
              0.6666666666666666,
              "#ed7953"
             ],
             [
              0.7777777777777778,
              "#fb9f3a"
             ],
             [
              0.8888888888888888,
              "#fdca26"
             ],
             [
              1,
              "#f0f921"
             ]
            ],
            "type": "histogram2dcontour"
           }
          ],
          "mesh3d": [
           {
            "colorbar": {
             "outlinewidth": 0,
             "ticks": ""
            },
            "type": "mesh3d"
           }
          ],
          "parcoords": [
           {
            "line": {
             "colorbar": {
              "outlinewidth": 0,
              "ticks": ""
             }
            },
            "type": "parcoords"
           }
          ],
          "pie": [
           {
            "automargin": true,
            "type": "pie"
           }
          ],
          "scatter": [
           {
            "fillpattern": {
             "fillmode": "overlay",
             "size": 10,
             "solidity": 0.2
            },
            "type": "scatter"
           }
          ],
          "scatter3d": [
           {
            "line": {
             "colorbar": {
              "outlinewidth": 0,
              "ticks": ""
             }
            },
            "marker": {
             "colorbar": {
              "outlinewidth": 0,
              "ticks": ""
             }
            },
            "type": "scatter3d"
           }
          ],
          "scattercarpet": [
           {
            "marker": {
             "colorbar": {
              "outlinewidth": 0,
              "ticks": ""
             }
            },
            "type": "scattercarpet"
           }
          ],
          "scattergeo": [
           {
            "marker": {
             "colorbar": {
              "outlinewidth": 0,
              "ticks": ""
             }
            },
            "type": "scattergeo"
           }
          ],
          "scattergl": [
           {
            "marker": {
             "colorbar": {
              "outlinewidth": 0,
              "ticks": ""
             }
            },
            "type": "scattergl"
           }
          ],
          "scattermapbox": [
           {
            "marker": {
             "colorbar": {
              "outlinewidth": 0,
              "ticks": ""
             }
            },
            "type": "scattermapbox"
           }
          ],
          "scatterpolar": [
           {
            "marker": {
             "colorbar": {
              "outlinewidth": 0,
              "ticks": ""
             }
            },
            "type": "scatterpolar"
           }
          ],
          "scatterpolargl": [
           {
            "marker": {
             "colorbar": {
              "outlinewidth": 0,
              "ticks": ""
             }
            },
            "type": "scatterpolargl"
           }
          ],
          "scatterternary": [
           {
            "marker": {
             "colorbar": {
              "outlinewidth": 0,
              "ticks": ""
             }
            },
            "type": "scatterternary"
           }
          ],
          "surface": [
           {
            "colorbar": {
             "outlinewidth": 0,
             "ticks": ""
            },
            "colorscale": [
             [
              0,
              "#0d0887"
             ],
             [
              0.1111111111111111,
              "#46039f"
             ],
             [
              0.2222222222222222,
              "#7201a8"
             ],
             [
              0.3333333333333333,
              "#9c179e"
             ],
             [
              0.4444444444444444,
              "#bd3786"
             ],
             [
              0.5555555555555556,
              "#d8576b"
             ],
             [
              0.6666666666666666,
              "#ed7953"
             ],
             [
              0.7777777777777778,
              "#fb9f3a"
             ],
             [
              0.8888888888888888,
              "#fdca26"
             ],
             [
              1,
              "#f0f921"
             ]
            ],
            "type": "surface"
           }
          ],
          "table": [
           {
            "cells": {
             "fill": {
              "color": "#EBF0F8"
             },
             "line": {
              "color": "white"
             }
            },
            "header": {
             "fill": {
              "color": "#C8D4E3"
             },
             "line": {
              "color": "white"
             }
            },
            "type": "table"
           }
          ]
         },
         "layout": {
          "annotationdefaults": {
           "arrowcolor": "#2a3f5f",
           "arrowhead": 0,
           "arrowwidth": 1
          },
          "autotypenumbers": "strict",
          "coloraxis": {
           "colorbar": {
            "outlinewidth": 0,
            "ticks": ""
           }
          },
          "colorscale": {
           "diverging": [
            [
             0,
             "#8e0152"
            ],
            [
             0.1,
             "#c51b7d"
            ],
            [
             0.2,
             "#de77ae"
            ],
            [
             0.3,
             "#f1b6da"
            ],
            [
             0.4,
             "#fde0ef"
            ],
            [
             0.5,
             "#f7f7f7"
            ],
            [
             0.6,
             "#e6f5d0"
            ],
            [
             0.7,
             "#b8e186"
            ],
            [
             0.8,
             "#7fbc41"
            ],
            [
             0.9,
             "#4d9221"
            ],
            [
             1,
             "#276419"
            ]
           ],
           "sequential": [
            [
             0,
             "#0d0887"
            ],
            [
             0.1111111111111111,
             "#46039f"
            ],
            [
             0.2222222222222222,
             "#7201a8"
            ],
            [
             0.3333333333333333,
             "#9c179e"
            ],
            [
             0.4444444444444444,
             "#bd3786"
            ],
            [
             0.5555555555555556,
             "#d8576b"
            ],
            [
             0.6666666666666666,
             "#ed7953"
            ],
            [
             0.7777777777777778,
             "#fb9f3a"
            ],
            [
             0.8888888888888888,
             "#fdca26"
            ],
            [
             1,
             "#f0f921"
            ]
           ],
           "sequentialminus": [
            [
             0,
             "#0d0887"
            ],
            [
             0.1111111111111111,
             "#46039f"
            ],
            [
             0.2222222222222222,
             "#7201a8"
            ],
            [
             0.3333333333333333,
             "#9c179e"
            ],
            [
             0.4444444444444444,
             "#bd3786"
            ],
            [
             0.5555555555555556,
             "#d8576b"
            ],
            [
             0.6666666666666666,
             "#ed7953"
            ],
            [
             0.7777777777777778,
             "#fb9f3a"
            ],
            [
             0.8888888888888888,
             "#fdca26"
            ],
            [
             1,
             "#f0f921"
            ]
           ]
          },
          "colorway": [
           "#636efa",
           "#EF553B",
           "#00cc96",
           "#ab63fa",
           "#FFA15A",
           "#19d3f3",
           "#FF6692",
           "#B6E880",
           "#FF97FF",
           "#FECB52"
          ],
          "font": {
           "color": "#2a3f5f"
          },
          "geo": {
           "bgcolor": "white",
           "lakecolor": "white",
           "landcolor": "#E5ECF6",
           "showlakes": true,
           "showland": true,
           "subunitcolor": "white"
          },
          "hoverlabel": {
           "align": "left"
          },
          "hovermode": "closest",
          "mapbox": {
           "style": "light"
          },
          "paper_bgcolor": "white",
          "plot_bgcolor": "#E5ECF6",
          "polar": {
           "angularaxis": {
            "gridcolor": "white",
            "linecolor": "white",
            "ticks": ""
           },
           "bgcolor": "#E5ECF6",
           "radialaxis": {
            "gridcolor": "white",
            "linecolor": "white",
            "ticks": ""
           }
          },
          "scene": {
           "xaxis": {
            "backgroundcolor": "#E5ECF6",
            "gridcolor": "white",
            "gridwidth": 2,
            "linecolor": "white",
            "showbackground": true,
            "ticks": "",
            "zerolinecolor": "white"
           },
           "yaxis": {
            "backgroundcolor": "#E5ECF6",
            "gridcolor": "white",
            "gridwidth": 2,
            "linecolor": "white",
            "showbackground": true,
            "ticks": "",
            "zerolinecolor": "white"
           },
           "zaxis": {
            "backgroundcolor": "#E5ECF6",
            "gridcolor": "white",
            "gridwidth": 2,
            "linecolor": "white",
            "showbackground": true,
            "ticks": "",
            "zerolinecolor": "white"
           }
          },
          "shapedefaults": {
           "line": {
            "color": "#2a3f5f"
           }
          },
          "ternary": {
           "aaxis": {
            "gridcolor": "white",
            "linecolor": "white",
            "ticks": ""
           },
           "baxis": {
            "gridcolor": "white",
            "linecolor": "white",
            "ticks": ""
           },
           "bgcolor": "#E5ECF6",
           "caxis": {
            "gridcolor": "white",
            "linecolor": "white",
            "ticks": ""
           }
          },
          "title": {
           "x": 0.05
          },
          "xaxis": {
           "automargin": true,
           "gridcolor": "white",
           "linecolor": "white",
           "ticks": "",
           "title": {
            "standoff": 15
           },
           "zerolinecolor": "white",
           "zerolinewidth": 2
          },
          "yaxis": {
           "automargin": true,
           "gridcolor": "white",
           "linecolor": "white",
           "ticks": "",
           "title": {
            "standoff": 15
           },
           "zerolinecolor": "white",
           "zerolinewidth": 2
          }
         }
        },
        "title": {
         "text": "Movies by Release Year"
        },
        "xaxis": {
         "anchor": "y",
         "domain": [
          0,
          1
         ],
         "title": {
          "text": "Release Year"
         }
        },
        "yaxis": {
         "anchor": "x",
         "domain": [
          0,
          1
         ],
         "title": {
          "text": "Frequency"
         }
        }
       }
      },
      "text/html": [
       "<div>                            <div id=\"b59b9683-b8a5-4096-88ac-b8ae600b5b2a\" class=\"plotly-graph-div\" style=\"height:525px; width:100%;\"></div>            <script type=\"text/javascript\">                require([\"plotly\"], function(Plotly) {                    window.PLOTLYENV=window.PLOTLYENV || {};                                    if (document.getElementById(\"b59b9683-b8a5-4096-88ac-b8ae600b5b2a\")) {                    Plotly.newPlot(                        \"b59b9683-b8a5-4096-88ac-b8ae600b5b2a\",                        [{\"alignmentgroup\":\"True\",\"bingroup\":\"x\",\"hovertemplate\":\"Release Year=%{x}<br>count=%{y}<extra></extra>\",\"legendgroup\":\"\",\"marker\":{\"color\":\"#636efa\",\"pattern\":{\"shape\":\"\"}},\"name\":\"\",\"nbinsx\":100,\"offsetgroup\":\"\",\"orientation\":\"v\",\"showlegend\":false,\"x\":[1994,1972,2008,1974,1957,1993,2003,1994,2001,1966,1994,2002,1999,2010,1980,2024,1999,1990,1975,1995,2014,1946,1954,1991,1998,2002,1997,1999,1991,1977,1985,2001,2002,2019,1960,2023,2000,1994,1994,2006,1998,2014,2006,1988,1962,1995,1942,2011,1988,1936,1954,1968,1979,1931,1979,2012,2000,2023,2008,1981,2006,1950,1957,2018,2018,1957,1980,1940,1986,2009,2012,1964,1999,2003,2017,1984,1995,1981,1995,2019,2019,1997,1997,2016,1984,1963,2009,1952,2018,2000,2023,1985,2010,1983,2004,2012,1968,1992,1952,1962,1960,1959,1941,2010,1958,1931,1944,1983,2001,1987,1995,1971,2009,1962,1973,2011,1989,1988,1927,2007,2020,2000,1997,1948,2019,1976,2004,2016,1965,2005,2013,1959,2018,1921,2020,1961,1950,1998,2022,2010,2007,1995,1985,1993,1999,2006,1992,2007,2001,1982,1948,2003,1961,1975,1963,2003,1950,2013,2004,1980,1974,1954,1939,2005,1998,2009,2015,1980,2017,1996,1957,2021,1996,2019,2002,2011,2023,2008,1988,2004,2011,1997,2013,1982,1995,1959,2014,1975,2014,2016,1925,2003,1993,1989,1954,1926,1978,2014,2015,2001,1924,1949,1957,1953,1975,2010,2009,1939,2007,2019,1998,2015,1953,1957,1976,2017,2015,2004,1986,1984,1928,2004,1995,1946,2003,1973,2013,2021,1976,1986,1939,2004,2009,2016,2007,2005,1965,1940,1966,1942,1993,2000,1940,1967,1999,2011,1934,1992,1990,1984],\"xaxis\":\"x\",\"yaxis\":\"y\",\"type\":\"histogram\"}],                        {\"template\":{\"data\":{\"histogram2dcontour\":[{\"type\":\"histogram2dcontour\",\"colorbar\":{\"outlinewidth\":0,\"ticks\":\"\"},\"colorscale\":[[0.0,\"#0d0887\"],[0.1111111111111111,\"#46039f\"],[0.2222222222222222,\"#7201a8\"],[0.3333333333333333,\"#9c179e\"],[0.4444444444444444,\"#bd3786\"],[0.5555555555555556,\"#d8576b\"],[0.6666666666666666,\"#ed7953\"],[0.7777777777777778,\"#fb9f3a\"],[0.8888888888888888,\"#fdca26\"],[1.0,\"#f0f921\"]]}],\"choropleth\":[{\"type\":\"choropleth\",\"colorbar\":{\"outlinewidth\":0,\"ticks\":\"\"}}],\"histogram2d\":[{\"type\":\"histogram2d\",\"colorbar\":{\"outlinewidth\":0,\"ticks\":\"\"},\"colorscale\":[[0.0,\"#0d0887\"],[0.1111111111111111,\"#46039f\"],[0.2222222222222222,\"#7201a8\"],[0.3333333333333333,\"#9c179e\"],[0.4444444444444444,\"#bd3786\"],[0.5555555555555556,\"#d8576b\"],[0.6666666666666666,\"#ed7953\"],[0.7777777777777778,\"#fb9f3a\"],[0.8888888888888888,\"#fdca26\"],[1.0,\"#f0f921\"]]}],\"heatmap\":[{\"type\":\"heatmap\",\"colorbar\":{\"outlinewidth\":0,\"ticks\":\"\"},\"colorscale\":[[0.0,\"#0d0887\"],[0.1111111111111111,\"#46039f\"],[0.2222222222222222,\"#7201a8\"],[0.3333333333333333,\"#9c179e\"],[0.4444444444444444,\"#bd3786\"],[0.5555555555555556,\"#d8576b\"],[0.6666666666666666,\"#ed7953\"],[0.7777777777777778,\"#fb9f3a\"],[0.8888888888888888,\"#fdca26\"],[1.0,\"#f0f921\"]]}],\"heatmapgl\":[{\"type\":\"heatmapgl\",\"colorbar\":{\"outlinewidth\":0,\"ticks\":\"\"},\"colorscale\":[[0.0,\"#0d0887\"],[0.1111111111111111,\"#46039f\"],[0.2222222222222222,\"#7201a8\"],[0.3333333333333333,\"#9c179e\"],[0.4444444444444444,\"#bd3786\"],[0.5555555555555556,\"#d8576b\"],[0.6666666666666666,\"#ed7953\"],[0.7777777777777778,\"#fb9f3a\"],[0.8888888888888888,\"#fdca26\"],[1.0,\"#f0f921\"]]}],\"contourcarpet\":[{\"type\":\"contourcarpet\",\"colorbar\":{\"outlinewidth\":0,\"ticks\":\"\"}}],\"contour\":[{\"type\":\"contour\",\"colorbar\":{\"outlinewidth\":0,\"ticks\":\"\"},\"colorscale\":[[0.0,\"#0d0887\"],[0.1111111111111111,\"#46039f\"],[0.2222222222222222,\"#7201a8\"],[0.3333333333333333,\"#9c179e\"],[0.4444444444444444,\"#bd3786\"],[0.5555555555555556,\"#d8576b\"],[0.6666666666666666,\"#ed7953\"],[0.7777777777777778,\"#fb9f3a\"],[0.8888888888888888,\"#fdca26\"],[1.0,\"#f0f921\"]]}],\"surface\":[{\"type\":\"surface\",\"colorbar\":{\"outlinewidth\":0,\"ticks\":\"\"},\"colorscale\":[[0.0,\"#0d0887\"],[0.1111111111111111,\"#46039f\"],[0.2222222222222222,\"#7201a8\"],[0.3333333333333333,\"#9c179e\"],[0.4444444444444444,\"#bd3786\"],[0.5555555555555556,\"#d8576b\"],[0.6666666666666666,\"#ed7953\"],[0.7777777777777778,\"#fb9f3a\"],[0.8888888888888888,\"#fdca26\"],[1.0,\"#f0f921\"]]}],\"mesh3d\":[{\"type\":\"mesh3d\",\"colorbar\":{\"outlinewidth\":0,\"ticks\":\"\"}}],\"scatter\":[{\"fillpattern\":{\"fillmode\":\"overlay\",\"size\":10,\"solidity\":0.2},\"type\":\"scatter\"}],\"parcoords\":[{\"type\":\"parcoords\",\"line\":{\"colorbar\":{\"outlinewidth\":0,\"ticks\":\"\"}}}],\"scatterpolargl\":[{\"type\":\"scatterpolargl\",\"marker\":{\"colorbar\":{\"outlinewidth\":0,\"ticks\":\"\"}}}],\"bar\":[{\"error_x\":{\"color\":\"#2a3f5f\"},\"error_y\":{\"color\":\"#2a3f5f\"},\"marker\":{\"line\":{\"color\":\"#E5ECF6\",\"width\":0.5},\"pattern\":{\"fillmode\":\"overlay\",\"size\":10,\"solidity\":0.2}},\"type\":\"bar\"}],\"scattergeo\":[{\"type\":\"scattergeo\",\"marker\":{\"colorbar\":{\"outlinewidth\":0,\"ticks\":\"\"}}}],\"scatterpolar\":[{\"type\":\"scatterpolar\",\"marker\":{\"colorbar\":{\"outlinewidth\":0,\"ticks\":\"\"}}}],\"histogram\":[{\"marker\":{\"pattern\":{\"fillmode\":\"overlay\",\"size\":10,\"solidity\":0.2}},\"type\":\"histogram\"}],\"scattergl\":[{\"type\":\"scattergl\",\"marker\":{\"colorbar\":{\"outlinewidth\":0,\"ticks\":\"\"}}}],\"scatter3d\":[{\"type\":\"scatter3d\",\"line\":{\"colorbar\":{\"outlinewidth\":0,\"ticks\":\"\"}},\"marker\":{\"colorbar\":{\"outlinewidth\":0,\"ticks\":\"\"}}}],\"scattermapbox\":[{\"type\":\"scattermapbox\",\"marker\":{\"colorbar\":{\"outlinewidth\":0,\"ticks\":\"\"}}}],\"scatterternary\":[{\"type\":\"scatterternary\",\"marker\":{\"colorbar\":{\"outlinewidth\":0,\"ticks\":\"\"}}}],\"scattercarpet\":[{\"type\":\"scattercarpet\",\"marker\":{\"colorbar\":{\"outlinewidth\":0,\"ticks\":\"\"}}}],\"carpet\":[{\"aaxis\":{\"endlinecolor\":\"#2a3f5f\",\"gridcolor\":\"white\",\"linecolor\":\"white\",\"minorgridcolor\":\"white\",\"startlinecolor\":\"#2a3f5f\"},\"baxis\":{\"endlinecolor\":\"#2a3f5f\",\"gridcolor\":\"white\",\"linecolor\":\"white\",\"minorgridcolor\":\"white\",\"startlinecolor\":\"#2a3f5f\"},\"type\":\"carpet\"}],\"table\":[{\"cells\":{\"fill\":{\"color\":\"#EBF0F8\"},\"line\":{\"color\":\"white\"}},\"header\":{\"fill\":{\"color\":\"#C8D4E3\"},\"line\":{\"color\":\"white\"}},\"type\":\"table\"}],\"barpolar\":[{\"marker\":{\"line\":{\"color\":\"#E5ECF6\",\"width\":0.5},\"pattern\":{\"fillmode\":\"overlay\",\"size\":10,\"solidity\":0.2}},\"type\":\"barpolar\"}],\"pie\":[{\"automargin\":true,\"type\":\"pie\"}]},\"layout\":{\"autotypenumbers\":\"strict\",\"colorway\":[\"#636efa\",\"#EF553B\",\"#00cc96\",\"#ab63fa\",\"#FFA15A\",\"#19d3f3\",\"#FF6692\",\"#B6E880\",\"#FF97FF\",\"#FECB52\"],\"font\":{\"color\":\"#2a3f5f\"},\"hovermode\":\"closest\",\"hoverlabel\":{\"align\":\"left\"},\"paper_bgcolor\":\"white\",\"plot_bgcolor\":\"#E5ECF6\",\"polar\":{\"bgcolor\":\"#E5ECF6\",\"angularaxis\":{\"gridcolor\":\"white\",\"linecolor\":\"white\",\"ticks\":\"\"},\"radialaxis\":{\"gridcolor\":\"white\",\"linecolor\":\"white\",\"ticks\":\"\"}},\"ternary\":{\"bgcolor\":\"#E5ECF6\",\"aaxis\":{\"gridcolor\":\"white\",\"linecolor\":\"white\",\"ticks\":\"\"},\"baxis\":{\"gridcolor\":\"white\",\"linecolor\":\"white\",\"ticks\":\"\"},\"caxis\":{\"gridcolor\":\"white\",\"linecolor\":\"white\",\"ticks\":\"\"}},\"coloraxis\":{\"colorbar\":{\"outlinewidth\":0,\"ticks\":\"\"}},\"colorscale\":{\"sequential\":[[0.0,\"#0d0887\"],[0.1111111111111111,\"#46039f\"],[0.2222222222222222,\"#7201a8\"],[0.3333333333333333,\"#9c179e\"],[0.4444444444444444,\"#bd3786\"],[0.5555555555555556,\"#d8576b\"],[0.6666666666666666,\"#ed7953\"],[0.7777777777777778,\"#fb9f3a\"],[0.8888888888888888,\"#fdca26\"],[1.0,\"#f0f921\"]],\"sequentialminus\":[[0.0,\"#0d0887\"],[0.1111111111111111,\"#46039f\"],[0.2222222222222222,\"#7201a8\"],[0.3333333333333333,\"#9c179e\"],[0.4444444444444444,\"#bd3786\"],[0.5555555555555556,\"#d8576b\"],[0.6666666666666666,\"#ed7953\"],[0.7777777777777778,\"#fb9f3a\"],[0.8888888888888888,\"#fdca26\"],[1.0,\"#f0f921\"]],\"diverging\":[[0,\"#8e0152\"],[0.1,\"#c51b7d\"],[0.2,\"#de77ae\"],[0.3,\"#f1b6da\"],[0.4,\"#fde0ef\"],[0.5,\"#f7f7f7\"],[0.6,\"#e6f5d0\"],[0.7,\"#b8e186\"],[0.8,\"#7fbc41\"],[0.9,\"#4d9221\"],[1,\"#276419\"]]},\"xaxis\":{\"gridcolor\":\"white\",\"linecolor\":\"white\",\"ticks\":\"\",\"title\":{\"standoff\":15},\"zerolinecolor\":\"white\",\"automargin\":true,\"zerolinewidth\":2},\"yaxis\":{\"gridcolor\":\"white\",\"linecolor\":\"white\",\"ticks\":\"\",\"title\":{\"standoff\":15},\"zerolinecolor\":\"white\",\"automargin\":true,\"zerolinewidth\":2},\"scene\":{\"xaxis\":{\"backgroundcolor\":\"#E5ECF6\",\"gridcolor\":\"white\",\"linecolor\":\"white\",\"showbackground\":true,\"ticks\":\"\",\"zerolinecolor\":\"white\",\"gridwidth\":2},\"yaxis\":{\"backgroundcolor\":\"#E5ECF6\",\"gridcolor\":\"white\",\"linecolor\":\"white\",\"showbackground\":true,\"ticks\":\"\",\"zerolinecolor\":\"white\",\"gridwidth\":2},\"zaxis\":{\"backgroundcolor\":\"#E5ECF6\",\"gridcolor\":\"white\",\"linecolor\":\"white\",\"showbackground\":true,\"ticks\":\"\",\"zerolinecolor\":\"white\",\"gridwidth\":2}},\"shapedefaults\":{\"line\":{\"color\":\"#2a3f5f\"}},\"annotationdefaults\":{\"arrowcolor\":\"#2a3f5f\",\"arrowhead\":0,\"arrowwidth\":1},\"geo\":{\"bgcolor\":\"white\",\"landcolor\":\"#E5ECF6\",\"subunitcolor\":\"white\",\"showland\":true,\"showlakes\":true,\"lakecolor\":\"white\"},\"title\":{\"x\":0.05},\"mapbox\":{\"style\":\"light\"}}},\"xaxis\":{\"anchor\":\"y\",\"domain\":[0.0,1.0],\"title\":{\"text\":\"Release Year\"}},\"yaxis\":{\"anchor\":\"x\",\"domain\":[0.0,1.0],\"title\":{\"text\":\"Frequency\"}},\"legend\":{\"tracegroupgap\":0},\"title\":{\"text\":\"Movies by Release Year\"},\"barmode\":\"relative\"},                        {\"responsive\": true}                    ).then(function(){\n",
       "                            \n",
       "var gd = document.getElementById('b59b9683-b8a5-4096-88ac-b8ae600b5b2a');\n",
       "var x = new MutationObserver(function (mutations, observer) {{\n",
       "        var display = window.getComputedStyle(gd).display;\n",
       "        if (!display || display === 'none') {{\n",
       "            console.log([gd, 'removed!']);\n",
       "            Plotly.purge(gd);\n",
       "            observer.disconnect();\n",
       "        }}\n",
       "}});\n",
       "\n",
       "// Listen for the removal of the full notebook cells\n",
       "var notebookContainer = gd.closest('#notebook-container');\n",
       "if (notebookContainer) {{\n",
       "    x.observe(notebookContainer, {childList: true});\n",
       "}}\n",
       "\n",
       "// Listen for the clearing of the current output cell\n",
       "var outputEl = gd.closest('.output');\n",
       "if (outputEl) {{\n",
       "    x.observe(outputEl, {childList: true});\n",
       "}}\n",
       "\n",
       "                        })                };                });            </script>        </div>"
      ]
     },
     "metadata": {},
     "output_type": "display_data"
    }
   ],
   "source": [
    "fig = px.histogram(data, x='Release Year', nbins=100, title='Movies by Release Year')\n",
    "fig.update_layout(title=\"Movies by Release Year\",xaxis_title='Release Year', yaxis_title='Frequency')\n",
    "fig.show()"
   ]
  },
  {
   "cell_type": "code",
   "execution_count": 78,
   "id": "e17dbae3",
   "metadata": {},
   "outputs": [],
   "source": [
    "# plt.hist(data['Release Year'], bins=100, edgecolor='black')\n",
    "# plt.title('Movies by Release Year')\n",
    "# plt.xlabel('Release Year')\n",
    "# plt.ylabel('Frequency')\n",
    "# plt.show()"
   ]
  },
  {
   "cell_type": "markdown",
   "id": "2a261922",
   "metadata": {},
   "source": [
    "### Interactive Scatter Plot of Ratings vs. Votings"
   ]
  },
  {
   "cell_type": "code",
   "execution_count": 79,
   "id": "50e2f9ad",
   "metadata": {},
   "outputs": [
    {
     "data": {
      "application/vnd.plotly.v1+json": {
       "config": {
        "plotlyServerURL": "https://plot.ly"
       },
       "data": [
        {
         "hovertemplate": "Ratings=%{x}<br>Movie Names=%{y}<extra></extra>",
         "legendgroup": "",
         "marker": {
          "color": "#636efa",
          "symbol": "circle"
         },
         "mode": "markers",
         "name": "",
         "orientation": "h",
         "showlegend": false,
         "type": "scatter",
         "x": [
          9.3,
          9.2,
          9,
          9,
          9,
          9,
          9,
          8.9,
          8.9,
          8.8,
          8.8,
          8.8,
          8.8,
          8.8,
          8.7,
          8.8,
          8.7,
          8.7,
          8.7,
          8.6,
          8.7,
          8.6,
          8.6,
          8.6,
          8.6,
          8.6,
          8.6,
          8.6,
          8.6,
          8.6,
          8.5,
          8.6,
          8.5,
          8.5,
          8.5,
          8.6,
          8.5,
          8.5,
          8.5,
          8.5,
          8.5,
          8.5,
          8.5,
          8.5,
          8.6,
          8.5,
          8.5,
          8.5,
          8.5,
          8.5,
          8.5,
          8.5,
          8.5,
          8.5,
          8.4,
          8.5,
          8.4,
          9,
          8.4,
          8.4,
          8.4,
          8.4,
          8.4,
          8.4,
          8.4,
          8.4,
          8.4,
          8.4,
          8.4,
          8.4,
          8.4,
          8.4,
          8.3,
          8.3,
          8.4,
          8.4,
          8.3,
          8.4,
          8.3,
          8.4,
          8.4,
          8.3,
          8.3,
          8.4,
          8.3,
          8.4,
          8.4,
          8.3,
          8.4,
          8.3,
          8.3,
          8.4,
          8.3,
          8.3,
          8.3,
          8.3,
          8.3,
          8.3,
          8.3,
          8.3,
          8.3,
          8.3,
          8.3,
          8.3,
          8.3,
          8.3,
          8.3,
          8.3,
          8.3,
          8.3,
          8.3,
          8.3,
          8.3,
          8.3,
          8.3,
          8.3,
          8.2,
          8.2,
          8.3,
          8.3,
          8.3,
          8.2,
          8.2,
          8.3,
          8.2,
          8.2,
          8.2,
          8.3,
          8.2,
          8.2,
          8.2,
          8.2,
          8.2,
          8.2,
          8.2,
          8.3,
          8.2,
          8.2,
          8.2,
          8.2,
          8.2,
          8.2,
          8.2,
          8.2,
          8.2,
          8.2,
          8.2,
          8.2,
          8.2,
          8.2,
          8.2,
          8.2,
          8.2,
          8.2,
          8.2,
          8.2,
          8.2,
          8.2,
          8.2,
          8.2,
          8.1,
          8.2,
          8.2,
          8.2,
          8.1,
          8.2,
          8.1,
          8.1,
          8.1,
          8.1,
          8.1,
          8.2,
          8.1,
          8.2,
          8.1,
          8.1,
          8.3,
          8.1,
          8.1,
          8.1,
          8.1,
          8.2,
          8.1,
          8.1,
          8.1,
          8.1,
          8.1,
          8.1,
          8.1,
          8.1,
          8.1,
          8.1,
          8.1,
          8.1,
          8.1,
          8.1,
          8.1,
          8.1,
          8.1,
          8.1,
          8.2,
          8.1,
          8.1,
          8.2,
          8.1,
          8.1,
          8.1,
          8.1,
          8.1,
          8.1,
          8.1,
          8.1,
          8.1,
          8.1,
          8.1,
          8.1,
          8.1,
          8.1,
          8.1,
          8.1,
          8.1,
          8.1,
          8.1,
          8.1,
          8.1,
          8.1,
          8.1,
          8.7,
          8.1,
          8.1,
          8.1,
          8,
          8.1,
          8.1,
          8.1,
          8.2,
          8.1,
          8.1,
          8.1,
          8.1,
          8,
          8.1,
          8.1,
          8.1,
          8.1,
          8.1,
          8.1,
          8,
          8,
          8.1
         ],
         "xaxis": "x",
         "y": [
          "1. The Shawshank Redemption",
          "2. The Godfather",
          "3. The Dark Knight",
          "4. The Godfather: Part II",
          "5. 12 Angry Men",
          "6. Schindler's List",
          "7. The Lord of the Rings: The Return of the King",
          "8. Pulp Fiction",
          "9. The Lord of the Rings: The Fellowship of the Ring",
          "10. Il Buono, Il Brutto, Il Cattivo",
          "11. Forrest Gump",
          "12. The Lord of the Rings: The Two Towers",
          "13. Fight Club",
          "14. Inception",
          "15. Star Wars: Episode V - The Empire Strikes Back",
          "16. Dune: Part Two",
          "17. The Matrix",
          "18. GoodFellas",
          "19. One Flew Over the Cuckoo's Nest",
          "20. Se7en",
          "21. Interstellar",
          "22. It's a Wonderful Life",
          "23. Shichinin No Samurai",
          "24. The Silence of the Lambs",
          "25. Saving Private Ryan",
          "26. City of God",
          "27. Life Is Beautiful",
          "28. The Green Mile",
          "29. Terminator 2: Judgment Day",
          "30. Star Wars: Episode IV - A New Hope",
          "31. Back to the Future",
          "32. Spirited Away",
          "33. The Pianist",
          "34. Parasite",
          "35. Psycho",
          "36. Spider-man: Across the Spider-verse",
          "37. Gladiator",
          "38. The Lion King",
          "39. Léon",
          "40. The Departed",
          "41. American History X",
          "42. Whiplash",
          "43. The Prestige",
          "44. Grave of the Fireflies",
          "45. Seppuku",
          "46. The Usual Suspects",
          "47. Casablanca",
          "48. Intouchables",
          "49. Cinema Paradiso",
          "50. Modern Times",
          "51. Rear Window",
          "52. C'era Una Volta Il West",
          "53. Alien",
          "54. City Lights",
          "55. Apocalypse Now",
          "56. Django Unchained",
          "57. Memento",
          "58. 12th Fail",
          "59. WALL·E",
          "60. Raiders of the Lost Ark",
          "61. Das Leben der Anderen",
          "62. Sunset Blvd.",
          "63. Paths of Glory",
          "64. Avengers: Infinity War",
          "65. Spider-Man: Into the Spider-Verse",
          "66. Witness for the Prosecution",
          "67. The Shining",
          "68. The Great Dictator",
          "69. Alien 2",
          "70. Inglourious Basterds",
          "71. The Dark Knight Rises",
          "72. Dr. Strangelove or: How I Learned to Stop Worrying and Love the Bomb",
          "73. American Beauty",
          "74. Oldeuboi",
          "75. Coco",
          "76. Amadeus",
          "77. Toy Story",
          "78. Das Boot",
          "79. Braveheart",
          "80. Avengers: Endgame",
          "81. Joker",
          "82. Mononoke-hime",
          "83. Good Will Hunting",
          "84. Kimi No Na Wa.",
          "85. Once Upon a Time in America",
          "86. Tengoku to Jigoku",
          "87. 3 Idiots",
          "88. Singin' in the Rain",
          "89. Capharnaüm",
          "90. Requiem for a Dream",
          "91. Oppenheimer",
          "92. Idi I Smotri",
          "93. Toy Story 3",
          "94. Star Wars: Episode VI - Return of the Jedi",
          "95. Eternal Sunshine of the Spotless Mind",
          "96. Jagten",
          "97. 2001: A Space Odyssey",
          "98. Reservoir Dogs",
          "99. Ikiru",
          "100. Lawrence of Arabia",
          "101. The Apartment",
          "102. North by Northwest",
          "103. Citizen Kane",
          "104. Incendies",
          "105. Vertigo",
          "106. M - Eine Stadt sucht einen Mörder",
          "107. Double Indemnity",
          "108. Scarface",
          "109. Le fabuleux destin d'Amélie Poulain",
          "110. Full Metal Jacket",
          "111. Heat",
          "112. A Clockwork Orange",
          "113. Up",
          "114. To Kill a Mockingbird",
          "115. The Sting",
          "116. Jodaeiye Nader Az Simin",
          "117. Indiana Jones and the Last Crusade",
          "118. Die Hard",
          "119. Metropolis",
          "120. Taare Zameen Par",
          "121. Hamilton",
          "122. Snatch",
          "123. L.A. Confidential",
          "124. Ladri Di Biciclette",
          "125. 1917",
          "126. Taxi Driver",
          "127. Der Untergang",
          "128. Dangal",
          "129. Per qualche dollaro in più",
          "130. Batman Begins",
          "131. The Wolf of Wall Street",
          "132. Some Like It Hot",
          "133. Green Book",
          "134. The Kid",
          "135. The Father",
          "136. Judgment at Nuremberg",
          "137. All About Eve",
          "138. The Truman Show",
          "139. Top Gun: Maverick",
          "140. Shutter Island",
          "141. There Will Be Blood",
          "142. Casino",
          "143. Ran",
          "144. Jurassic Park",
          "145. The Sixth Sense",
          "146. El Laberinto Del Fauno",
          "147. Unforgiven",
          "148. No Country for Old Men",
          "149. A Beautiful Mind",
          "150. The Thing",
          "151. The Treasure of the Sierra Madre",
          "152. Kill Bill: Vol. 1",
          "153. Yojimbo",
          "154. Monty Python and the Holy Grail",
          "155. The Great Escape",
          "156. Finding Nemo",
          "157. Rashōmon",
          "158. Prisoners",
          "159. Hauru No Ugoku Shiro",
          "160. The Elephant Man",
          "161. Chinatown",
          "162. Dial M for Murder",
          "163. Gone with the Wind",
          "164. V for Vendetta",
          "165. Lock, Stock and Two Smoking Barrels",
          "166. El Secreto De Sus Ojos",
          "167. Inside Out",
          "168. Raging Bull",
          "169. Three Billboards Outside Ebbing, Missouri",
          "170. Trainspotting",
          "171. The Bridge on the River Kwai",
          "172. Spider-Man: No Way Home",
          "173. Fargo",
          "174. Klaus",
          "175. Catch Me If You Can",
          "176. Warrior",
          "177. Godzilla Minus One",
          "178. Gran Torino",
          "179. My Neighbour Totoro",
          "180. Million Dollar Baby",
          "181. Harry Potter and the Deathly Hallows: Part 2",
          "182. Bacheha-Ye Aseman",
          "183. 12 Years a Slave",
          "184. Blade Runner",
          "185. Before Sunrise",
          "186. Ben-Hur",
          "187. The Grand Budapest Hotel",
          "188. Barry Lyndon",
          "189. Gone Girl",
          "190. Hacksaw Ridge",
          "191. The Gold Rush",
          "192. Salinui Chueok",
          "193. In the Name of the Father",
          "194. Dead Poets Society",
          "195. On the Waterfront",
          "196. The General",
          "197. The Deer Hunter",
          "198. Relatos Salvajes",
          "199. Mad Max: Fury Road",
          "200. Monsters, Inc.",
          "201. Sherlock Jr.",
          "202. The Third Man",
          "203. Smultronstället",
          "204. Le Salaire De La Peur",
          "205. Jaws",
          "206. How to Train Your Dragon",
          "207. Mary and Max",
          "208. Mr. Smith Goes to Washington",
          "209. Ratatouille",
          "210. Ford v. Ferrari",
          "211. The Big Lebowski",
          "212. Room",
          "213. Tokyo Story",
          "214. Det Sjunde Inseglet",
          "215. Rocky",
          "216. Logan",
          "217. Spotlight",
          "218. Hotel Rwanda",
          "219. Platoon",
          "220. The Terminator",
          "221. La passion de Jeanne d'Arc",
          "222. Before Sunset",
          "223. La haine",
          "224. The Best Years of Our Lives",
          "225. Pirates of the Caribbean: The Curse of the Black Pearl",
          "226. The Exorcist",
          "227. Rush",
          "228. Jai Bhim",
          "229. Network",
          "230. Stand by Me",
          "231. The Wizard of Oz",
          "232. The Incredibles",
          "233. Hachi: A Dog's Tale",
          "234. Ah-ga-ssi",
          "235. Into the Wild",
          "236. My Father and My Son",
          "237. The Sound of Music",
          "238. The Grapes of Wrath",
          "239. La battaglia di Algeri",
          "240. To Be or Not to Be",
          "241. Groundhog Day",
          "242. Amores perros",
          "243. Rebecca",
          "244. Cool Hand Luke",
          "245. The Iron Giant",
          "246. The Help",
          "247. It Happened One Night",
          "248. Aladdin",
          "249. Dances with Wolves",
          "250. Paris, Texas"
         ],
         "yaxis": "y"
        }
       ],
       "layout": {
        "legend": {
         "tracegroupgap": 0
        },
        "template": {
         "data": {
          "bar": [
           {
            "error_x": {
             "color": "#2a3f5f"
            },
            "error_y": {
             "color": "#2a3f5f"
            },
            "marker": {
             "line": {
              "color": "#E5ECF6",
              "width": 0.5
             },
             "pattern": {
              "fillmode": "overlay",
              "size": 10,
              "solidity": 0.2
             }
            },
            "type": "bar"
           }
          ],
          "barpolar": [
           {
            "marker": {
             "line": {
              "color": "#E5ECF6",
              "width": 0.5
             },
             "pattern": {
              "fillmode": "overlay",
              "size": 10,
              "solidity": 0.2
             }
            },
            "type": "barpolar"
           }
          ],
          "carpet": [
           {
            "aaxis": {
             "endlinecolor": "#2a3f5f",
             "gridcolor": "white",
             "linecolor": "white",
             "minorgridcolor": "white",
             "startlinecolor": "#2a3f5f"
            },
            "baxis": {
             "endlinecolor": "#2a3f5f",
             "gridcolor": "white",
             "linecolor": "white",
             "minorgridcolor": "white",
             "startlinecolor": "#2a3f5f"
            },
            "type": "carpet"
           }
          ],
          "choropleth": [
           {
            "colorbar": {
             "outlinewidth": 0,
             "ticks": ""
            },
            "type": "choropleth"
           }
          ],
          "contour": [
           {
            "colorbar": {
             "outlinewidth": 0,
             "ticks": ""
            },
            "colorscale": [
             [
              0,
              "#0d0887"
             ],
             [
              0.1111111111111111,
              "#46039f"
             ],
             [
              0.2222222222222222,
              "#7201a8"
             ],
             [
              0.3333333333333333,
              "#9c179e"
             ],
             [
              0.4444444444444444,
              "#bd3786"
             ],
             [
              0.5555555555555556,
              "#d8576b"
             ],
             [
              0.6666666666666666,
              "#ed7953"
             ],
             [
              0.7777777777777778,
              "#fb9f3a"
             ],
             [
              0.8888888888888888,
              "#fdca26"
             ],
             [
              1,
              "#f0f921"
             ]
            ],
            "type": "contour"
           }
          ],
          "contourcarpet": [
           {
            "colorbar": {
             "outlinewidth": 0,
             "ticks": ""
            },
            "type": "contourcarpet"
           }
          ],
          "heatmap": [
           {
            "colorbar": {
             "outlinewidth": 0,
             "ticks": ""
            },
            "colorscale": [
             [
              0,
              "#0d0887"
             ],
             [
              0.1111111111111111,
              "#46039f"
             ],
             [
              0.2222222222222222,
              "#7201a8"
             ],
             [
              0.3333333333333333,
              "#9c179e"
             ],
             [
              0.4444444444444444,
              "#bd3786"
             ],
             [
              0.5555555555555556,
              "#d8576b"
             ],
             [
              0.6666666666666666,
              "#ed7953"
             ],
             [
              0.7777777777777778,
              "#fb9f3a"
             ],
             [
              0.8888888888888888,
              "#fdca26"
             ],
             [
              1,
              "#f0f921"
             ]
            ],
            "type": "heatmap"
           }
          ],
          "heatmapgl": [
           {
            "colorbar": {
             "outlinewidth": 0,
             "ticks": ""
            },
            "colorscale": [
             [
              0,
              "#0d0887"
             ],
             [
              0.1111111111111111,
              "#46039f"
             ],
             [
              0.2222222222222222,
              "#7201a8"
             ],
             [
              0.3333333333333333,
              "#9c179e"
             ],
             [
              0.4444444444444444,
              "#bd3786"
             ],
             [
              0.5555555555555556,
              "#d8576b"
             ],
             [
              0.6666666666666666,
              "#ed7953"
             ],
             [
              0.7777777777777778,
              "#fb9f3a"
             ],
             [
              0.8888888888888888,
              "#fdca26"
             ],
             [
              1,
              "#f0f921"
             ]
            ],
            "type": "heatmapgl"
           }
          ],
          "histogram": [
           {
            "marker": {
             "pattern": {
              "fillmode": "overlay",
              "size": 10,
              "solidity": 0.2
             }
            },
            "type": "histogram"
           }
          ],
          "histogram2d": [
           {
            "colorbar": {
             "outlinewidth": 0,
             "ticks": ""
            },
            "colorscale": [
             [
              0,
              "#0d0887"
             ],
             [
              0.1111111111111111,
              "#46039f"
             ],
             [
              0.2222222222222222,
              "#7201a8"
             ],
             [
              0.3333333333333333,
              "#9c179e"
             ],
             [
              0.4444444444444444,
              "#bd3786"
             ],
             [
              0.5555555555555556,
              "#d8576b"
             ],
             [
              0.6666666666666666,
              "#ed7953"
             ],
             [
              0.7777777777777778,
              "#fb9f3a"
             ],
             [
              0.8888888888888888,
              "#fdca26"
             ],
             [
              1,
              "#f0f921"
             ]
            ],
            "type": "histogram2d"
           }
          ],
          "histogram2dcontour": [
           {
            "colorbar": {
             "outlinewidth": 0,
             "ticks": ""
            },
            "colorscale": [
             [
              0,
              "#0d0887"
             ],
             [
              0.1111111111111111,
              "#46039f"
             ],
             [
              0.2222222222222222,
              "#7201a8"
             ],
             [
              0.3333333333333333,
              "#9c179e"
             ],
             [
              0.4444444444444444,
              "#bd3786"
             ],
             [
              0.5555555555555556,
              "#d8576b"
             ],
             [
              0.6666666666666666,
              "#ed7953"
             ],
             [
              0.7777777777777778,
              "#fb9f3a"
             ],
             [
              0.8888888888888888,
              "#fdca26"
             ],
             [
              1,
              "#f0f921"
             ]
            ],
            "type": "histogram2dcontour"
           }
          ],
          "mesh3d": [
           {
            "colorbar": {
             "outlinewidth": 0,
             "ticks": ""
            },
            "type": "mesh3d"
           }
          ],
          "parcoords": [
           {
            "line": {
             "colorbar": {
              "outlinewidth": 0,
              "ticks": ""
             }
            },
            "type": "parcoords"
           }
          ],
          "pie": [
           {
            "automargin": true,
            "type": "pie"
           }
          ],
          "scatter": [
           {
            "fillpattern": {
             "fillmode": "overlay",
             "size": 10,
             "solidity": 0.2
            },
            "type": "scatter"
           }
          ],
          "scatter3d": [
           {
            "line": {
             "colorbar": {
              "outlinewidth": 0,
              "ticks": ""
             }
            },
            "marker": {
             "colorbar": {
              "outlinewidth": 0,
              "ticks": ""
             }
            },
            "type": "scatter3d"
           }
          ],
          "scattercarpet": [
           {
            "marker": {
             "colorbar": {
              "outlinewidth": 0,
              "ticks": ""
             }
            },
            "type": "scattercarpet"
           }
          ],
          "scattergeo": [
           {
            "marker": {
             "colorbar": {
              "outlinewidth": 0,
              "ticks": ""
             }
            },
            "type": "scattergeo"
           }
          ],
          "scattergl": [
           {
            "marker": {
             "colorbar": {
              "outlinewidth": 0,
              "ticks": ""
             }
            },
            "type": "scattergl"
           }
          ],
          "scattermapbox": [
           {
            "marker": {
             "colorbar": {
              "outlinewidth": 0,
              "ticks": ""
             }
            },
            "type": "scattermapbox"
           }
          ],
          "scatterpolar": [
           {
            "marker": {
             "colorbar": {
              "outlinewidth": 0,
              "ticks": ""
             }
            },
            "type": "scatterpolar"
           }
          ],
          "scatterpolargl": [
           {
            "marker": {
             "colorbar": {
              "outlinewidth": 0,
              "ticks": ""
             }
            },
            "type": "scatterpolargl"
           }
          ],
          "scatterternary": [
           {
            "marker": {
             "colorbar": {
              "outlinewidth": 0,
              "ticks": ""
             }
            },
            "type": "scatterternary"
           }
          ],
          "surface": [
           {
            "colorbar": {
             "outlinewidth": 0,
             "ticks": ""
            },
            "colorscale": [
             [
              0,
              "#0d0887"
             ],
             [
              0.1111111111111111,
              "#46039f"
             ],
             [
              0.2222222222222222,
              "#7201a8"
             ],
             [
              0.3333333333333333,
              "#9c179e"
             ],
             [
              0.4444444444444444,
              "#bd3786"
             ],
             [
              0.5555555555555556,
              "#d8576b"
             ],
             [
              0.6666666666666666,
              "#ed7953"
             ],
             [
              0.7777777777777778,
              "#fb9f3a"
             ],
             [
              0.8888888888888888,
              "#fdca26"
             ],
             [
              1,
              "#f0f921"
             ]
            ],
            "type": "surface"
           }
          ],
          "table": [
           {
            "cells": {
             "fill": {
              "color": "#EBF0F8"
             },
             "line": {
              "color": "white"
             }
            },
            "header": {
             "fill": {
              "color": "#C8D4E3"
             },
             "line": {
              "color": "white"
             }
            },
            "type": "table"
           }
          ]
         },
         "layout": {
          "annotationdefaults": {
           "arrowcolor": "#2a3f5f",
           "arrowhead": 0,
           "arrowwidth": 1
          },
          "autotypenumbers": "strict",
          "coloraxis": {
           "colorbar": {
            "outlinewidth": 0,
            "ticks": ""
           }
          },
          "colorscale": {
           "diverging": [
            [
             0,
             "#8e0152"
            ],
            [
             0.1,
             "#c51b7d"
            ],
            [
             0.2,
             "#de77ae"
            ],
            [
             0.3,
             "#f1b6da"
            ],
            [
             0.4,
             "#fde0ef"
            ],
            [
             0.5,
             "#f7f7f7"
            ],
            [
             0.6,
             "#e6f5d0"
            ],
            [
             0.7,
             "#b8e186"
            ],
            [
             0.8,
             "#7fbc41"
            ],
            [
             0.9,
             "#4d9221"
            ],
            [
             1,
             "#276419"
            ]
           ],
           "sequential": [
            [
             0,
             "#0d0887"
            ],
            [
             0.1111111111111111,
             "#46039f"
            ],
            [
             0.2222222222222222,
             "#7201a8"
            ],
            [
             0.3333333333333333,
             "#9c179e"
            ],
            [
             0.4444444444444444,
             "#bd3786"
            ],
            [
             0.5555555555555556,
             "#d8576b"
            ],
            [
             0.6666666666666666,
             "#ed7953"
            ],
            [
             0.7777777777777778,
             "#fb9f3a"
            ],
            [
             0.8888888888888888,
             "#fdca26"
            ],
            [
             1,
             "#f0f921"
            ]
           ],
           "sequentialminus": [
            [
             0,
             "#0d0887"
            ],
            [
             0.1111111111111111,
             "#46039f"
            ],
            [
             0.2222222222222222,
             "#7201a8"
            ],
            [
             0.3333333333333333,
             "#9c179e"
            ],
            [
             0.4444444444444444,
             "#bd3786"
            ],
            [
             0.5555555555555556,
             "#d8576b"
            ],
            [
             0.6666666666666666,
             "#ed7953"
            ],
            [
             0.7777777777777778,
             "#fb9f3a"
            ],
            [
             0.8888888888888888,
             "#fdca26"
            ],
            [
             1,
             "#f0f921"
            ]
           ]
          },
          "colorway": [
           "#636efa",
           "#EF553B",
           "#00cc96",
           "#ab63fa",
           "#FFA15A",
           "#19d3f3",
           "#FF6692",
           "#B6E880",
           "#FF97FF",
           "#FECB52"
          ],
          "font": {
           "color": "#2a3f5f"
          },
          "geo": {
           "bgcolor": "white",
           "lakecolor": "white",
           "landcolor": "#E5ECF6",
           "showlakes": true,
           "showland": true,
           "subunitcolor": "white"
          },
          "hoverlabel": {
           "align": "left"
          },
          "hovermode": "closest",
          "mapbox": {
           "style": "light"
          },
          "paper_bgcolor": "white",
          "plot_bgcolor": "#E5ECF6",
          "polar": {
           "angularaxis": {
            "gridcolor": "white",
            "linecolor": "white",
            "ticks": ""
           },
           "bgcolor": "#E5ECF6",
           "radialaxis": {
            "gridcolor": "white",
            "linecolor": "white",
            "ticks": ""
           }
          },
          "scene": {
           "xaxis": {
            "backgroundcolor": "#E5ECF6",
            "gridcolor": "white",
            "gridwidth": 2,
            "linecolor": "white",
            "showbackground": true,
            "ticks": "",
            "zerolinecolor": "white"
           },
           "yaxis": {
            "backgroundcolor": "#E5ECF6",
            "gridcolor": "white",
            "gridwidth": 2,
            "linecolor": "white",
            "showbackground": true,
            "ticks": "",
            "zerolinecolor": "white"
           },
           "zaxis": {
            "backgroundcolor": "#E5ECF6",
            "gridcolor": "white",
            "gridwidth": 2,
            "linecolor": "white",
            "showbackground": true,
            "ticks": "",
            "zerolinecolor": "white"
           }
          },
          "shapedefaults": {
           "line": {
            "color": "#2a3f5f"
           }
          },
          "ternary": {
           "aaxis": {
            "gridcolor": "white",
            "linecolor": "white",
            "ticks": ""
           },
           "baxis": {
            "gridcolor": "white",
            "linecolor": "white",
            "ticks": ""
           },
           "bgcolor": "#E5ECF6",
           "caxis": {
            "gridcolor": "white",
            "linecolor": "white",
            "ticks": ""
           }
          },
          "title": {
           "x": 0.05
          },
          "xaxis": {
           "automargin": true,
           "gridcolor": "white",
           "linecolor": "white",
           "ticks": "",
           "title": {
            "standoff": 15
           },
           "zerolinecolor": "white",
           "zerolinewidth": 2
          },
          "yaxis": {
           "automargin": true,
           "gridcolor": "white",
           "linecolor": "white",
           "ticks": "",
           "title": {
            "standoff": 15
           },
           "zerolinecolor": "white",
           "zerolinewidth": 2
          }
         }
        },
        "title": {
         "text": "Ratings vs. Votings"
        },
        "xaxis": {
         "anchor": "y",
         "domain": [
          0,
          1
         ],
         "title": {
          "text": "Ratings"
         }
        },
        "yaxis": {
         "anchor": "x",
         "domain": [
          0,
          1
         ],
         "title": {
          "text": "Movies"
         }
        }
       }
      },
      "text/html": [
       "<div>                            <div id=\"d2f5c632-7ae4-470c-beb5-672adcb27341\" class=\"plotly-graph-div\" style=\"height:525px; width:100%;\"></div>            <script type=\"text/javascript\">                require([\"plotly\"], function(Plotly) {                    window.PLOTLYENV=window.PLOTLYENV || {};                                    if (document.getElementById(\"d2f5c632-7ae4-470c-beb5-672adcb27341\")) {                    Plotly.newPlot(                        \"d2f5c632-7ae4-470c-beb5-672adcb27341\",                        [{\"hovertemplate\":\"Ratings=%{x}<br>Movie Names=%{y}<extra></extra>\",\"legendgroup\":\"\",\"marker\":{\"color\":\"#636efa\",\"symbol\":\"circle\"},\"mode\":\"markers\",\"name\":\"\",\"orientation\":\"h\",\"showlegend\":false,\"x\":[9.3,9.2,9.0,9.0,9.0,9.0,9.0,8.9,8.9,8.8,8.8,8.8,8.8,8.8,8.7,8.8,8.7,8.7,8.7,8.6,8.7,8.6,8.6,8.6,8.6,8.6,8.6,8.6,8.6,8.6,8.5,8.6,8.5,8.5,8.5,8.6,8.5,8.5,8.5,8.5,8.5,8.5,8.5,8.5,8.6,8.5,8.5,8.5,8.5,8.5,8.5,8.5,8.5,8.5,8.4,8.5,8.4,9.0,8.4,8.4,8.4,8.4,8.4,8.4,8.4,8.4,8.4,8.4,8.4,8.4,8.4,8.4,8.3,8.3,8.4,8.4,8.3,8.4,8.3,8.4,8.4,8.3,8.3,8.4,8.3,8.4,8.4,8.3,8.4,8.3,8.3,8.4,8.3,8.3,8.3,8.3,8.3,8.3,8.3,8.3,8.3,8.3,8.3,8.3,8.3,8.3,8.3,8.3,8.3,8.3,8.3,8.3,8.3,8.3,8.3,8.3,8.2,8.2,8.3,8.3,8.3,8.2,8.2,8.3,8.2,8.2,8.2,8.3,8.2,8.2,8.2,8.2,8.2,8.2,8.2,8.3,8.2,8.2,8.2,8.2,8.2,8.2,8.2,8.2,8.2,8.2,8.2,8.2,8.2,8.2,8.2,8.2,8.2,8.2,8.2,8.2,8.2,8.2,8.2,8.2,8.1,8.2,8.2,8.2,8.1,8.2,8.1,8.1,8.1,8.1,8.1,8.2,8.1,8.2,8.1,8.1,8.3,8.1,8.1,8.1,8.1,8.2,8.1,8.1,8.1,8.1,8.1,8.1,8.1,8.1,8.1,8.1,8.1,8.1,8.1,8.1,8.1,8.1,8.1,8.1,8.2,8.1,8.1,8.2,8.1,8.1,8.1,8.1,8.1,8.1,8.1,8.1,8.1,8.1,8.1,8.1,8.1,8.1,8.1,8.1,8.1,8.1,8.1,8.1,8.1,8.1,8.1,8.7,8.1,8.1,8.1,8.0,8.1,8.1,8.1,8.2,8.1,8.1,8.1,8.1,8.0,8.1,8.1,8.1,8.1,8.1,8.1,8.0,8.0,8.1],\"xaxis\":\"x\",\"y\":[\"1. The Shawshank Redemption\",\"2. The Godfather\",\"3. The Dark Knight\",\"4. The Godfather: Part II\",\"5. 12 Angry Men\",\"6. Schindler's List\",\"7. The Lord of the Rings: The Return of the King\",\"8. Pulp Fiction\",\"9. The Lord of the Rings: The Fellowship of the Ring\",\"10. Il Buono, Il Brutto, Il Cattivo\",\"11. Forrest Gump\",\"12. The Lord of the Rings: The Two Towers\",\"13. Fight Club\",\"14. Inception\",\"15. Star Wars: Episode V - The Empire Strikes Back\",\"16. Dune: Part Two\",\"17. The Matrix\",\"18. GoodFellas\",\"19. One Flew Over the Cuckoo's Nest\",\"20. Se7en\",\"21. Interstellar\",\"22. It's a Wonderful Life\",\"23. Shichinin No Samurai\",\"24. The Silence of the Lambs\",\"25. Saving Private Ryan\",\"26. City of God\",\"27. Life Is Beautiful\",\"28. The Green Mile\",\"29. Terminator 2: Judgment Day\",\"30. Star Wars: Episode IV - A New Hope\",\"31. Back to the Future\",\"32. Spirited Away\",\"33. The Pianist\",\"34. Parasite\",\"35. Psycho\",\"36. Spider-man: Across the Spider-verse\",\"37. Gladiator\",\"38. The Lion King\",\"39. L\\u00e9on\",\"40. The Departed\",\"41. American History X\",\"42. Whiplash\",\"43. The Prestige\",\"44. Grave of the Fireflies\",\"45. Seppuku\",\"46. The Usual Suspects\",\"47. Casablanca\",\"48. Intouchables\",\"49. Cinema Paradiso\",\"50. Modern Times\",\"51. Rear Window\",\"52. C'era Una Volta Il West\",\"53. Alien\",\"54. City Lights\",\"55. Apocalypse Now\",\"56. Django Unchained\",\"57. Memento\",\"58. 12th Fail\",\"59. WALL\\u00b7E\",\"60. Raiders of the Lost Ark\",\"61. Das Leben der Anderen\",\"62. Sunset Blvd.\",\"63. Paths of Glory\",\"64. Avengers: Infinity War\",\"65. Spider-Man: Into the Spider-Verse\",\"66. Witness for the Prosecution\",\"67. The Shining\",\"68. The Great Dictator\",\"69. Alien 2\",\"70. Inglourious Basterds\",\"71. The Dark Knight Rises\",\"72. Dr. Strangelove or: How I Learned to Stop Worrying and Love the Bomb\",\"73. American Beauty\",\"74. Oldeuboi\",\"75. Coco\",\"76. Amadeus\",\"77. Toy Story\",\"78. Das Boot\",\"79. Braveheart\",\"80. Avengers: Endgame\",\"81. Joker\",\"82. Mononoke-hime\",\"83. Good Will Hunting\",\"84. Kimi No Na Wa.\",\"85. Once Upon a Time in America\",\"86. Tengoku to Jigoku\",\"87. 3 Idiots\",\"88. Singin' in the Rain\",\"89. Capharna\\u00fcm\",\"90. Requiem for a Dream\",\"91. Oppenheimer\",\"92. Idi I Smotri\",\"93. Toy Story 3\",\"94. Star Wars: Episode VI - Return of the Jedi\",\"95. Eternal Sunshine of the Spotless Mind\",\"96. Jagten\",\"97. 2001: A Space Odyssey\",\"98. Reservoir Dogs\",\"99. Ikiru\",\"100. Lawrence of Arabia\",\"101. The Apartment\",\"102. North by Northwest\",\"103. Citizen Kane\",\"104. Incendies\",\"105. Vertigo\",\"106. M - Eine Stadt sucht einen M\\u00f6rder\",\"107. Double Indemnity\",\"108. Scarface\",\"109. Le fabuleux destin d'Am\\u00e9lie Poulain\",\"110. Full Metal Jacket\",\"111. Heat\",\"112. A Clockwork Orange\",\"113. Up\",\"114. To Kill a Mockingbird\",\"115. The Sting\",\"116. Jodaeiye Nader Az Simin\",\"117. Indiana Jones and the Last Crusade\",\"118. Die Hard\",\"119. Metropolis\",\"120. Taare Zameen Par\",\"121. Hamilton\",\"122. Snatch\",\"123. L.A. Confidential\",\"124. Ladri Di Biciclette\",\"125. 1917\",\"126. Taxi Driver\",\"127. Der Untergang\",\"128. Dangal\",\"129. Per qualche dollaro in pi\\u00f9\",\"130. Batman Begins\",\"131. The Wolf of Wall Street\",\"132. Some Like It Hot\",\"133. Green Book\",\"134. The Kid\",\"135. The Father\",\"136. Judgment at Nuremberg\",\"137. All About Eve\",\"138. The Truman Show\",\"139. Top Gun: Maverick\",\"140. Shutter Island\",\"141. There Will Be Blood\",\"142. Casino\",\"143. Ran\",\"144. Jurassic Park\",\"145. The Sixth Sense\",\"146. El Laberinto Del Fauno\",\"147. Unforgiven\",\"148. No Country for Old Men\",\"149. A Beautiful Mind\",\"150. The Thing\",\"151. The Treasure of the Sierra Madre\",\"152. Kill Bill: Vol. 1\",\"153. Yojimbo\",\"154. Monty Python and the Holy Grail\",\"155. The Great Escape\",\"156. Finding Nemo\",\"157. Rash\\u014dmon\",\"158. Prisoners\",\"159. Hauru No Ugoku Shiro\",\"160. The Elephant Man\",\"161. Chinatown\",\"162. Dial M for Murder\",\"163. Gone with the Wind\",\"164. V for Vendetta\",\"165. Lock, Stock and Two Smoking Barrels\",\"166. El Secreto De Sus Ojos\",\"167. Inside Out\",\"168. Raging Bull\",\"169. Three Billboards Outside Ebbing, Missouri\",\"170. Trainspotting\",\"171. The Bridge on the River Kwai\",\"172. Spider-Man: No Way Home\",\"173. Fargo\",\"174. Klaus\",\"175. Catch Me If You Can\",\"176. Warrior\",\"177. Godzilla Minus One\",\"178. Gran Torino\",\"179. My Neighbour Totoro\",\"180. Million Dollar Baby\",\"181. Harry Potter and the Deathly Hallows: Part 2\",\"182. Bacheha-Ye Aseman\",\"183. 12 Years a Slave\",\"184. Blade Runner\",\"185. Before Sunrise\",\"186. Ben-Hur\",\"187. The Grand Budapest Hotel\",\"188. Barry Lyndon\",\"189. Gone Girl\",\"190. Hacksaw Ridge\",\"191. The Gold Rush\",\"192. Salinui Chueok\",\"193. In the Name of the Father\",\"194. Dead Poets Society\",\"195. On the Waterfront\",\"196. The General\",\"197. The Deer Hunter\",\"198. Relatos Salvajes\",\"199. Mad Max: Fury Road\",\"200. Monsters, Inc.\",\"201. Sherlock Jr.\",\"202. The Third Man\",\"203. Smultronst\\u00e4llet\",\"204. Le Salaire De La Peur\",\"205. Jaws\",\"206. How to Train Your Dragon\",\"207. Mary and Max\",\"208. Mr. Smith Goes to Washington\",\"209. Ratatouille\",\"210. Ford v. Ferrari\",\"211. The Big Lebowski\",\"212. Room\",\"213. Tokyo Story\",\"214. Det Sjunde Inseglet\",\"215. Rocky\",\"216. Logan\",\"217. Spotlight\",\"218. Hotel Rwanda\",\"219. Platoon\",\"220. The Terminator\",\"221. La passion de Jeanne d'Arc\",\"222. Before Sunset\",\"223. La haine\",\"224. The Best Years of Our Lives\",\"225. Pirates of the Caribbean: The Curse of the Black Pearl\",\"226. The Exorcist\",\"227. Rush\",\"228. Jai Bhim\",\"229. Network\",\"230. Stand by Me\",\"231. The Wizard of Oz\",\"232. The Incredibles\",\"233. Hachi: A Dog's Tale\",\"234. Ah-ga-ssi\",\"235. Into the Wild\",\"236. My Father and My Son\",\"237. The Sound of Music\",\"238. The Grapes of Wrath\",\"239. La battaglia di Algeri\",\"240. To Be or Not to Be\",\"241. Groundhog Day\",\"242. Amores perros\",\"243. Rebecca\",\"244. Cool Hand Luke\",\"245. The Iron Giant\",\"246. The Help\",\"247. It Happened One Night\",\"248. Aladdin\",\"249. Dances with Wolves\",\"250. Paris, Texas\"],\"yaxis\":\"y\",\"type\":\"scatter\"}],                        {\"template\":{\"data\":{\"histogram2dcontour\":[{\"type\":\"histogram2dcontour\",\"colorbar\":{\"outlinewidth\":0,\"ticks\":\"\"},\"colorscale\":[[0.0,\"#0d0887\"],[0.1111111111111111,\"#46039f\"],[0.2222222222222222,\"#7201a8\"],[0.3333333333333333,\"#9c179e\"],[0.4444444444444444,\"#bd3786\"],[0.5555555555555556,\"#d8576b\"],[0.6666666666666666,\"#ed7953\"],[0.7777777777777778,\"#fb9f3a\"],[0.8888888888888888,\"#fdca26\"],[1.0,\"#f0f921\"]]}],\"choropleth\":[{\"type\":\"choropleth\",\"colorbar\":{\"outlinewidth\":0,\"ticks\":\"\"}}],\"histogram2d\":[{\"type\":\"histogram2d\",\"colorbar\":{\"outlinewidth\":0,\"ticks\":\"\"},\"colorscale\":[[0.0,\"#0d0887\"],[0.1111111111111111,\"#46039f\"],[0.2222222222222222,\"#7201a8\"],[0.3333333333333333,\"#9c179e\"],[0.4444444444444444,\"#bd3786\"],[0.5555555555555556,\"#d8576b\"],[0.6666666666666666,\"#ed7953\"],[0.7777777777777778,\"#fb9f3a\"],[0.8888888888888888,\"#fdca26\"],[1.0,\"#f0f921\"]]}],\"heatmap\":[{\"type\":\"heatmap\",\"colorbar\":{\"outlinewidth\":0,\"ticks\":\"\"},\"colorscale\":[[0.0,\"#0d0887\"],[0.1111111111111111,\"#46039f\"],[0.2222222222222222,\"#7201a8\"],[0.3333333333333333,\"#9c179e\"],[0.4444444444444444,\"#bd3786\"],[0.5555555555555556,\"#d8576b\"],[0.6666666666666666,\"#ed7953\"],[0.7777777777777778,\"#fb9f3a\"],[0.8888888888888888,\"#fdca26\"],[1.0,\"#f0f921\"]]}],\"heatmapgl\":[{\"type\":\"heatmapgl\",\"colorbar\":{\"outlinewidth\":0,\"ticks\":\"\"},\"colorscale\":[[0.0,\"#0d0887\"],[0.1111111111111111,\"#46039f\"],[0.2222222222222222,\"#7201a8\"],[0.3333333333333333,\"#9c179e\"],[0.4444444444444444,\"#bd3786\"],[0.5555555555555556,\"#d8576b\"],[0.6666666666666666,\"#ed7953\"],[0.7777777777777778,\"#fb9f3a\"],[0.8888888888888888,\"#fdca26\"],[1.0,\"#f0f921\"]]}],\"contourcarpet\":[{\"type\":\"contourcarpet\",\"colorbar\":{\"outlinewidth\":0,\"ticks\":\"\"}}],\"contour\":[{\"type\":\"contour\",\"colorbar\":{\"outlinewidth\":0,\"ticks\":\"\"},\"colorscale\":[[0.0,\"#0d0887\"],[0.1111111111111111,\"#46039f\"],[0.2222222222222222,\"#7201a8\"],[0.3333333333333333,\"#9c179e\"],[0.4444444444444444,\"#bd3786\"],[0.5555555555555556,\"#d8576b\"],[0.6666666666666666,\"#ed7953\"],[0.7777777777777778,\"#fb9f3a\"],[0.8888888888888888,\"#fdca26\"],[1.0,\"#f0f921\"]]}],\"surface\":[{\"type\":\"surface\",\"colorbar\":{\"outlinewidth\":0,\"ticks\":\"\"},\"colorscale\":[[0.0,\"#0d0887\"],[0.1111111111111111,\"#46039f\"],[0.2222222222222222,\"#7201a8\"],[0.3333333333333333,\"#9c179e\"],[0.4444444444444444,\"#bd3786\"],[0.5555555555555556,\"#d8576b\"],[0.6666666666666666,\"#ed7953\"],[0.7777777777777778,\"#fb9f3a\"],[0.8888888888888888,\"#fdca26\"],[1.0,\"#f0f921\"]]}],\"mesh3d\":[{\"type\":\"mesh3d\",\"colorbar\":{\"outlinewidth\":0,\"ticks\":\"\"}}],\"scatter\":[{\"fillpattern\":{\"fillmode\":\"overlay\",\"size\":10,\"solidity\":0.2},\"type\":\"scatter\"}],\"parcoords\":[{\"type\":\"parcoords\",\"line\":{\"colorbar\":{\"outlinewidth\":0,\"ticks\":\"\"}}}],\"scatterpolargl\":[{\"type\":\"scatterpolargl\",\"marker\":{\"colorbar\":{\"outlinewidth\":0,\"ticks\":\"\"}}}],\"bar\":[{\"error_x\":{\"color\":\"#2a3f5f\"},\"error_y\":{\"color\":\"#2a3f5f\"},\"marker\":{\"line\":{\"color\":\"#E5ECF6\",\"width\":0.5},\"pattern\":{\"fillmode\":\"overlay\",\"size\":10,\"solidity\":0.2}},\"type\":\"bar\"}],\"scattergeo\":[{\"type\":\"scattergeo\",\"marker\":{\"colorbar\":{\"outlinewidth\":0,\"ticks\":\"\"}}}],\"scatterpolar\":[{\"type\":\"scatterpolar\",\"marker\":{\"colorbar\":{\"outlinewidth\":0,\"ticks\":\"\"}}}],\"histogram\":[{\"marker\":{\"pattern\":{\"fillmode\":\"overlay\",\"size\":10,\"solidity\":0.2}},\"type\":\"histogram\"}],\"scattergl\":[{\"type\":\"scattergl\",\"marker\":{\"colorbar\":{\"outlinewidth\":0,\"ticks\":\"\"}}}],\"scatter3d\":[{\"type\":\"scatter3d\",\"line\":{\"colorbar\":{\"outlinewidth\":0,\"ticks\":\"\"}},\"marker\":{\"colorbar\":{\"outlinewidth\":0,\"ticks\":\"\"}}}],\"scattermapbox\":[{\"type\":\"scattermapbox\",\"marker\":{\"colorbar\":{\"outlinewidth\":0,\"ticks\":\"\"}}}],\"scatterternary\":[{\"type\":\"scatterternary\",\"marker\":{\"colorbar\":{\"outlinewidth\":0,\"ticks\":\"\"}}}],\"scattercarpet\":[{\"type\":\"scattercarpet\",\"marker\":{\"colorbar\":{\"outlinewidth\":0,\"ticks\":\"\"}}}],\"carpet\":[{\"aaxis\":{\"endlinecolor\":\"#2a3f5f\",\"gridcolor\":\"white\",\"linecolor\":\"white\",\"minorgridcolor\":\"white\",\"startlinecolor\":\"#2a3f5f\"},\"baxis\":{\"endlinecolor\":\"#2a3f5f\",\"gridcolor\":\"white\",\"linecolor\":\"white\",\"minorgridcolor\":\"white\",\"startlinecolor\":\"#2a3f5f\"},\"type\":\"carpet\"}],\"table\":[{\"cells\":{\"fill\":{\"color\":\"#EBF0F8\"},\"line\":{\"color\":\"white\"}},\"header\":{\"fill\":{\"color\":\"#C8D4E3\"},\"line\":{\"color\":\"white\"}},\"type\":\"table\"}],\"barpolar\":[{\"marker\":{\"line\":{\"color\":\"#E5ECF6\",\"width\":0.5},\"pattern\":{\"fillmode\":\"overlay\",\"size\":10,\"solidity\":0.2}},\"type\":\"barpolar\"}],\"pie\":[{\"automargin\":true,\"type\":\"pie\"}]},\"layout\":{\"autotypenumbers\":\"strict\",\"colorway\":[\"#636efa\",\"#EF553B\",\"#00cc96\",\"#ab63fa\",\"#FFA15A\",\"#19d3f3\",\"#FF6692\",\"#B6E880\",\"#FF97FF\",\"#FECB52\"],\"font\":{\"color\":\"#2a3f5f\"},\"hovermode\":\"closest\",\"hoverlabel\":{\"align\":\"left\"},\"paper_bgcolor\":\"white\",\"plot_bgcolor\":\"#E5ECF6\",\"polar\":{\"bgcolor\":\"#E5ECF6\",\"angularaxis\":{\"gridcolor\":\"white\",\"linecolor\":\"white\",\"ticks\":\"\"},\"radialaxis\":{\"gridcolor\":\"white\",\"linecolor\":\"white\",\"ticks\":\"\"}},\"ternary\":{\"bgcolor\":\"#E5ECF6\",\"aaxis\":{\"gridcolor\":\"white\",\"linecolor\":\"white\",\"ticks\":\"\"},\"baxis\":{\"gridcolor\":\"white\",\"linecolor\":\"white\",\"ticks\":\"\"},\"caxis\":{\"gridcolor\":\"white\",\"linecolor\":\"white\",\"ticks\":\"\"}},\"coloraxis\":{\"colorbar\":{\"outlinewidth\":0,\"ticks\":\"\"}},\"colorscale\":{\"sequential\":[[0.0,\"#0d0887\"],[0.1111111111111111,\"#46039f\"],[0.2222222222222222,\"#7201a8\"],[0.3333333333333333,\"#9c179e\"],[0.4444444444444444,\"#bd3786\"],[0.5555555555555556,\"#d8576b\"],[0.6666666666666666,\"#ed7953\"],[0.7777777777777778,\"#fb9f3a\"],[0.8888888888888888,\"#fdca26\"],[1.0,\"#f0f921\"]],\"sequentialminus\":[[0.0,\"#0d0887\"],[0.1111111111111111,\"#46039f\"],[0.2222222222222222,\"#7201a8\"],[0.3333333333333333,\"#9c179e\"],[0.4444444444444444,\"#bd3786\"],[0.5555555555555556,\"#d8576b\"],[0.6666666666666666,\"#ed7953\"],[0.7777777777777778,\"#fb9f3a\"],[0.8888888888888888,\"#fdca26\"],[1.0,\"#f0f921\"]],\"diverging\":[[0,\"#8e0152\"],[0.1,\"#c51b7d\"],[0.2,\"#de77ae\"],[0.3,\"#f1b6da\"],[0.4,\"#fde0ef\"],[0.5,\"#f7f7f7\"],[0.6,\"#e6f5d0\"],[0.7,\"#b8e186\"],[0.8,\"#7fbc41\"],[0.9,\"#4d9221\"],[1,\"#276419\"]]},\"xaxis\":{\"gridcolor\":\"white\",\"linecolor\":\"white\",\"ticks\":\"\",\"title\":{\"standoff\":15},\"zerolinecolor\":\"white\",\"automargin\":true,\"zerolinewidth\":2},\"yaxis\":{\"gridcolor\":\"white\",\"linecolor\":\"white\",\"ticks\":\"\",\"title\":{\"standoff\":15},\"zerolinecolor\":\"white\",\"automargin\":true,\"zerolinewidth\":2},\"scene\":{\"xaxis\":{\"backgroundcolor\":\"#E5ECF6\",\"gridcolor\":\"white\",\"linecolor\":\"white\",\"showbackground\":true,\"ticks\":\"\",\"zerolinecolor\":\"white\",\"gridwidth\":2},\"yaxis\":{\"backgroundcolor\":\"#E5ECF6\",\"gridcolor\":\"white\",\"linecolor\":\"white\",\"showbackground\":true,\"ticks\":\"\",\"zerolinecolor\":\"white\",\"gridwidth\":2},\"zaxis\":{\"backgroundcolor\":\"#E5ECF6\",\"gridcolor\":\"white\",\"linecolor\":\"white\",\"showbackground\":true,\"ticks\":\"\",\"zerolinecolor\":\"white\",\"gridwidth\":2}},\"shapedefaults\":{\"line\":{\"color\":\"#2a3f5f\"}},\"annotationdefaults\":{\"arrowcolor\":\"#2a3f5f\",\"arrowhead\":0,\"arrowwidth\":1},\"geo\":{\"bgcolor\":\"white\",\"landcolor\":\"#E5ECF6\",\"subunitcolor\":\"white\",\"showland\":true,\"showlakes\":true,\"lakecolor\":\"white\"},\"title\":{\"x\":0.05},\"mapbox\":{\"style\":\"light\"}}},\"xaxis\":{\"anchor\":\"y\",\"domain\":[0.0,1.0],\"title\":{\"text\":\"Ratings\"}},\"yaxis\":{\"anchor\":\"x\",\"domain\":[0.0,1.0],\"title\":{\"text\":\"Movies\"}},\"legend\":{\"tracegroupgap\":0},\"title\":{\"text\":\"Ratings vs. Votings\"}},                        {\"responsive\": true}                    ).then(function(){\n",
       "                            \n",
       "var gd = document.getElementById('d2f5c632-7ae4-470c-beb5-672adcb27341');\n",
       "var x = new MutationObserver(function (mutations, observer) {{\n",
       "        var display = window.getComputedStyle(gd).display;\n",
       "        if (!display || display === 'none') {{\n",
       "            console.log([gd, 'removed!']);\n",
       "            Plotly.purge(gd);\n",
       "            observer.disconnect();\n",
       "        }}\n",
       "}});\n",
       "\n",
       "// Listen for the removal of the full notebook cells\n",
       "var notebookContainer = gd.closest('#notebook-container');\n",
       "if (notebookContainer) {{\n",
       "    x.observe(notebookContainer, {childList: true});\n",
       "}}\n",
       "\n",
       "// Listen for the clearing of the current output cell\n",
       "var outputEl = gd.closest('.output');\n",
       "if (outputEl) {{\n",
       "    x.observe(outputEl, {childList: true});\n",
       "}}\n",
       "\n",
       "                        })                };                });            </script>        </div>"
      ]
     },
     "metadata": {},
     "output_type": "display_data"
    }
   ],
   "source": [
    "fig = px.scatter(data, x='Ratings', y='Movie Names', title='Ratings vs. Votings')\n",
    "fig.update_layout(xaxis_title='Ratings', yaxis_title='Movies')\n",
    "fig.show()"
   ]
  },
  {
   "cell_type": "markdown",
   "id": "0db7c674",
   "metadata": {},
   "source": [
    "### 3D Scatter Plot of Ratings vs. Votings vs. Release Year"
   ]
  },
  {
   "cell_type": "code",
   "execution_count": 80,
   "id": "bb983dac",
   "metadata": {},
   "outputs": [
    {
     "data": {
      "application/vnd.plotly.v1+json": {
       "config": {
        "plotlyServerURL": "https://plot.ly"
       },
       "data": [
        {
         "marker": {
          "color": "red",
          "opacity": 0.8,
          "size": 5
         },
         "mode": "markers",
         "type": "scatter3d",
         "x": [
          9.3,
          9.2,
          9,
          9,
          9,
          9,
          9,
          8.9,
          8.9,
          8.8,
          8.8,
          8.8,
          8.8,
          8.8,
          8.7,
          8.8,
          8.7,
          8.7,
          8.7,
          8.6,
          8.7,
          8.6,
          8.6,
          8.6,
          8.6,
          8.6,
          8.6,
          8.6,
          8.6,
          8.6,
          8.5,
          8.6,
          8.5,
          8.5,
          8.5,
          8.6,
          8.5,
          8.5,
          8.5,
          8.5,
          8.5,
          8.5,
          8.5,
          8.5,
          8.6,
          8.5,
          8.5,
          8.5,
          8.5,
          8.5,
          8.5,
          8.5,
          8.5,
          8.5,
          8.4,
          8.5,
          8.4,
          9,
          8.4,
          8.4,
          8.4,
          8.4,
          8.4,
          8.4,
          8.4,
          8.4,
          8.4,
          8.4,
          8.4,
          8.4,
          8.4,
          8.4,
          8.3,
          8.3,
          8.4,
          8.4,
          8.3,
          8.4,
          8.3,
          8.4,
          8.4,
          8.3,
          8.3,
          8.4,
          8.3,
          8.4,
          8.4,
          8.3,
          8.4,
          8.3,
          8.3,
          8.4,
          8.3,
          8.3,
          8.3,
          8.3,
          8.3,
          8.3,
          8.3,
          8.3,
          8.3,
          8.3,
          8.3,
          8.3,
          8.3,
          8.3,
          8.3,
          8.3,
          8.3,
          8.3,
          8.3,
          8.3,
          8.3,
          8.3,
          8.3,
          8.3,
          8.2,
          8.2,
          8.3,
          8.3,
          8.3,
          8.2,
          8.2,
          8.3,
          8.2,
          8.2,
          8.2,
          8.3,
          8.2,
          8.2,
          8.2,
          8.2,
          8.2,
          8.2,
          8.2,
          8.3,
          8.2,
          8.2,
          8.2,
          8.2,
          8.2,
          8.2,
          8.2,
          8.2,
          8.2,
          8.2,
          8.2,
          8.2,
          8.2,
          8.2,
          8.2,
          8.2,
          8.2,
          8.2,
          8.2,
          8.2,
          8.2,
          8.2,
          8.2,
          8.2,
          8.1,
          8.2,
          8.2,
          8.2,
          8.1,
          8.2,
          8.1,
          8.1,
          8.1,
          8.1,
          8.1,
          8.2,
          8.1,
          8.2,
          8.1,
          8.1,
          8.3,
          8.1,
          8.1,
          8.1,
          8.1,
          8.2,
          8.1,
          8.1,
          8.1,
          8.1,
          8.1,
          8.1,
          8.1,
          8.1,
          8.1,
          8.1,
          8.1,
          8.1,
          8.1,
          8.1,
          8.1,
          8.1,
          8.1,
          8.1,
          8.2,
          8.1,
          8.1,
          8.2,
          8.1,
          8.1,
          8.1,
          8.1,
          8.1,
          8.1,
          8.1,
          8.1,
          8.1,
          8.1,
          8.1,
          8.1,
          8.1,
          8.1,
          8.1,
          8.1,
          8.1,
          8.1,
          8.1,
          8.1,
          8.1,
          8.1,
          8.1,
          8.7,
          8.1,
          8.1,
          8.1,
          8,
          8.1,
          8.1,
          8.1,
          8.2,
          8.1,
          8.1,
          8.1,
          8.1,
          8,
          8.1,
          8.1,
          8.1,
          8.1,
          8.1,
          8.1,
          8,
          8,
          8.1
         ],
         "y": [
          "1. The Shawshank Redemption",
          "2. The Godfather",
          "3. The Dark Knight",
          "4. The Godfather: Part II",
          "5. 12 Angry Men",
          "6. Schindler's List",
          "7. The Lord of the Rings: The Return of the King",
          "8. Pulp Fiction",
          "9. The Lord of the Rings: The Fellowship of the Ring",
          "10. Il Buono, Il Brutto, Il Cattivo",
          "11. Forrest Gump",
          "12. The Lord of the Rings: The Two Towers",
          "13. Fight Club",
          "14. Inception",
          "15. Star Wars: Episode V - The Empire Strikes Back",
          "16. Dune: Part Two",
          "17. The Matrix",
          "18. GoodFellas",
          "19. One Flew Over the Cuckoo's Nest",
          "20. Se7en",
          "21. Interstellar",
          "22. It's a Wonderful Life",
          "23. Shichinin No Samurai",
          "24. The Silence of the Lambs",
          "25. Saving Private Ryan",
          "26. City of God",
          "27. Life Is Beautiful",
          "28. The Green Mile",
          "29. Terminator 2: Judgment Day",
          "30. Star Wars: Episode IV - A New Hope",
          "31. Back to the Future",
          "32. Spirited Away",
          "33. The Pianist",
          "34. Parasite",
          "35. Psycho",
          "36. Spider-man: Across the Spider-verse",
          "37. Gladiator",
          "38. The Lion King",
          "39. Léon",
          "40. The Departed",
          "41. American History X",
          "42. Whiplash",
          "43. The Prestige",
          "44. Grave of the Fireflies",
          "45. Seppuku",
          "46. The Usual Suspects",
          "47. Casablanca",
          "48. Intouchables",
          "49. Cinema Paradiso",
          "50. Modern Times",
          "51. Rear Window",
          "52. C'era Una Volta Il West",
          "53. Alien",
          "54. City Lights",
          "55. Apocalypse Now",
          "56. Django Unchained",
          "57. Memento",
          "58. 12th Fail",
          "59. WALL·E",
          "60. Raiders of the Lost Ark",
          "61. Das Leben der Anderen",
          "62. Sunset Blvd.",
          "63. Paths of Glory",
          "64. Avengers: Infinity War",
          "65. Spider-Man: Into the Spider-Verse",
          "66. Witness for the Prosecution",
          "67. The Shining",
          "68. The Great Dictator",
          "69. Alien 2",
          "70. Inglourious Basterds",
          "71. The Dark Knight Rises",
          "72. Dr. Strangelove or: How I Learned to Stop Worrying and Love the Bomb",
          "73. American Beauty",
          "74. Oldeuboi",
          "75. Coco",
          "76. Amadeus",
          "77. Toy Story",
          "78. Das Boot",
          "79. Braveheart",
          "80. Avengers: Endgame",
          "81. Joker",
          "82. Mononoke-hime",
          "83. Good Will Hunting",
          "84. Kimi No Na Wa.",
          "85. Once Upon a Time in America",
          "86. Tengoku to Jigoku",
          "87. 3 Idiots",
          "88. Singin' in the Rain",
          "89. Capharnaüm",
          "90. Requiem for a Dream",
          "91. Oppenheimer",
          "92. Idi I Smotri",
          "93. Toy Story 3",
          "94. Star Wars: Episode VI - Return of the Jedi",
          "95. Eternal Sunshine of the Spotless Mind",
          "96. Jagten",
          "97. 2001: A Space Odyssey",
          "98. Reservoir Dogs",
          "99. Ikiru",
          "100. Lawrence of Arabia",
          "101. The Apartment",
          "102. North by Northwest",
          "103. Citizen Kane",
          "104. Incendies",
          "105. Vertigo",
          "106. M - Eine Stadt sucht einen Mörder",
          "107. Double Indemnity",
          "108. Scarface",
          "109. Le fabuleux destin d'Amélie Poulain",
          "110. Full Metal Jacket",
          "111. Heat",
          "112. A Clockwork Orange",
          "113. Up",
          "114. To Kill a Mockingbird",
          "115. The Sting",
          "116. Jodaeiye Nader Az Simin",
          "117. Indiana Jones and the Last Crusade",
          "118. Die Hard",
          "119. Metropolis",
          "120. Taare Zameen Par",
          "121. Hamilton",
          "122. Snatch",
          "123. L.A. Confidential",
          "124. Ladri Di Biciclette",
          "125. 1917",
          "126. Taxi Driver",
          "127. Der Untergang",
          "128. Dangal",
          "129. Per qualche dollaro in più",
          "130. Batman Begins",
          "131. The Wolf of Wall Street",
          "132. Some Like It Hot",
          "133. Green Book",
          "134. The Kid",
          "135. The Father",
          "136. Judgment at Nuremberg",
          "137. All About Eve",
          "138. The Truman Show",
          "139. Top Gun: Maverick",
          "140. Shutter Island",
          "141. There Will Be Blood",
          "142. Casino",
          "143. Ran",
          "144. Jurassic Park",
          "145. The Sixth Sense",
          "146. El Laberinto Del Fauno",
          "147. Unforgiven",
          "148. No Country for Old Men",
          "149. A Beautiful Mind",
          "150. The Thing",
          "151. The Treasure of the Sierra Madre",
          "152. Kill Bill: Vol. 1",
          "153. Yojimbo",
          "154. Monty Python and the Holy Grail",
          "155. The Great Escape",
          "156. Finding Nemo",
          "157. Rashōmon",
          "158. Prisoners",
          "159. Hauru No Ugoku Shiro",
          "160. The Elephant Man",
          "161. Chinatown",
          "162. Dial M for Murder",
          "163. Gone with the Wind",
          "164. V for Vendetta",
          "165. Lock, Stock and Two Smoking Barrels",
          "166. El Secreto De Sus Ojos",
          "167. Inside Out",
          "168. Raging Bull",
          "169. Three Billboards Outside Ebbing, Missouri",
          "170. Trainspotting",
          "171. The Bridge on the River Kwai",
          "172. Spider-Man: No Way Home",
          "173. Fargo",
          "174. Klaus",
          "175. Catch Me If You Can",
          "176. Warrior",
          "177. Godzilla Minus One",
          "178. Gran Torino",
          "179. My Neighbour Totoro",
          "180. Million Dollar Baby",
          "181. Harry Potter and the Deathly Hallows: Part 2",
          "182. Bacheha-Ye Aseman",
          "183. 12 Years a Slave",
          "184. Blade Runner",
          "185. Before Sunrise",
          "186. Ben-Hur",
          "187. The Grand Budapest Hotel",
          "188. Barry Lyndon",
          "189. Gone Girl",
          "190. Hacksaw Ridge",
          "191. The Gold Rush",
          "192. Salinui Chueok",
          "193. In the Name of the Father",
          "194. Dead Poets Society",
          "195. On the Waterfront",
          "196. The General",
          "197. The Deer Hunter",
          "198. Relatos Salvajes",
          "199. Mad Max: Fury Road",
          "200. Monsters, Inc.",
          "201. Sherlock Jr.",
          "202. The Third Man",
          "203. Smultronstället",
          "204. Le Salaire De La Peur",
          "205. Jaws",
          "206. How to Train Your Dragon",
          "207. Mary and Max",
          "208. Mr. Smith Goes to Washington",
          "209. Ratatouille",
          "210. Ford v. Ferrari",
          "211. The Big Lebowski",
          "212. Room",
          "213. Tokyo Story",
          "214. Det Sjunde Inseglet",
          "215. Rocky",
          "216. Logan",
          "217. Spotlight",
          "218. Hotel Rwanda",
          "219. Platoon",
          "220. The Terminator",
          "221. La passion de Jeanne d'Arc",
          "222. Before Sunset",
          "223. La haine",
          "224. The Best Years of Our Lives",
          "225. Pirates of the Caribbean: The Curse of the Black Pearl",
          "226. The Exorcist",
          "227. Rush",
          "228. Jai Bhim",
          "229. Network",
          "230. Stand by Me",
          "231. The Wizard of Oz",
          "232. The Incredibles",
          "233. Hachi: A Dog's Tale",
          "234. Ah-ga-ssi",
          "235. Into the Wild",
          "236. My Father and My Son",
          "237. The Sound of Music",
          "238. The Grapes of Wrath",
          "239. La battaglia di Algeri",
          "240. To Be or Not to Be",
          "241. Groundhog Day",
          "242. Amores perros",
          "243. Rebecca",
          "244. Cool Hand Luke",
          "245. The Iron Giant",
          "246. The Help",
          "247. It Happened One Night",
          "248. Aladdin",
          "249. Dances with Wolves",
          "250. Paris, Texas"
         ],
         "z": [
          1994,
          1972,
          2008,
          1974,
          1957,
          1993,
          2003,
          1994,
          2001,
          1966,
          1994,
          2002,
          1999,
          2010,
          1980,
          2024,
          1999,
          1990,
          1975,
          1995,
          2014,
          1946,
          1954,
          1991,
          1998,
          2002,
          1997,
          1999,
          1991,
          1977,
          1985,
          2001,
          2002,
          2019,
          1960,
          2023,
          2000,
          1994,
          1994,
          2006,
          1998,
          2014,
          2006,
          1988,
          1962,
          1995,
          1942,
          2011,
          1988,
          1936,
          1954,
          1968,
          1979,
          1931,
          1979,
          2012,
          2000,
          2023,
          2008,
          1981,
          2006,
          1950,
          1957,
          2018,
          2018,
          1957,
          1980,
          1940,
          1986,
          2009,
          2012,
          1964,
          1999,
          2003,
          2017,
          1984,
          1995,
          1981,
          1995,
          2019,
          2019,
          1997,
          1997,
          2016,
          1984,
          1963,
          2009,
          1952,
          2018,
          2000,
          2023,
          1985,
          2010,
          1983,
          2004,
          2012,
          1968,
          1992,
          1952,
          1962,
          1960,
          1959,
          1941,
          2010,
          1958,
          1931,
          1944,
          1983,
          2001,
          1987,
          1995,
          1971,
          2009,
          1962,
          1973,
          2011,
          1989,
          1988,
          1927,
          2007,
          2020,
          2000,
          1997,
          1948,
          2019,
          1976,
          2004,
          2016,
          1965,
          2005,
          2013,
          1959,
          2018,
          1921,
          2020,
          1961,
          1950,
          1998,
          2022,
          2010,
          2007,
          1995,
          1985,
          1993,
          1999,
          2006,
          1992,
          2007,
          2001,
          1982,
          1948,
          2003,
          1961,
          1975,
          1963,
          2003,
          1950,
          2013,
          2004,
          1980,
          1974,
          1954,
          1939,
          2005,
          1998,
          2009,
          2015,
          1980,
          2017,
          1996,
          1957,
          2021,
          1996,
          2019,
          2002,
          2011,
          2023,
          2008,
          1988,
          2004,
          2011,
          1997,
          2013,
          1982,
          1995,
          1959,
          2014,
          1975,
          2014,
          2016,
          1925,
          2003,
          1993,
          1989,
          1954,
          1926,
          1978,
          2014,
          2015,
          2001,
          1924,
          1949,
          1957,
          1953,
          1975,
          2010,
          2009,
          1939,
          2007,
          2019,
          1998,
          2015,
          1953,
          1957,
          1976,
          2017,
          2015,
          2004,
          1986,
          1984,
          1928,
          2004,
          1995,
          1946,
          2003,
          1973,
          2013,
          2021,
          1976,
          1986,
          1939,
          2004,
          2009,
          2016,
          2007,
          2005,
          1965,
          1940,
          1966,
          1942,
          1993,
          2000,
          1940,
          1967,
          1999,
          2011,
          1934,
          1992,
          1990,
          1984
         ]
        }
       ],
       "layout": {
        "scene": {
         "xaxis": {
          "title": {
           "text": "Ratings"
          }
         },
         "yaxis": {
          "title": {
           "text": "Votings"
          }
         },
         "zaxis": {
          "title": {
           "text": "Release Year"
          }
         }
        },
        "template": {
         "data": {
          "bar": [
           {
            "error_x": {
             "color": "#2a3f5f"
            },
            "error_y": {
             "color": "#2a3f5f"
            },
            "marker": {
             "line": {
              "color": "#E5ECF6",
              "width": 0.5
             },
             "pattern": {
              "fillmode": "overlay",
              "size": 10,
              "solidity": 0.2
             }
            },
            "type": "bar"
           }
          ],
          "barpolar": [
           {
            "marker": {
             "line": {
              "color": "#E5ECF6",
              "width": 0.5
             },
             "pattern": {
              "fillmode": "overlay",
              "size": 10,
              "solidity": 0.2
             }
            },
            "type": "barpolar"
           }
          ],
          "carpet": [
           {
            "aaxis": {
             "endlinecolor": "#2a3f5f",
             "gridcolor": "white",
             "linecolor": "white",
             "minorgridcolor": "white",
             "startlinecolor": "#2a3f5f"
            },
            "baxis": {
             "endlinecolor": "#2a3f5f",
             "gridcolor": "white",
             "linecolor": "white",
             "minorgridcolor": "white",
             "startlinecolor": "#2a3f5f"
            },
            "type": "carpet"
           }
          ],
          "choropleth": [
           {
            "colorbar": {
             "outlinewidth": 0,
             "ticks": ""
            },
            "type": "choropleth"
           }
          ],
          "contour": [
           {
            "colorbar": {
             "outlinewidth": 0,
             "ticks": ""
            },
            "colorscale": [
             [
              0,
              "#0d0887"
             ],
             [
              0.1111111111111111,
              "#46039f"
             ],
             [
              0.2222222222222222,
              "#7201a8"
             ],
             [
              0.3333333333333333,
              "#9c179e"
             ],
             [
              0.4444444444444444,
              "#bd3786"
             ],
             [
              0.5555555555555556,
              "#d8576b"
             ],
             [
              0.6666666666666666,
              "#ed7953"
             ],
             [
              0.7777777777777778,
              "#fb9f3a"
             ],
             [
              0.8888888888888888,
              "#fdca26"
             ],
             [
              1,
              "#f0f921"
             ]
            ],
            "type": "contour"
           }
          ],
          "contourcarpet": [
           {
            "colorbar": {
             "outlinewidth": 0,
             "ticks": ""
            },
            "type": "contourcarpet"
           }
          ],
          "heatmap": [
           {
            "colorbar": {
             "outlinewidth": 0,
             "ticks": ""
            },
            "colorscale": [
             [
              0,
              "#0d0887"
             ],
             [
              0.1111111111111111,
              "#46039f"
             ],
             [
              0.2222222222222222,
              "#7201a8"
             ],
             [
              0.3333333333333333,
              "#9c179e"
             ],
             [
              0.4444444444444444,
              "#bd3786"
             ],
             [
              0.5555555555555556,
              "#d8576b"
             ],
             [
              0.6666666666666666,
              "#ed7953"
             ],
             [
              0.7777777777777778,
              "#fb9f3a"
             ],
             [
              0.8888888888888888,
              "#fdca26"
             ],
             [
              1,
              "#f0f921"
             ]
            ],
            "type": "heatmap"
           }
          ],
          "heatmapgl": [
           {
            "colorbar": {
             "outlinewidth": 0,
             "ticks": ""
            },
            "colorscale": [
             [
              0,
              "#0d0887"
             ],
             [
              0.1111111111111111,
              "#46039f"
             ],
             [
              0.2222222222222222,
              "#7201a8"
             ],
             [
              0.3333333333333333,
              "#9c179e"
             ],
             [
              0.4444444444444444,
              "#bd3786"
             ],
             [
              0.5555555555555556,
              "#d8576b"
             ],
             [
              0.6666666666666666,
              "#ed7953"
             ],
             [
              0.7777777777777778,
              "#fb9f3a"
             ],
             [
              0.8888888888888888,
              "#fdca26"
             ],
             [
              1,
              "#f0f921"
             ]
            ],
            "type": "heatmapgl"
           }
          ],
          "histogram": [
           {
            "marker": {
             "pattern": {
              "fillmode": "overlay",
              "size": 10,
              "solidity": 0.2
             }
            },
            "type": "histogram"
           }
          ],
          "histogram2d": [
           {
            "colorbar": {
             "outlinewidth": 0,
             "ticks": ""
            },
            "colorscale": [
             [
              0,
              "#0d0887"
             ],
             [
              0.1111111111111111,
              "#46039f"
             ],
             [
              0.2222222222222222,
              "#7201a8"
             ],
             [
              0.3333333333333333,
              "#9c179e"
             ],
             [
              0.4444444444444444,
              "#bd3786"
             ],
             [
              0.5555555555555556,
              "#d8576b"
             ],
             [
              0.6666666666666666,
              "#ed7953"
             ],
             [
              0.7777777777777778,
              "#fb9f3a"
             ],
             [
              0.8888888888888888,
              "#fdca26"
             ],
             [
              1,
              "#f0f921"
             ]
            ],
            "type": "histogram2d"
           }
          ],
          "histogram2dcontour": [
           {
            "colorbar": {
             "outlinewidth": 0,
             "ticks": ""
            },
            "colorscale": [
             [
              0,
              "#0d0887"
             ],
             [
              0.1111111111111111,
              "#46039f"
             ],
             [
              0.2222222222222222,
              "#7201a8"
             ],
             [
              0.3333333333333333,
              "#9c179e"
             ],
             [
              0.4444444444444444,
              "#bd3786"
             ],
             [
              0.5555555555555556,
              "#d8576b"
             ],
             [
              0.6666666666666666,
              "#ed7953"
             ],
             [
              0.7777777777777778,
              "#fb9f3a"
             ],
             [
              0.8888888888888888,
              "#fdca26"
             ],
             [
              1,
              "#f0f921"
             ]
            ],
            "type": "histogram2dcontour"
           }
          ],
          "mesh3d": [
           {
            "colorbar": {
             "outlinewidth": 0,
             "ticks": ""
            },
            "type": "mesh3d"
           }
          ],
          "parcoords": [
           {
            "line": {
             "colorbar": {
              "outlinewidth": 0,
              "ticks": ""
             }
            },
            "type": "parcoords"
           }
          ],
          "pie": [
           {
            "automargin": true,
            "type": "pie"
           }
          ],
          "scatter": [
           {
            "fillpattern": {
             "fillmode": "overlay",
             "size": 10,
             "solidity": 0.2
            },
            "type": "scatter"
           }
          ],
          "scatter3d": [
           {
            "line": {
             "colorbar": {
              "outlinewidth": 0,
              "ticks": ""
             }
            },
            "marker": {
             "colorbar": {
              "outlinewidth": 0,
              "ticks": ""
             }
            },
            "type": "scatter3d"
           }
          ],
          "scattercarpet": [
           {
            "marker": {
             "colorbar": {
              "outlinewidth": 0,
              "ticks": ""
             }
            },
            "type": "scattercarpet"
           }
          ],
          "scattergeo": [
           {
            "marker": {
             "colorbar": {
              "outlinewidth": 0,
              "ticks": ""
             }
            },
            "type": "scattergeo"
           }
          ],
          "scattergl": [
           {
            "marker": {
             "colorbar": {
              "outlinewidth": 0,
              "ticks": ""
             }
            },
            "type": "scattergl"
           }
          ],
          "scattermapbox": [
           {
            "marker": {
             "colorbar": {
              "outlinewidth": 0,
              "ticks": ""
             }
            },
            "type": "scattermapbox"
           }
          ],
          "scatterpolar": [
           {
            "marker": {
             "colorbar": {
              "outlinewidth": 0,
              "ticks": ""
             }
            },
            "type": "scatterpolar"
           }
          ],
          "scatterpolargl": [
           {
            "marker": {
             "colorbar": {
              "outlinewidth": 0,
              "ticks": ""
             }
            },
            "type": "scatterpolargl"
           }
          ],
          "scatterternary": [
           {
            "marker": {
             "colorbar": {
              "outlinewidth": 0,
              "ticks": ""
             }
            },
            "type": "scatterternary"
           }
          ],
          "surface": [
           {
            "colorbar": {
             "outlinewidth": 0,
             "ticks": ""
            },
            "colorscale": [
             [
              0,
              "#0d0887"
             ],
             [
              0.1111111111111111,
              "#46039f"
             ],
             [
              0.2222222222222222,
              "#7201a8"
             ],
             [
              0.3333333333333333,
              "#9c179e"
             ],
             [
              0.4444444444444444,
              "#bd3786"
             ],
             [
              0.5555555555555556,
              "#d8576b"
             ],
             [
              0.6666666666666666,
              "#ed7953"
             ],
             [
              0.7777777777777778,
              "#fb9f3a"
             ],
             [
              0.8888888888888888,
              "#fdca26"
             ],
             [
              1,
              "#f0f921"
             ]
            ],
            "type": "surface"
           }
          ],
          "table": [
           {
            "cells": {
             "fill": {
              "color": "#EBF0F8"
             },
             "line": {
              "color": "white"
             }
            },
            "header": {
             "fill": {
              "color": "#C8D4E3"
             },
             "line": {
              "color": "white"
             }
            },
            "type": "table"
           }
          ]
         },
         "layout": {
          "annotationdefaults": {
           "arrowcolor": "#2a3f5f",
           "arrowhead": 0,
           "arrowwidth": 1
          },
          "autotypenumbers": "strict",
          "coloraxis": {
           "colorbar": {
            "outlinewidth": 0,
            "ticks": ""
           }
          },
          "colorscale": {
           "diverging": [
            [
             0,
             "#8e0152"
            ],
            [
             0.1,
             "#c51b7d"
            ],
            [
             0.2,
             "#de77ae"
            ],
            [
             0.3,
             "#f1b6da"
            ],
            [
             0.4,
             "#fde0ef"
            ],
            [
             0.5,
             "#f7f7f7"
            ],
            [
             0.6,
             "#e6f5d0"
            ],
            [
             0.7,
             "#b8e186"
            ],
            [
             0.8,
             "#7fbc41"
            ],
            [
             0.9,
             "#4d9221"
            ],
            [
             1,
             "#276419"
            ]
           ],
           "sequential": [
            [
             0,
             "#0d0887"
            ],
            [
             0.1111111111111111,
             "#46039f"
            ],
            [
             0.2222222222222222,
             "#7201a8"
            ],
            [
             0.3333333333333333,
             "#9c179e"
            ],
            [
             0.4444444444444444,
             "#bd3786"
            ],
            [
             0.5555555555555556,
             "#d8576b"
            ],
            [
             0.6666666666666666,
             "#ed7953"
            ],
            [
             0.7777777777777778,
             "#fb9f3a"
            ],
            [
             0.8888888888888888,
             "#fdca26"
            ],
            [
             1,
             "#f0f921"
            ]
           ],
           "sequentialminus": [
            [
             0,
             "#0d0887"
            ],
            [
             0.1111111111111111,
             "#46039f"
            ],
            [
             0.2222222222222222,
             "#7201a8"
            ],
            [
             0.3333333333333333,
             "#9c179e"
            ],
            [
             0.4444444444444444,
             "#bd3786"
            ],
            [
             0.5555555555555556,
             "#d8576b"
            ],
            [
             0.6666666666666666,
             "#ed7953"
            ],
            [
             0.7777777777777778,
             "#fb9f3a"
            ],
            [
             0.8888888888888888,
             "#fdca26"
            ],
            [
             1,
             "#f0f921"
            ]
           ]
          },
          "colorway": [
           "#636efa",
           "#EF553B",
           "#00cc96",
           "#ab63fa",
           "#FFA15A",
           "#19d3f3",
           "#FF6692",
           "#B6E880",
           "#FF97FF",
           "#FECB52"
          ],
          "font": {
           "color": "#2a3f5f"
          },
          "geo": {
           "bgcolor": "white",
           "lakecolor": "white",
           "landcolor": "#E5ECF6",
           "showlakes": true,
           "showland": true,
           "subunitcolor": "white"
          },
          "hoverlabel": {
           "align": "left"
          },
          "hovermode": "closest",
          "mapbox": {
           "style": "light"
          },
          "paper_bgcolor": "white",
          "plot_bgcolor": "#E5ECF6",
          "polar": {
           "angularaxis": {
            "gridcolor": "white",
            "linecolor": "white",
            "ticks": ""
           },
           "bgcolor": "#E5ECF6",
           "radialaxis": {
            "gridcolor": "white",
            "linecolor": "white",
            "ticks": ""
           }
          },
          "scene": {
           "xaxis": {
            "backgroundcolor": "#E5ECF6",
            "gridcolor": "white",
            "gridwidth": 2,
            "linecolor": "white",
            "showbackground": true,
            "ticks": "",
            "zerolinecolor": "white"
           },
           "yaxis": {
            "backgroundcolor": "#E5ECF6",
            "gridcolor": "white",
            "gridwidth": 2,
            "linecolor": "white",
            "showbackground": true,
            "ticks": "",
            "zerolinecolor": "white"
           },
           "zaxis": {
            "backgroundcolor": "#E5ECF6",
            "gridcolor": "white",
            "gridwidth": 2,
            "linecolor": "white",
            "showbackground": true,
            "ticks": "",
            "zerolinecolor": "white"
           }
          },
          "shapedefaults": {
           "line": {
            "color": "#2a3f5f"
           }
          },
          "ternary": {
           "aaxis": {
            "gridcolor": "white",
            "linecolor": "white",
            "ticks": ""
           },
           "baxis": {
            "gridcolor": "white",
            "linecolor": "white",
            "ticks": ""
           },
           "bgcolor": "#E5ECF6",
           "caxis": {
            "gridcolor": "white",
            "linecolor": "white",
            "ticks": ""
           }
          },
          "title": {
           "x": 0.05
          },
          "xaxis": {
           "automargin": true,
           "gridcolor": "white",
           "linecolor": "white",
           "ticks": "",
           "title": {
            "standoff": 15
           },
           "zerolinecolor": "white",
           "zerolinewidth": 2
          },
          "yaxis": {
           "automargin": true,
           "gridcolor": "white",
           "linecolor": "white",
           "ticks": "",
           "title": {
            "standoff": 15
           },
           "zerolinecolor": "white",
           "zerolinewidth": 2
          }
         }
        },
        "title": {
         "text": "Ratings vs. Movie Name vs. Release Year"
        }
       }
      },
      "text/html": [
       "<div>                            <div id=\"723a5e08-e54e-410f-8e2b-8971c13b888f\" class=\"plotly-graph-div\" style=\"height:525px; width:100%;\"></div>            <script type=\"text/javascript\">                require([\"plotly\"], function(Plotly) {                    window.PLOTLYENV=window.PLOTLYENV || {};                                    if (document.getElementById(\"723a5e08-e54e-410f-8e2b-8971c13b888f\")) {                    Plotly.newPlot(                        \"723a5e08-e54e-410f-8e2b-8971c13b888f\",                        [{\"marker\":{\"color\":\"red\",\"opacity\":0.8,\"size\":5},\"mode\":\"markers\",\"x\":[9.3,9.2,9.0,9.0,9.0,9.0,9.0,8.9,8.9,8.8,8.8,8.8,8.8,8.8,8.7,8.8,8.7,8.7,8.7,8.6,8.7,8.6,8.6,8.6,8.6,8.6,8.6,8.6,8.6,8.6,8.5,8.6,8.5,8.5,8.5,8.6,8.5,8.5,8.5,8.5,8.5,8.5,8.5,8.5,8.6,8.5,8.5,8.5,8.5,8.5,8.5,8.5,8.5,8.5,8.4,8.5,8.4,9.0,8.4,8.4,8.4,8.4,8.4,8.4,8.4,8.4,8.4,8.4,8.4,8.4,8.4,8.4,8.3,8.3,8.4,8.4,8.3,8.4,8.3,8.4,8.4,8.3,8.3,8.4,8.3,8.4,8.4,8.3,8.4,8.3,8.3,8.4,8.3,8.3,8.3,8.3,8.3,8.3,8.3,8.3,8.3,8.3,8.3,8.3,8.3,8.3,8.3,8.3,8.3,8.3,8.3,8.3,8.3,8.3,8.3,8.3,8.2,8.2,8.3,8.3,8.3,8.2,8.2,8.3,8.2,8.2,8.2,8.3,8.2,8.2,8.2,8.2,8.2,8.2,8.2,8.3,8.2,8.2,8.2,8.2,8.2,8.2,8.2,8.2,8.2,8.2,8.2,8.2,8.2,8.2,8.2,8.2,8.2,8.2,8.2,8.2,8.2,8.2,8.2,8.2,8.1,8.2,8.2,8.2,8.1,8.2,8.1,8.1,8.1,8.1,8.1,8.2,8.1,8.2,8.1,8.1,8.3,8.1,8.1,8.1,8.1,8.2,8.1,8.1,8.1,8.1,8.1,8.1,8.1,8.1,8.1,8.1,8.1,8.1,8.1,8.1,8.1,8.1,8.1,8.1,8.2,8.1,8.1,8.2,8.1,8.1,8.1,8.1,8.1,8.1,8.1,8.1,8.1,8.1,8.1,8.1,8.1,8.1,8.1,8.1,8.1,8.1,8.1,8.1,8.1,8.1,8.1,8.7,8.1,8.1,8.1,8.0,8.1,8.1,8.1,8.2,8.1,8.1,8.1,8.1,8.0,8.1,8.1,8.1,8.1,8.1,8.1,8.0,8.0,8.1],\"y\":[\"1. The Shawshank Redemption\",\"2. The Godfather\",\"3. The Dark Knight\",\"4. The Godfather: Part II\",\"5. 12 Angry Men\",\"6. Schindler's List\",\"7. The Lord of the Rings: The Return of the King\",\"8. Pulp Fiction\",\"9. The Lord of the Rings: The Fellowship of the Ring\",\"10. Il Buono, Il Brutto, Il Cattivo\",\"11. Forrest Gump\",\"12. The Lord of the Rings: The Two Towers\",\"13. Fight Club\",\"14. Inception\",\"15. Star Wars: Episode V - The Empire Strikes Back\",\"16. Dune: Part Two\",\"17. The Matrix\",\"18. GoodFellas\",\"19. One Flew Over the Cuckoo's Nest\",\"20. Se7en\",\"21. Interstellar\",\"22. It's a Wonderful Life\",\"23. Shichinin No Samurai\",\"24. The Silence of the Lambs\",\"25. Saving Private Ryan\",\"26. City of God\",\"27. Life Is Beautiful\",\"28. The Green Mile\",\"29. Terminator 2: Judgment Day\",\"30. Star Wars: Episode IV - A New Hope\",\"31. Back to the Future\",\"32. Spirited Away\",\"33. The Pianist\",\"34. Parasite\",\"35. Psycho\",\"36. Spider-man: Across the Spider-verse\",\"37. Gladiator\",\"38. The Lion King\",\"39. L\\u00e9on\",\"40. The Departed\",\"41. American History X\",\"42. Whiplash\",\"43. The Prestige\",\"44. Grave of the Fireflies\",\"45. Seppuku\",\"46. The Usual Suspects\",\"47. Casablanca\",\"48. Intouchables\",\"49. Cinema Paradiso\",\"50. Modern Times\",\"51. Rear Window\",\"52. C'era Una Volta Il West\",\"53. Alien\",\"54. City Lights\",\"55. Apocalypse Now\",\"56. Django Unchained\",\"57. Memento\",\"58. 12th Fail\",\"59. WALL\\u00b7E\",\"60. Raiders of the Lost Ark\",\"61. Das Leben der Anderen\",\"62. Sunset Blvd.\",\"63. Paths of Glory\",\"64. Avengers: Infinity War\",\"65. Spider-Man: Into the Spider-Verse\",\"66. Witness for the Prosecution\",\"67. The Shining\",\"68. The Great Dictator\",\"69. Alien 2\",\"70. Inglourious Basterds\",\"71. The Dark Knight Rises\",\"72. Dr. Strangelove or: How I Learned to Stop Worrying and Love the Bomb\",\"73. American Beauty\",\"74. Oldeuboi\",\"75. Coco\",\"76. Amadeus\",\"77. Toy Story\",\"78. Das Boot\",\"79. Braveheart\",\"80. Avengers: Endgame\",\"81. Joker\",\"82. Mononoke-hime\",\"83. Good Will Hunting\",\"84. Kimi No Na Wa.\",\"85. Once Upon a Time in America\",\"86. Tengoku to Jigoku\",\"87. 3 Idiots\",\"88. Singin' in the Rain\",\"89. Capharna\\u00fcm\",\"90. Requiem for a Dream\",\"91. Oppenheimer\",\"92. Idi I Smotri\",\"93. Toy Story 3\",\"94. Star Wars: Episode VI - Return of the Jedi\",\"95. Eternal Sunshine of the Spotless Mind\",\"96. Jagten\",\"97. 2001: A Space Odyssey\",\"98. Reservoir Dogs\",\"99. Ikiru\",\"100. Lawrence of Arabia\",\"101. The Apartment\",\"102. North by Northwest\",\"103. Citizen Kane\",\"104. Incendies\",\"105. Vertigo\",\"106. M - Eine Stadt sucht einen M\\u00f6rder\",\"107. Double Indemnity\",\"108. Scarface\",\"109. Le fabuleux destin d'Am\\u00e9lie Poulain\",\"110. Full Metal Jacket\",\"111. Heat\",\"112. A Clockwork Orange\",\"113. Up\",\"114. To Kill a Mockingbird\",\"115. The Sting\",\"116. Jodaeiye Nader Az Simin\",\"117. Indiana Jones and the Last Crusade\",\"118. Die Hard\",\"119. Metropolis\",\"120. Taare Zameen Par\",\"121. Hamilton\",\"122. Snatch\",\"123. L.A. Confidential\",\"124. Ladri Di Biciclette\",\"125. 1917\",\"126. Taxi Driver\",\"127. Der Untergang\",\"128. Dangal\",\"129. Per qualche dollaro in pi\\u00f9\",\"130. Batman Begins\",\"131. The Wolf of Wall Street\",\"132. Some Like It Hot\",\"133. Green Book\",\"134. The Kid\",\"135. The Father\",\"136. Judgment at Nuremberg\",\"137. All About Eve\",\"138. The Truman Show\",\"139. Top Gun: Maverick\",\"140. Shutter Island\",\"141. There Will Be Blood\",\"142. Casino\",\"143. Ran\",\"144. Jurassic Park\",\"145. The Sixth Sense\",\"146. El Laberinto Del Fauno\",\"147. Unforgiven\",\"148. No Country for Old Men\",\"149. A Beautiful Mind\",\"150. The Thing\",\"151. The Treasure of the Sierra Madre\",\"152. Kill Bill: Vol. 1\",\"153. Yojimbo\",\"154. Monty Python and the Holy Grail\",\"155. The Great Escape\",\"156. Finding Nemo\",\"157. Rash\\u014dmon\",\"158. Prisoners\",\"159. Hauru No Ugoku Shiro\",\"160. The Elephant Man\",\"161. Chinatown\",\"162. Dial M for Murder\",\"163. Gone with the Wind\",\"164. V for Vendetta\",\"165. Lock, Stock and Two Smoking Barrels\",\"166. El Secreto De Sus Ojos\",\"167. Inside Out\",\"168. Raging Bull\",\"169. Three Billboards Outside Ebbing, Missouri\",\"170. Trainspotting\",\"171. The Bridge on the River Kwai\",\"172. Spider-Man: No Way Home\",\"173. Fargo\",\"174. Klaus\",\"175. Catch Me If You Can\",\"176. Warrior\",\"177. Godzilla Minus One\",\"178. Gran Torino\",\"179. My Neighbour Totoro\",\"180. Million Dollar Baby\",\"181. Harry Potter and the Deathly Hallows: Part 2\",\"182. Bacheha-Ye Aseman\",\"183. 12 Years a Slave\",\"184. Blade Runner\",\"185. Before Sunrise\",\"186. Ben-Hur\",\"187. The Grand Budapest Hotel\",\"188. Barry Lyndon\",\"189. Gone Girl\",\"190. Hacksaw Ridge\",\"191. The Gold Rush\",\"192. Salinui Chueok\",\"193. In the Name of the Father\",\"194. Dead Poets Society\",\"195. On the Waterfront\",\"196. The General\",\"197. The Deer Hunter\",\"198. Relatos Salvajes\",\"199. Mad Max: Fury Road\",\"200. Monsters, Inc.\",\"201. Sherlock Jr.\",\"202. The Third Man\",\"203. Smultronst\\u00e4llet\",\"204. Le Salaire De La Peur\",\"205. Jaws\",\"206. How to Train Your Dragon\",\"207. Mary and Max\",\"208. Mr. Smith Goes to Washington\",\"209. Ratatouille\",\"210. Ford v. Ferrari\",\"211. The Big Lebowski\",\"212. Room\",\"213. Tokyo Story\",\"214. Det Sjunde Inseglet\",\"215. Rocky\",\"216. Logan\",\"217. Spotlight\",\"218. Hotel Rwanda\",\"219. Platoon\",\"220. The Terminator\",\"221. La passion de Jeanne d'Arc\",\"222. Before Sunset\",\"223. La haine\",\"224. The Best Years of Our Lives\",\"225. Pirates of the Caribbean: The Curse of the Black Pearl\",\"226. The Exorcist\",\"227. Rush\",\"228. Jai Bhim\",\"229. Network\",\"230. Stand by Me\",\"231. The Wizard of Oz\",\"232. The Incredibles\",\"233. Hachi: A Dog's Tale\",\"234. Ah-ga-ssi\",\"235. Into the Wild\",\"236. My Father and My Son\",\"237. The Sound of Music\",\"238. The Grapes of Wrath\",\"239. La battaglia di Algeri\",\"240. To Be or Not to Be\",\"241. Groundhog Day\",\"242. Amores perros\",\"243. Rebecca\",\"244. Cool Hand Luke\",\"245. The Iron Giant\",\"246. The Help\",\"247. It Happened One Night\",\"248. Aladdin\",\"249. Dances with Wolves\",\"250. Paris, Texas\"],\"z\":[1994,1972,2008,1974,1957,1993,2003,1994,2001,1966,1994,2002,1999,2010,1980,2024,1999,1990,1975,1995,2014,1946,1954,1991,1998,2002,1997,1999,1991,1977,1985,2001,2002,2019,1960,2023,2000,1994,1994,2006,1998,2014,2006,1988,1962,1995,1942,2011,1988,1936,1954,1968,1979,1931,1979,2012,2000,2023,2008,1981,2006,1950,1957,2018,2018,1957,1980,1940,1986,2009,2012,1964,1999,2003,2017,1984,1995,1981,1995,2019,2019,1997,1997,2016,1984,1963,2009,1952,2018,2000,2023,1985,2010,1983,2004,2012,1968,1992,1952,1962,1960,1959,1941,2010,1958,1931,1944,1983,2001,1987,1995,1971,2009,1962,1973,2011,1989,1988,1927,2007,2020,2000,1997,1948,2019,1976,2004,2016,1965,2005,2013,1959,2018,1921,2020,1961,1950,1998,2022,2010,2007,1995,1985,1993,1999,2006,1992,2007,2001,1982,1948,2003,1961,1975,1963,2003,1950,2013,2004,1980,1974,1954,1939,2005,1998,2009,2015,1980,2017,1996,1957,2021,1996,2019,2002,2011,2023,2008,1988,2004,2011,1997,2013,1982,1995,1959,2014,1975,2014,2016,1925,2003,1993,1989,1954,1926,1978,2014,2015,2001,1924,1949,1957,1953,1975,2010,2009,1939,2007,2019,1998,2015,1953,1957,1976,2017,2015,2004,1986,1984,1928,2004,1995,1946,2003,1973,2013,2021,1976,1986,1939,2004,2009,2016,2007,2005,1965,1940,1966,1942,1993,2000,1940,1967,1999,2011,1934,1992,1990,1984],\"type\":\"scatter3d\"}],                        {\"template\":{\"data\":{\"histogram2dcontour\":[{\"type\":\"histogram2dcontour\",\"colorbar\":{\"outlinewidth\":0,\"ticks\":\"\"},\"colorscale\":[[0.0,\"#0d0887\"],[0.1111111111111111,\"#46039f\"],[0.2222222222222222,\"#7201a8\"],[0.3333333333333333,\"#9c179e\"],[0.4444444444444444,\"#bd3786\"],[0.5555555555555556,\"#d8576b\"],[0.6666666666666666,\"#ed7953\"],[0.7777777777777778,\"#fb9f3a\"],[0.8888888888888888,\"#fdca26\"],[1.0,\"#f0f921\"]]}],\"choropleth\":[{\"type\":\"choropleth\",\"colorbar\":{\"outlinewidth\":0,\"ticks\":\"\"}}],\"histogram2d\":[{\"type\":\"histogram2d\",\"colorbar\":{\"outlinewidth\":0,\"ticks\":\"\"},\"colorscale\":[[0.0,\"#0d0887\"],[0.1111111111111111,\"#46039f\"],[0.2222222222222222,\"#7201a8\"],[0.3333333333333333,\"#9c179e\"],[0.4444444444444444,\"#bd3786\"],[0.5555555555555556,\"#d8576b\"],[0.6666666666666666,\"#ed7953\"],[0.7777777777777778,\"#fb9f3a\"],[0.8888888888888888,\"#fdca26\"],[1.0,\"#f0f921\"]]}],\"heatmap\":[{\"type\":\"heatmap\",\"colorbar\":{\"outlinewidth\":0,\"ticks\":\"\"},\"colorscale\":[[0.0,\"#0d0887\"],[0.1111111111111111,\"#46039f\"],[0.2222222222222222,\"#7201a8\"],[0.3333333333333333,\"#9c179e\"],[0.4444444444444444,\"#bd3786\"],[0.5555555555555556,\"#d8576b\"],[0.6666666666666666,\"#ed7953\"],[0.7777777777777778,\"#fb9f3a\"],[0.8888888888888888,\"#fdca26\"],[1.0,\"#f0f921\"]]}],\"heatmapgl\":[{\"type\":\"heatmapgl\",\"colorbar\":{\"outlinewidth\":0,\"ticks\":\"\"},\"colorscale\":[[0.0,\"#0d0887\"],[0.1111111111111111,\"#46039f\"],[0.2222222222222222,\"#7201a8\"],[0.3333333333333333,\"#9c179e\"],[0.4444444444444444,\"#bd3786\"],[0.5555555555555556,\"#d8576b\"],[0.6666666666666666,\"#ed7953\"],[0.7777777777777778,\"#fb9f3a\"],[0.8888888888888888,\"#fdca26\"],[1.0,\"#f0f921\"]]}],\"contourcarpet\":[{\"type\":\"contourcarpet\",\"colorbar\":{\"outlinewidth\":0,\"ticks\":\"\"}}],\"contour\":[{\"type\":\"contour\",\"colorbar\":{\"outlinewidth\":0,\"ticks\":\"\"},\"colorscale\":[[0.0,\"#0d0887\"],[0.1111111111111111,\"#46039f\"],[0.2222222222222222,\"#7201a8\"],[0.3333333333333333,\"#9c179e\"],[0.4444444444444444,\"#bd3786\"],[0.5555555555555556,\"#d8576b\"],[0.6666666666666666,\"#ed7953\"],[0.7777777777777778,\"#fb9f3a\"],[0.8888888888888888,\"#fdca26\"],[1.0,\"#f0f921\"]]}],\"surface\":[{\"type\":\"surface\",\"colorbar\":{\"outlinewidth\":0,\"ticks\":\"\"},\"colorscale\":[[0.0,\"#0d0887\"],[0.1111111111111111,\"#46039f\"],[0.2222222222222222,\"#7201a8\"],[0.3333333333333333,\"#9c179e\"],[0.4444444444444444,\"#bd3786\"],[0.5555555555555556,\"#d8576b\"],[0.6666666666666666,\"#ed7953\"],[0.7777777777777778,\"#fb9f3a\"],[0.8888888888888888,\"#fdca26\"],[1.0,\"#f0f921\"]]}],\"mesh3d\":[{\"type\":\"mesh3d\",\"colorbar\":{\"outlinewidth\":0,\"ticks\":\"\"}}],\"scatter\":[{\"fillpattern\":{\"fillmode\":\"overlay\",\"size\":10,\"solidity\":0.2},\"type\":\"scatter\"}],\"parcoords\":[{\"type\":\"parcoords\",\"line\":{\"colorbar\":{\"outlinewidth\":0,\"ticks\":\"\"}}}],\"scatterpolargl\":[{\"type\":\"scatterpolargl\",\"marker\":{\"colorbar\":{\"outlinewidth\":0,\"ticks\":\"\"}}}],\"bar\":[{\"error_x\":{\"color\":\"#2a3f5f\"},\"error_y\":{\"color\":\"#2a3f5f\"},\"marker\":{\"line\":{\"color\":\"#E5ECF6\",\"width\":0.5},\"pattern\":{\"fillmode\":\"overlay\",\"size\":10,\"solidity\":0.2}},\"type\":\"bar\"}],\"scattergeo\":[{\"type\":\"scattergeo\",\"marker\":{\"colorbar\":{\"outlinewidth\":0,\"ticks\":\"\"}}}],\"scatterpolar\":[{\"type\":\"scatterpolar\",\"marker\":{\"colorbar\":{\"outlinewidth\":0,\"ticks\":\"\"}}}],\"histogram\":[{\"marker\":{\"pattern\":{\"fillmode\":\"overlay\",\"size\":10,\"solidity\":0.2}},\"type\":\"histogram\"}],\"scattergl\":[{\"type\":\"scattergl\",\"marker\":{\"colorbar\":{\"outlinewidth\":0,\"ticks\":\"\"}}}],\"scatter3d\":[{\"type\":\"scatter3d\",\"line\":{\"colorbar\":{\"outlinewidth\":0,\"ticks\":\"\"}},\"marker\":{\"colorbar\":{\"outlinewidth\":0,\"ticks\":\"\"}}}],\"scattermapbox\":[{\"type\":\"scattermapbox\",\"marker\":{\"colorbar\":{\"outlinewidth\":0,\"ticks\":\"\"}}}],\"scatterternary\":[{\"type\":\"scatterternary\",\"marker\":{\"colorbar\":{\"outlinewidth\":0,\"ticks\":\"\"}}}],\"scattercarpet\":[{\"type\":\"scattercarpet\",\"marker\":{\"colorbar\":{\"outlinewidth\":0,\"ticks\":\"\"}}}],\"carpet\":[{\"aaxis\":{\"endlinecolor\":\"#2a3f5f\",\"gridcolor\":\"white\",\"linecolor\":\"white\",\"minorgridcolor\":\"white\",\"startlinecolor\":\"#2a3f5f\"},\"baxis\":{\"endlinecolor\":\"#2a3f5f\",\"gridcolor\":\"white\",\"linecolor\":\"white\",\"minorgridcolor\":\"white\",\"startlinecolor\":\"#2a3f5f\"},\"type\":\"carpet\"}],\"table\":[{\"cells\":{\"fill\":{\"color\":\"#EBF0F8\"},\"line\":{\"color\":\"white\"}},\"header\":{\"fill\":{\"color\":\"#C8D4E3\"},\"line\":{\"color\":\"white\"}},\"type\":\"table\"}],\"barpolar\":[{\"marker\":{\"line\":{\"color\":\"#E5ECF6\",\"width\":0.5},\"pattern\":{\"fillmode\":\"overlay\",\"size\":10,\"solidity\":0.2}},\"type\":\"barpolar\"}],\"pie\":[{\"automargin\":true,\"type\":\"pie\"}]},\"layout\":{\"autotypenumbers\":\"strict\",\"colorway\":[\"#636efa\",\"#EF553B\",\"#00cc96\",\"#ab63fa\",\"#FFA15A\",\"#19d3f3\",\"#FF6692\",\"#B6E880\",\"#FF97FF\",\"#FECB52\"],\"font\":{\"color\":\"#2a3f5f\"},\"hovermode\":\"closest\",\"hoverlabel\":{\"align\":\"left\"},\"paper_bgcolor\":\"white\",\"plot_bgcolor\":\"#E5ECF6\",\"polar\":{\"bgcolor\":\"#E5ECF6\",\"angularaxis\":{\"gridcolor\":\"white\",\"linecolor\":\"white\",\"ticks\":\"\"},\"radialaxis\":{\"gridcolor\":\"white\",\"linecolor\":\"white\",\"ticks\":\"\"}},\"ternary\":{\"bgcolor\":\"#E5ECF6\",\"aaxis\":{\"gridcolor\":\"white\",\"linecolor\":\"white\",\"ticks\":\"\"},\"baxis\":{\"gridcolor\":\"white\",\"linecolor\":\"white\",\"ticks\":\"\"},\"caxis\":{\"gridcolor\":\"white\",\"linecolor\":\"white\",\"ticks\":\"\"}},\"coloraxis\":{\"colorbar\":{\"outlinewidth\":0,\"ticks\":\"\"}},\"colorscale\":{\"sequential\":[[0.0,\"#0d0887\"],[0.1111111111111111,\"#46039f\"],[0.2222222222222222,\"#7201a8\"],[0.3333333333333333,\"#9c179e\"],[0.4444444444444444,\"#bd3786\"],[0.5555555555555556,\"#d8576b\"],[0.6666666666666666,\"#ed7953\"],[0.7777777777777778,\"#fb9f3a\"],[0.8888888888888888,\"#fdca26\"],[1.0,\"#f0f921\"]],\"sequentialminus\":[[0.0,\"#0d0887\"],[0.1111111111111111,\"#46039f\"],[0.2222222222222222,\"#7201a8\"],[0.3333333333333333,\"#9c179e\"],[0.4444444444444444,\"#bd3786\"],[0.5555555555555556,\"#d8576b\"],[0.6666666666666666,\"#ed7953\"],[0.7777777777777778,\"#fb9f3a\"],[0.8888888888888888,\"#fdca26\"],[1.0,\"#f0f921\"]],\"diverging\":[[0,\"#8e0152\"],[0.1,\"#c51b7d\"],[0.2,\"#de77ae\"],[0.3,\"#f1b6da\"],[0.4,\"#fde0ef\"],[0.5,\"#f7f7f7\"],[0.6,\"#e6f5d0\"],[0.7,\"#b8e186\"],[0.8,\"#7fbc41\"],[0.9,\"#4d9221\"],[1,\"#276419\"]]},\"xaxis\":{\"gridcolor\":\"white\",\"linecolor\":\"white\",\"ticks\":\"\",\"title\":{\"standoff\":15},\"zerolinecolor\":\"white\",\"automargin\":true,\"zerolinewidth\":2},\"yaxis\":{\"gridcolor\":\"white\",\"linecolor\":\"white\",\"ticks\":\"\",\"title\":{\"standoff\":15},\"zerolinecolor\":\"white\",\"automargin\":true,\"zerolinewidth\":2},\"scene\":{\"xaxis\":{\"backgroundcolor\":\"#E5ECF6\",\"gridcolor\":\"white\",\"linecolor\":\"white\",\"showbackground\":true,\"ticks\":\"\",\"zerolinecolor\":\"white\",\"gridwidth\":2},\"yaxis\":{\"backgroundcolor\":\"#E5ECF6\",\"gridcolor\":\"white\",\"linecolor\":\"white\",\"showbackground\":true,\"ticks\":\"\",\"zerolinecolor\":\"white\",\"gridwidth\":2},\"zaxis\":{\"backgroundcolor\":\"#E5ECF6\",\"gridcolor\":\"white\",\"linecolor\":\"white\",\"showbackground\":true,\"ticks\":\"\",\"zerolinecolor\":\"white\",\"gridwidth\":2}},\"shapedefaults\":{\"line\":{\"color\":\"#2a3f5f\"}},\"annotationdefaults\":{\"arrowcolor\":\"#2a3f5f\",\"arrowhead\":0,\"arrowwidth\":1},\"geo\":{\"bgcolor\":\"white\",\"landcolor\":\"#E5ECF6\",\"subunitcolor\":\"white\",\"showland\":true,\"showlakes\":true,\"lakecolor\":\"white\"},\"title\":{\"x\":0.05},\"mapbox\":{\"style\":\"light\"}}},\"title\":{\"text\":\"Ratings vs. Movie Name vs. Release Year\"},\"scene\":{\"xaxis\":{\"title\":{\"text\":\"Ratings\"}},\"yaxis\":{\"title\":{\"text\":\"Votings\"}},\"zaxis\":{\"title\":{\"text\":\"Release Year\"}}}},                        {\"responsive\": true}                    ).then(function(){\n",
       "                            \n",
       "var gd = document.getElementById('723a5e08-e54e-410f-8e2b-8971c13b888f');\n",
       "var x = new MutationObserver(function (mutations, observer) {{\n",
       "        var display = window.getComputedStyle(gd).display;\n",
       "        if (!display || display === 'none') {{\n",
       "            console.log([gd, 'removed!']);\n",
       "            Plotly.purge(gd);\n",
       "            observer.disconnect();\n",
       "        }}\n",
       "}});\n",
       "\n",
       "// Listen for the removal of the full notebook cells\n",
       "var notebookContainer = gd.closest('#notebook-container');\n",
       "if (notebookContainer) {{\n",
       "    x.observe(notebookContainer, {childList: true});\n",
       "}}\n",
       "\n",
       "// Listen for the clearing of the current output cell\n",
       "var outputEl = gd.closest('.output');\n",
       "if (outputEl) {{\n",
       "    x.observe(outputEl, {childList: true});\n",
       "}}\n",
       "\n",
       "                        })                };                });            </script>        </div>"
      ]
     },
     "metadata": {},
     "output_type": "display_data"
    }
   ],
   "source": [
    "fig = go.Figure(data=[go.Scatter3d(x=data['Ratings'], y=data['Movie Names'], z=data['Release Year'], mode='markers', \n",
    "                                   marker=dict(size=5, color='red', opacity=0.8))])\n",
    "fig.update_layout(title='Ratings vs. Movie Name vs. Release Year', \n",
    "                  scene=dict(xaxis_title='Ratings', yaxis_title='Votings', zaxis_title='Release Year'))\n",
    "fig.show()"
   ]
  },
  {
   "cell_type": "code",
   "execution_count": null,
   "id": "88a611a9",
   "metadata": {},
   "outputs": [],
   "source": []
  },
  {
   "cell_type": "code",
   "execution_count": null,
   "id": "084fdda5",
   "metadata": {},
   "outputs": [],
   "source": []
  },
  {
   "cell_type": "code",
   "execution_count": null,
   "id": "7bd3cf41",
   "metadata": {},
   "outputs": [],
   "source": []
  },
  {
   "cell_type": "code",
   "execution_count": null,
   "id": "6c0ddff6",
   "metadata": {},
   "outputs": [],
   "source": []
  },
  {
   "cell_type": "code",
   "execution_count": null,
   "id": "1033a7b7",
   "metadata": {},
   "outputs": [],
   "source": []
  },
  {
   "cell_type": "code",
   "execution_count": null,
   "id": "40f29168",
   "metadata": {},
   "outputs": [],
   "source": []
  },
  {
   "cell_type": "markdown",
   "id": "f6e736b7",
   "metadata": {},
   "source": [
    "In the for loop where we extract the movie titles, we use the replace() method to remove any newline characters and leading/trailing whitespace from the text.\n",
    "In the for loop where we extract the ratings, we use slicing to extract only the first three characters (i.e., the rating value) from the text.\n",
    "In the for loop where we extract the votings, we use regular expressions to extract the numeric part of the text and convert it to an integer.\n",
    "In the for loop where we extract the release years, we use regular expressions to extract the four-digit year value from the text.\n",
    "In the seaborn histogram of the votings, we use the kde=True argument to plot a kernel density estimate (KDE) curve along with the histogram.\n",
    "In the plotly histogram of the ratings, we use the nbins=100 argument to specify the number of bins in the histogram.\n",
    "In the plotly histogram of the release years, we use the nbins=100 argument to specify the number of bins in the histogram.\n",
    "In the plotly scatter plot of the ratings vs. votings, we use the title argument to add a title to the plot.\n",
    "In the plotly 3D scatter plot of the ratings vs. votings vs. release year, we use the scene argument to specify the x, y, and z axis labels."
   ]
  }
 ],
 "metadata": {
  "kernelspec": {
   "display_name": "Python 3 (ipykernel)",
   "language": "python",
   "name": "python3"
  },
  "language_info": {
   "codemirror_mode": {
    "name": "ipython",
    "version": 3
   },
   "file_extension": ".py",
   "mimetype": "text/x-python",
   "name": "python",
   "nbconvert_exporter": "python",
   "pygments_lexer": "ipython3",
   "version": "3.11.5"
  }
 },
 "nbformat": 4,
 "nbformat_minor": 5
}
